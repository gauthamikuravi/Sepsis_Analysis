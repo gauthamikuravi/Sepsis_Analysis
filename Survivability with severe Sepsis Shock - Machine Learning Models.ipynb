{
 "cells": [
  {
   "cell_type": "markdown",
   "metadata": {},
   "source": [
    "# Models to predict the mortality of sepsis patients"
   ]
  },
  {
   "cell_type": "code",
   "execution_count": 55,
   "metadata": {},
   "outputs": [],
   "source": [
    "import pandas as pd\n",
    "import numpy as np\n",
    "from sklearn import preprocessing\n",
    "import matplotlib.pyplot as plt\n",
    "import datetime\n",
    "from time import time\n",
    "import import_ipynb\n",
    "import warnings\n",
    "warnings.filterwarnings('ignore')\n",
    "\n",
    "%matplotlib inline\n",
    "import visuals as vs\n",
    "\n",
    "# Import supplementary visualization code visuals.py\n",
    "import visuals as vs"
   ]
  },
  {
   "cell_type": "markdown",
   "metadata": {},
   "source": [
    "## Extracting the clean data  "
   ]
  },
  {
   "cell_type": "code",
   "execution_count": 116,
   "metadata": {},
   "outputs": [],
   "source": [
    "import os\n",
    "os.getcwd()\n",
    "os.chdir(r'C:\\Users\\skura\\Desktop\\HAP\\Project')\n",
    "labevents = pd.read_csv(r'clean_sepsis_feature_list.csv')\n",
    "\n",
    "sepsis_features = pd.read_csv('clean_sepsis_feature_list.csv')"
   ]
  },
  {
   "cell_type": "code",
   "execution_count": 117,
   "metadata": {},
   "outputs": [
    {
     "data": {
      "text/plain": [
       "Index(['Unnamed: 0', 'subject_id', 'hadm_id', 'Alanine Aminotransferase (ALT)',\n",
       "       'Alkaline Phosphatase', 'Anion Gap', 'Asparate Aminotransferase (AST)',\n",
       "       'Basophils', 'Bicarbonate', 'Bilirubin, Total', 'Calcium, Total',\n",
       "       'Chloride', 'Creatinine', 'Eosinophils', 'Glucose', 'Hematocrit',\n",
       "       'Hemoglobin', 'INR(PT)', 'Lactate', 'Lymphocytes', 'MCH', 'MCHC', 'MCV',\n",
       "       'Magnesium', 'Monocytes', 'Neutrophils', 'PT', 'PTT', 'Phosphate',\n",
       "       'Platelet Count', 'Potassium', 'RDW', 'Red Blood Cells', 'Sodium',\n",
       "       'Specific Gravity', 'Urea Nitrogen', 'White Blood Cells', 'pH',\n",
       "       'admission_type', 'insurance', 'ethnicity', 'death_period', 'gender',\n",
       "       'age', 'BLOOD CULTURE', 'MRSA SCREEN', 'SPUTUM', 'STOOL', 'SWAB',\n",
       "       'URINE', 'num_of_infections'],\n",
       "      dtype='object')"
      ]
     },
     "execution_count": 117,
     "metadata": {},
     "output_type": "execute_result"
    }
   ],
   "source": [
    "sepsis_features.columns"
   ]
  },
  {
   "cell_type": "code",
   "execution_count": 118,
   "metadata": {},
   "outputs": [],
   "source": [
    "sepsis_features.drop(['Unnamed: 0'],axis=1,inplace=True)"
   ]
  },
  {
   "cell_type": "code",
   "execution_count": 59,
   "metadata": {},
   "outputs": [
    {
     "data": {
      "text/html": [
       "<div>\n",
       "<style scoped>\n",
       "    .dataframe tbody tr th:only-of-type {\n",
       "        vertical-align: middle;\n",
       "    }\n",
       "\n",
       "    .dataframe tbody tr th {\n",
       "        vertical-align: top;\n",
       "    }\n",
       "\n",
       "    .dataframe thead th {\n",
       "        text-align: right;\n",
       "    }\n",
       "</style>\n",
       "<table border=\"1\" class=\"dataframe\">\n",
       "  <thead>\n",
       "    <tr style=\"text-align: right;\">\n",
       "      <th></th>\n",
       "      <th>subject_id</th>\n",
       "      <th>hadm_id</th>\n",
       "      <th>Alanine Aminotransferase (ALT)</th>\n",
       "      <th>Alkaline Phosphatase</th>\n",
       "      <th>Anion Gap</th>\n",
       "      <th>Asparate Aminotransferase (AST)</th>\n",
       "      <th>Basophils</th>\n",
       "      <th>Bicarbonate</th>\n",
       "      <th>Bilirubin, Total</th>\n",
       "      <th>Calcium, Total</th>\n",
       "      <th>...</th>\n",
       "      <th>death_period</th>\n",
       "      <th>gender</th>\n",
       "      <th>age</th>\n",
       "      <th>BLOOD CULTURE</th>\n",
       "      <th>MRSA SCREEN</th>\n",
       "      <th>SPUTUM</th>\n",
       "      <th>STOOL</th>\n",
       "      <th>SWAB</th>\n",
       "      <th>URINE</th>\n",
       "      <th>num_of_infections</th>\n",
       "    </tr>\n",
       "  </thead>\n",
       "  <tbody>\n",
       "    <tr>\n",
       "      <th>0</th>\n",
       "      <td>21</td>\n",
       "      <td>111970</td>\n",
       "      <td>47.000000</td>\n",
       "      <td>167.000000</td>\n",
       "      <td>17.0</td>\n",
       "      <td>82.000000</td>\n",
       "      <td>0.00</td>\n",
       "      <td>23.50</td>\n",
       "      <td>0.300000</td>\n",
       "      <td>7.700000</td>\n",
       "      <td>...</td>\n",
       "      <td>1</td>\n",
       "      <td>M</td>\n",
       "      <td>87</td>\n",
       "      <td>1</td>\n",
       "      <td>0</td>\n",
       "      <td>0</td>\n",
       "      <td>1</td>\n",
       "      <td>0</td>\n",
       "      <td>0</td>\n",
       "      <td>2</td>\n",
       "    </tr>\n",
       "    <tr>\n",
       "      <th>1</th>\n",
       "      <td>94</td>\n",
       "      <td>183686</td>\n",
       "      <td>90.333333</td>\n",
       "      <td>68.666667</td>\n",
       "      <td>14.0</td>\n",
       "      <td>82.333333</td>\n",
       "      <td>0.85</td>\n",
       "      <td>23.25</td>\n",
       "      <td>1.033333</td>\n",
       "      <td>8.075000</td>\n",
       "      <td>...</td>\n",
       "      <td>0</td>\n",
       "      <td>M</td>\n",
       "      <td>74</td>\n",
       "      <td>0</td>\n",
       "      <td>0</td>\n",
       "      <td>0</td>\n",
       "      <td>0</td>\n",
       "      <td>0</td>\n",
       "      <td>0</td>\n",
       "      <td>0</td>\n",
       "    </tr>\n",
       "    <tr>\n",
       "      <th>2</th>\n",
       "      <td>157</td>\n",
       "      <td>107880</td>\n",
       "      <td>13.000000</td>\n",
       "      <td>118.000000</td>\n",
       "      <td>17.4</td>\n",
       "      <td>25.000000</td>\n",
       "      <td>0.00</td>\n",
       "      <td>18.00</td>\n",
       "      <td>0.600000</td>\n",
       "      <td>7.940000</td>\n",
       "      <td>...</td>\n",
       "      <td>0</td>\n",
       "      <td>M</td>\n",
       "      <td>80</td>\n",
       "      <td>0</td>\n",
       "      <td>0</td>\n",
       "      <td>0</td>\n",
       "      <td>0</td>\n",
       "      <td>0</td>\n",
       "      <td>2</td>\n",
       "      <td>3</td>\n",
       "    </tr>\n",
       "    <tr>\n",
       "      <th>3</th>\n",
       "      <td>166</td>\n",
       "      <td>128219</td>\n",
       "      <td>94.822544</td>\n",
       "      <td>141.192150</td>\n",
       "      <td>19.0</td>\n",
       "      <td>148.710368</td>\n",
       "      <td>0.00</td>\n",
       "      <td>24.00</td>\n",
       "      <td>1.501629</td>\n",
       "      <td>7.903004</td>\n",
       "      <td>...</td>\n",
       "      <td>1</td>\n",
       "      <td>F</td>\n",
       "      <td>91</td>\n",
       "      <td>1</td>\n",
       "      <td>0</td>\n",
       "      <td>0</td>\n",
       "      <td>0</td>\n",
       "      <td>0</td>\n",
       "      <td>0</td>\n",
       "      <td>1</td>\n",
       "    </tr>\n",
       "    <tr>\n",
       "      <th>4</th>\n",
       "      <td>188</td>\n",
       "      <td>191517</td>\n",
       "      <td>121.000000</td>\n",
       "      <td>130.000000</td>\n",
       "      <td>15.0</td>\n",
       "      <td>114.000000</td>\n",
       "      <td>0.00</td>\n",
       "      <td>17.00</td>\n",
       "      <td>1.775000</td>\n",
       "      <td>7.725000</td>\n",
       "      <td>...</td>\n",
       "      <td>0</td>\n",
       "      <td>M</td>\n",
       "      <td>51</td>\n",
       "      <td>0</td>\n",
       "      <td>0</td>\n",
       "      <td>0</td>\n",
       "      <td>0</td>\n",
       "      <td>0</td>\n",
       "      <td>0</td>\n",
       "      <td>0</td>\n",
       "    </tr>\n",
       "  </tbody>\n",
       "</table>\n",
       "<p>5 rows × 50 columns</p>\n",
       "</div>"
      ],
      "text/plain": [
       "   subject_id  hadm_id  Alanine Aminotransferase (ALT)  Alkaline Phosphatase  \\\n",
       "0          21   111970                       47.000000            167.000000   \n",
       "1          94   183686                       90.333333             68.666667   \n",
       "2         157   107880                       13.000000            118.000000   \n",
       "3         166   128219                       94.822544            141.192150   \n",
       "4         188   191517                      121.000000            130.000000   \n",
       "\n",
       "   Anion Gap  Asparate Aminotransferase (AST)  Basophils  Bicarbonate  \\\n",
       "0       17.0                        82.000000       0.00        23.50   \n",
       "1       14.0                        82.333333       0.85        23.25   \n",
       "2       17.4                        25.000000       0.00        18.00   \n",
       "3       19.0                       148.710368       0.00        24.00   \n",
       "4       15.0                       114.000000       0.00        17.00   \n",
       "\n",
       "   Bilirubin, Total  Calcium, Total  ...  death_period  gender  age  \\\n",
       "0          0.300000        7.700000  ...             1       M   87   \n",
       "1          1.033333        8.075000  ...             0       M   74   \n",
       "2          0.600000        7.940000  ...             0       M   80   \n",
       "3          1.501629        7.903004  ...             1       F   91   \n",
       "4          1.775000        7.725000  ...             0       M   51   \n",
       "\n",
       "   BLOOD CULTURE  MRSA SCREEN  SPUTUM  STOOL  SWAB  URINE  num_of_infections  \n",
       "0              1            0       0      1     0      0                  2  \n",
       "1              0            0       0      0     0      0                  0  \n",
       "2              0            0       0      0     0      2                  3  \n",
       "3              1            0       0      0     0      0                  1  \n",
       "4              0            0       0      0     0      0                  0  \n",
       "\n",
       "[5 rows x 50 columns]"
      ]
     },
     "execution_count": 59,
     "metadata": {},
     "output_type": "execute_result"
    }
   ],
   "source": [
    "sepsis_features.head()"
   ]
  },
  {
   "cell_type": "code",
   "execution_count": 121,
   "metadata": {},
   "outputs": [
    {
     "data": {
      "text/plain": [
       "count    1178.000000\n",
       "mean        1.224109\n",
       "std         1.553037\n",
       "min         0.000000\n",
       "25%         0.000000\n",
       "50%         1.000000\n",
       "75%         2.000000\n",
       "max        14.000000\n",
       "Name: num_of_infections, dtype: float64"
      ]
     },
     "execution_count": 121,
     "metadata": {},
     "output_type": "execute_result"
    }
   ],
   "source": [
    "sepsis_features.num_of_infections.describe()"
   ]
  },
  {
   "cell_type": "markdown",
   "metadata": {},
   "source": [
    "### Analyzing the co-relation and importance of all features together"
   ]
  },
  {
   "cell_type": "code",
   "execution_count": 7,
   "metadata": {},
   "outputs": [
    {
     "data": {
      "image/png": "[encoded data removed]",
      "text/plain": [
       "<Figure size 432x288 with 1 Axes>"
      ]
     },
     "metadata": {
      "needs_background": "light"
     },
     "output_type": "display_data"
    }
   ],
   "source": [
    "ax = sepsis_features[['age']].plot(kind='hist', title =\"Age Distribution\", legend=True, grid=True, bins=30, color='orange', alpha=0.6)"
   ]
  },
  {
   "cell_type": "code",
   "execution_count": 60,
   "metadata": {},
   "outputs": [],
   "source": [
    "import seaborn as sns\n",
    "sns.set(style='ticks')\n",
    "sns.set_context(\"notebook\", font_scale=1)\n",
    "sns.set_style(\"darkgrid\")\n",
    "# Compute the correlation matrix\n",
    "corr = sepsis_features.corr()\n",
    "\n",
    "# Generate a mask for the upper triangle\n",
    "mask = np.zeros_like(corr, dtype=np.bool)\n",
    "mask[np.triu_indices_from(mask)] = True\n",
    "\n",
    "# Set up the matplotlib figure\n",
    "#f, ax = plt.subplots(figsize=(20, 15))\n",
    "\n",
    "# Generate a custom diverging colormap\n",
    "#cmap = sns.diverging_palette(220, 10, as_cmap=True)\n",
    "\n",
    "#sns.heatmap(corr, mask=mask, cmap=cmap, vmax=.3, center=0,\n",
    "            #square=True, linewidths=.5, cbar_kws={\"shrink\": .5})"
   ]
  },
  {
   "cell_type": "markdown",
   "metadata": {},
   "source": [
    "#### Visulaizing co-relation with the target"
   ]
  },
  {
   "cell_type": "code",
   "execution_count": 9,
   "metadata": {},
   "outputs": [],
   "source": [
    "corr_with_target = corr['death_period']\n",
    "corr_with_target = corr_with_target.reset_index()\n",
    "corr_with_target.drop(corr_with_target.index[0:2],inplace=True)\n",
    "corr_with_target.drop(corr_with_target.index[corr_with_target['index'] == 'death_period'],inplace=True)\n",
    "corr_with_target.sort_values(\"death_period\",inplace=True)\n",
    "\n",
    "#f, ax = plt.subplots(figsize=(20, 15))\n",
    "#f.autofmt_xdate(rotation=90)\n",
    "#sns.barplot(x=\"index\", y=\"death_period\", data=corr_with_target,ax=ax)"
   ]
  },
  {
   "cell_type": "code",
   "execution_count": 10,
   "metadata": {},
   "outputs": [],
   "source": [
    "### Values of co-relation with target\n",
    "#corr_with_target.drop(corr_with_target.index[corr_with_target['index'] == 'death_period'])"
   ]
  },
  {
   "cell_type": "code",
   "execution_count": 11,
   "metadata": {},
   "outputs": [],
   "source": [
    "## Squaring the value to list out top co-relation\n",
    "X = corr_with_target.drop(corr_with_target.index[corr_with_target['index'] == 'death_period'])\n",
    "X['death_period'] = X['death_period']**2\n",
    "#X.sort_values(['death_period'],ascending=False)"
   ]
  },
  {
   "cell_type": "markdown",
   "metadata": {},
   "source": [
    "### Prepare the data for machine learning models"
   ]
  },
  {
   "cell_type": "markdown",
   "metadata": {},
   "source": [
    "Normalize the data such that all data points have same priorities"
   ]
  },
  {
   "cell_type": "code",
   "execution_count": 53,
   "metadata": {},
   "outputs": [
    {
     "data": {
      "text/plain": [
       "(1178, 50)"
      ]
     },
     "execution_count": 53,
     "metadata": {},
     "output_type": "execute_result"
    }
   ],
   "source": [
    "sepsis_features.shape"
   ]
  },
  {
   "cell_type": "code",
   "execution_count": 12,
   "metadata": {},
   "outputs": [],
   "source": [
    "#sepsis_features.describe().T"
   ]
  },
  {
   "cell_type": "code",
   "execution_count": 71,
   "metadata": {},
   "outputs": [],
   "source": [
    "numeric_data = sepsis_features.select_dtypes(include=[np.number])"
   ]
  },
  {
   "cell_type": "code",
   "execution_count": 72,
   "metadata": {},
   "outputs": [],
   "source": [
    "numeric_data.columns\n",
    "numeric_data.drop(['subject_id','hadm_id','death_period','num_of_infections','age'],axis=1,inplace=True)"
   ]
  },
  {
   "cell_type": "code",
   "execution_count": 73,
   "metadata": {},
   "outputs": [
    {
     "name": "stdout",
     "output_type": "stream",
     "text": [
      "[14, 17, 102, 127, 147, 148, 172, 205, 210, 222, 233, 256, 275, 281, 283, 285, 341, 351, 352, 359, 367, 371, 412, 436, 437, 453, 454, 466, 467, 488, 506, 532, 551, 575, 590, 603, 636, 637, 647, 659, 684, 693, 707, 722, 729, 744, 746, 789, 819, 827, 842, 851, 860, 866, 890, 892, 933, 934, 936, 944, 986, 1029, 1048, 1049, 1051, 1060, 1073, 1087, 1106, 1118, 1154, 12, 19, 38, 40, 43, 47, 56, 77, 92, 100, 107, 113, 121, 125, 129, 135, 139, 148, 167, 168, 169, 175, 177, 181, 196, 198, 200, 210, 237, 241, 249, 251, 269, 281, 300, 302, 307, 333, 341, 343, 359, 378, 379, 384, 385, 392, 402, 406, 439, 442, 493, 516, 531, 537, 544, 552, 557, 558, 581, 604, 609, 636, 637, 648, 664, 666, 676, 677, 683, 692, 703, 710, 714, 722, 733, 738, 739, 748, 752, 757, 760, 761, 762, 777, 792, 804, 831, 836, 845, 850, 856, 866, 875, 933, 936, 979, 981, 986, 993, 1002, 1024, 1039, 1043, 1048, 1049, 1050, 1052, 1064, 1069, 1073, 1074, 1104, 1124, 1165, 1176, 52, 77, 96, 101, 102, 121, 123, 165, 169, 191, 210, 215, 222, 249, 265, 269, 314, 320, 326, 339, 349, 350, 352, 371, 376, 437, 502, 524, 543, 565, 575, 601, 604, 631, 647, 651, 653, 664, 678, 694, 710, 763, 775, 789, 805, 907, 936, 944, 948, 960, 1001, 1015, 1029, 1033, 1047, 1062, 1070, 1072, 1073, 1084, 17, 102, 165, 172, 210, 222, 256, 275, 281, 283, 285, 315, 341, 351, 352, 367, 371, 412, 436, 437, 453, 466, 467, 471, 506, 551, 603, 636, 637, 647, 684, 707, 710, 729, 744, 746, 761, 789, 827, 842, 855, 866, 934, 936, 944, 964, 1029, 1049, 1051, 1060, 1073, 1087, 1106, 1118, 1154, 1, 16, 26, 67, 71, 73, 91, 100, 104, 109, 162, 171, 176, 186, 203, 226, 227, 228, 231, 232, 235, 260, 267, 287, 288, 290, 312, 313, 317, 331, 334, 338, 365, 372, 403, 419, 432, 441, 471, 493, 520, 534, 538, 614, 628, 629, 646, 667, 720, 778, 790, 799, 804, 857, 889, 900, 902, 917, 930, 957, 975, 1000, 1004, 1044, 1088, 1098, 1099, 1110, 1157, 1167, 1175, 84, 123, 296, 391, 464, 475, 493, 624, 657, 683, 692, 710, 786, 787, 857, 858, 909, 917, 1015, 1073, 1134, 1175, 14, 19, 26, 31, 34, 38, 43, 56, 102, 103, 121, 139, 156, 165, 200, 204, 207, 210, 217, 222, 241, 266, 279, 291, 327, 331, 333, 341, 351, 352, 368, 371, 378, 387, 389, 412, 453, 471, 531, 537, 549, 557, 572, 604, 612, 615, 659, 689, 702, 718, 732, 757, 763, 772, 789, 791, 805, 838, 842, 845, 855, 866, 897, 915, 930, 931, 936, 948, 971, 974, 983, 986, 1011, 1013, 1024, 1029, 1039, 1044, 1048, 1049, 1051, 1059, 1060, 1061, 1062, 1063, 1069, 1072, 1073, 1074, 1087, 1096, 1100, 1108, 1165, 1176, 74, 97, 105, 106, 156, 157, 207, 325, 326, 353, 440, 543, 564, 595, 604, 620, 682, 686, 769, 830, 858, 868, 937, 942, 952, 955, 964, 1065, 1070, 1144, 7, 44, 53, 73, 85, 97, 152, 193, 233, 250, 273, 302, 445, 447, 458, 464, 472, 490, 550, 698, 784, 798, 805, 829, 848, 857, 858, 908, 918, 929, 980, 987, 1030, 1053, 1111, 1157, 1161, 1167, 5, 6, 12, 36, 44, 50, 52, 53, 58, 73, 77, 96, 101, 105, 106, 107, 108, 109, 121, 126, 137, 154, 157, 160, 168, 171, 178, 179, 191, 210, 231, 232, 237, 249, 292, 298, 311, 320, 332, 357, 379, 408, 426, 433, 470, 474, 491, 495, 498, 500, 516, 517, 524, 540, 543, 554, 600, 623, 631, 632, 633, 678, 710, 771, 775, 822, 831, 879, 907, 923, 924, 933, 941, 960, 964, 966, 975, 1029, 1036, 1053, 1056, 1063, 1070, 1072, 1084, 1123, 1128, 1160, 7, 26, 36, 39, 40, 56, 67, 69, 84, 95, 100, 104, 107, 109, 113, 114, 120, 140, 144, 146, 152, 153, 157, 178, 181, 186, 212, 214, 219, 231, 232, 266, 280, 299, 312, 340, 342, 343, 344, 349, 359, 372, 379, 388, 400, 401, 402, 405, 409, 429, 455, 456, 459, 480, 495, 500, 503, 510, 511, 555, 564, 580, 585, 618, 625, 631, 632, 656, 701, 708, 709, 713, 733, 737, 764, 769, 774, 777, 778, 832, 836, 838, 859, 861, 874, 878, 889, 896, 899, 911, 913, 929, 936, 937, 938, 939, 951, 954, 979, 983, 994, 1000, 1008, 1027, 1099, 1112, 1128, 1138, 1146, 1157, 70, 86, 123, 128, 150, 155, 164, 174, 184, 190, 256, 265, 277, 320, 350, 358, 361, 387, 406, 437, 458, 467, 502, 522, 527, 545, 599, 644, 655, 678, 739, 743, 817, 818, 837, 907, 942, 948, 962, 976, 977, 1002, 1003, 1019, 1044, 1046, 1058, 1066, 1075, 1110, 1118, 1158, 1167, 1174, 1176, 59, 137, 183, 297, 461, 651, 837, 845, 933, 934, 945, 952, 997, 1019, 1047, 1072, 1087, 1095, 1175, 59, 183, 297, 351, 651, 845, 934, 945, 952, 997, 1019, 1087, 1095, 1175, 12, 24, 50, 54, 65, 76, 84, 96, 102, 103, 105, 107, 109, 110, 121, 122, 148, 155, 168, 172, 177, 191, 195, 208, 222, 237, 271, 275, 280, 285, 308, 309, 311, 318, 321, 326, 349, 352, 365, 371, 382, 399, 400, 437, 453, 457, 479, 499, 500, 502, 505, 512, 517, 521, 528, 531, 534, 544, 554, 567, 572, 576, 584, 585, 587, 589, 597, 603, 613, 635, 643, 661, 669, 671, 681, 688, 694, 701, 710, 721, 742, 750, 760, 769, 789, 805, 817, 818, 820, 838, 866, 874, 878, 883, 884, 887, 890, 894, 900, 914, 917, 924, 930, 936, 949, 950, 959, 972, 990, 991, 993, 995, 996, 1004, 1016, 1029, 1034, 1035, 1036, 1042, 1052, 1055, 1073, 1074, 1081, 1084, 1096, 1105, 1108, 1114, 1121, 1146, 21, 63, 84, 86, 102, 121, 124, 129, 156, 165, 169, 183, 191, 210, 215, 222, 227, 256, 265, 266, 285, 315, 320, 326, 331, 336, 339, 352, 365, 371, 376, 377, 382, 408, 437, 442, 453, 484, 543, 561, 572, 575, 590, 603, 604, 634, 647, 664, 684, 686, 694, 707, 710, 763, 775, 789, 805, 819, 837, 838, 846, 855, 866, 881, 907, 930, 936, 944, 948, 974, 976, 996, 1003, 1007, 1029, 1047, 1051, 1062, 1070, 1072, 1073, 1087, 1148, 15, 27, 37, 46, 69, 71, 89, 91, 126, 130, 147, 186, 192, 195, 201, 212, 216, 228, 232, 246, 266, 277, 286, 288, 304, 331, 344, 351, 352, 355, 372, 382, 400, 401, 402, 409, 432, 437, 445, 455, 478, 480, 496, 507, 515, 521, 522, 555, 585, 620, 629, 643, 650, 662, 682, 687, 695, 720, 764, 765, 766, 778, 804, 838, 899, 921, 929, 944, 951, 967, 975, 976, 1028, 1030, 1032, 1044, 1051, 1069, 1157, 1175, 58, 62, 65, 84, 108, 109, 121, 125, 175, 186, 202, 204, 211, 225, 291, 333, 371, 374, 453, 520, 572, 593, 603, 653, 663, 665, 689, 712, 740, 749, 755, 798, 816, 817, 818, 820, 826, 831, 833, 834, 907, 950, 967, 971, 974, 983, 1010, 1011, 1032, 1062, 1087, 1088, 1138, 1158, 1161, 1176, 36, 65, 106, 108, 123, 207, 351, 603, 664, 707, 1088, 1113, 1135, 62, 84, 121, 175, 186, 204, 211, 291, 299, 333, 352, 371, 374, 382, 450, 451, 502, 520, 522, 528, 572, 610, 653, 663, 665, 703, 740, 810, 816, 817, 818, 820, 826, 831, 833, 866, 907, 935, 967, 971, 974, 999, 1062, 1087, 1088, 1096, 1176, 85, 91, 97, 123, 161, 181, 269, 283, 285, 312, 323, 363, 379, 406, 447, 575, 612, 680, 685, 715, 727, 761, 775, 846, 908, 917, 936, 1047, 1065, 1070, 1073, 1176, 27, 37, 60, 86, 109, 126, 147, 151, 157, 184, 186, 206, 216, 246, 283, 336, 345, 349, 374, 381, 385, 400, 456, 484, 496, 525, 539, 544, 551, 593, 650, 662, 666, 671, 719, 722, 809, 819, 827, 856, 882, 903, 1044, 1096, 1109, 1134, 1145, 27, 37, 71, 84, 91, 118, 126, 147, 176, 186, 191, 195, 201, 206, 207, 214, 216, 246, 266, 275, 277, 280, 285, 286, 304, 306, 310, 326, 336, 351, 352, 371, 372, 382, 400, 403, 412, 437, 446, 496, 515, 522, 551, 575, 578, 591, 619, 626, 650, 682, 726, 746, 764, 765, 766, 804, 813, 838, 903, 904, 905, 921, 930, 964, 967, 975, 976, 1018, 1024, 1044, 1051, 1062, 1066, 1096, 1145, 1148, 12, 54, 65, 76, 84, 96, 103, 107, 109, 110, 121, 122, 148, 155, 168, 172, 177, 191, 195, 208, 222, 237, 285, 311, 318, 335, 339, 349, 352, 365, 382, 437, 453, 499, 500, 502, 528, 531, 534, 554, 567, 572, 584, 585, 587, 589, 603, 635, 643, 661, 669, 671, 681, 688, 689, 694, 701, 703, 710, 721, 722, 726, 742, 750, 760, 769, 770, 789, 798, 805, 810, 817, 818, 819, 820, 838, 853, 866, 874, 878, 883, 884, 887, 890, 894, 900, 913, 914, 917, 924, 930, 936, 949, 950, 959, 963, 969, 971, 972, 983, 989, 990, 991, 993, 994, 995, 996, 1004, 1011, 1012, 1016, 1029, 1034, 1035, 1036, 1042, 1052, 1055, 1062, 1073, 1074, 1081, 1084, 1087, 1096, 1105, 1108, 1114, 1121, 1133, 1146, 1164, 21, 33, 65, 69, 84, 102, 105, 108, 111, 118, 121, 131, 150, 173, 183, 191, 196, 208, 222, 223, 225, 229, 231, 256, 258, 285, 304, 337, 355, 362, 363, 369, 371, 375, 382, 428, 431, 450, 457, 459, 467, 504, 508, 530, 554, 563, 572, 585, 591, 601, 603, 623, 645, 647, 661, 669, 681, 686, 688, 710, 724, 726, 750, 762, 770, 793, 805, 816, 819, 842, 845, 865, 871, 884, 944, 964, 965, 969, 976, 983, 996, 1004, 1007, 1019, 1029, 1061, 1065, 1073, 1109, 1127, 1148, 1149, 1164, 1176, 35, 50, 84, 93, 101, 106, 108, 110, 121, 123, 154, 165, 176, 207, 210, 215, 222, 269, 283, 285, 315, 320, 326, 339, 349, 352, 365, 394, 409, 428, 437, 474, 478, 524, 549, 600, 601, 603, 604, 612, 631, 641, 647, 670, 678, 684, 710, 715, 775, 789, 805, 846, 866, 934, 936, 960, 964, 1029, 1033, 1047, 1070, 1073, 1084, 1128, 1143, 1176, 35, 92, 107, 123, 158, 196, 219, 227, 324, 325, 375, 447, 462, 475, 476, 503, 515, 527, 562, 623, 697, 704, 716, 742, 745, 872, 877, 947, 1001, 1040, 1064, 1125, 1140, 1156, 1171, 44, 123, 161, 171, 210, 269, 285, 299, 352, 379, 491, 517, 522, 572, 594, 670, 687, 694, 710, 775, 786, 849, 866, 877, 878, 958, 994, 1070, 1072, 1073, 1087, 1105, 26, 40, 44, 64, 206, 225, 301, 328, 346, 347, 363, 382, 383, 397, 409, 421, 455, 474, 496, 522, 537, 572, 585, 603, 619, 769, 826, 874, 923, 924, 951, 974, 983, 1051, 1072, 1088, 1151, 53, 59, 109, 137, 183, 297, 333, 472, 651, 816, 817, 845, 934, 952, 967, 971, 991, 1019, 1047, 1072, 1087, 1175, 7, 46, 53, 73, 85, 97, 152, 210, 233, 250, 273, 323, 351, 376, 397, 438, 441, 447, 458, 472, 481, 490, 506, 550, 612, 698, 710, 734, 745, 768, 786, 798, 805, 817, 829, 848, 866, 874, 877, 908, 918, 929, 931, 971, 980, 987, 1030, 1053, 1066, 1079, 1111, 1139, 1142, 1157, 1158, 1161, 1167, 1175, 128, 146, 174, 192, 208, 223, 267, 334, 526, 579, 581, 639, 643, 664, 734, 797, 814, 830, 892, 942, 986, 991, 996, 1039, 1040, 1057, 1058, 1068, 1095, 1100, 1103, 1108, 1145, 1162, 1165, 1171, 73, 96, 101, 119, 171, 237, 245, 269, 283, 302, 315, 360, 378, 394, 416, 472, 482, 502, 524, 531, 558, 594, 601, 612, 678, 715, 750, 775, 783, 786, 789, 848, 875, 878, 908, 915, 936, 960, 963, 977, 983, 1033, 1053, 1070, 1073, 1084, 1089, 1105, 1128, 1134, 1144, 0, 2, 17, 129, 141, 145, 169, 170, 184, 198, 207, 264, 291, 326, 339, 351, 376, 381, 440, 499, 513, 581, 586, 587, 619, 622, 648, 686, 715, 717, 723, 731, 824, 826, 866, 932, 948, 992, 1019, 1150, 6, 22, 28, 67, 142, 382, 406, 518, 652, 661, 728, 875, 1031, 0, 3, 19, 26, 30, 36, 38, 43, 50, 52, 60, 70, 81, 84, 90, 91, 101, 102, 103, 106, 111, 112, 116, 118, 121, 123, 124, 147, 156, 165, 166, 168, 171, 182, 183, 191, 195, 200, 205, 207, 210, 216, 218, 222, 227, 237, 241, 246, 250, 256, 265, 266, 269, 272, 273, 277, 278, 279, 280, 283, 285, 291, 297, 302, 304, 306, 315, 318, 320, 326, 332, 337, 338, 339, 341, 343, 349, 351, 352, 355, 359, 360, 363, 364, 365, 369, 371, 374, 376, 378, 382, 384, 386, 393, 401, 405, 407, 409, 411, 417, 420, 423, 426, 428, 437, 438, 440, 443, 445, 451, 453, 457, 466, 467, 472, 479, 484, 491, 496, 497, 498, 499, 507, 508, 519, 521, 523, 524, 531, 537, 541, 552, 571, 572, 575, 581, 592, 600, 601, 603, 604, 612, 628, 647, 651, 653, 655, 660, 664, 668, 669, 685, 686, 689, 694, 697, 698, 701, 703, 707, 708, 710, 727, 728, 729, 737, 739, 741, 760, 761, 763, 765, 766, 773, 775, 777, 785, 786, 788, 789, 793, 798, 805, 809, 810, 811, 830, 834, 838, 845, 846, 848, 855, 866, 874, 877, 878, 885, 907, 911, 917, 928, 929, 930, 932, 934, 936, 937, 944, 945, 955, 964, 968, 975, 976, 977, 981, 984, 1001, 1004, 1010, 1011, 1017, 1019, 1020, 1029, 1043, 1047, 1055, 1062, 1066, 1070, 1072, 1073, 1081, 1084, 1087, 1096, 1105, 1107, 1118, 1121, 1124, 1129, 1134, 1136, 1148, 1162, 1165, 1166, 1168, 1176, 464, 525, 615, 802, 876, 943, 11, 129, 144, 169, 211, 238, 411, 484, 517, 540, 609, 850, 895, 180, 215, 222, 294, 639, 758, 808, 812, 836, 837, 843, 852, 853, 861, 875, 879, 901, 909, 920, 925, 938, 951, 961, 963, 965, 968, 972, 985, 990, 995, 1001, 1002, 1007, 1016, 1052, 1061, 1071, 1074, 1095, 1101, 1119, 1140, 1153, 1157, 1158, 1162, 30, 43, 46, 54, 59, 73, 85, 100, 114, 115, 130, 161, 164, 165, 181, 182, 184, 186, 187, 194, 200, 201, 203, 205, 207, 216, 235, 236, 243, 246, 250, 253, 258, 280, 283, 294, 302, 307, 310, 311, 318, 328, 329, 337, 338, 341, 347, 353, 354, 373, 378, 388, 393, 394, 406, 414, 415, 423, 437, 445, 447, 448, 478, 479, 480, 481, 482, 483, 488, 489, 492, 493, 495, 502, 515, 522, 535, 549, 550, 553, 558, 572, 582, 583, 588, 590, 591, 596, 602, 617, 619, 624, 626, 640, 665, 681, 689, 692, 702, 709, 715, 716, 727, 730, 733, 745, 749, 760, 780, 785, 811, 818, 820, 822, 830, 838, 847, 871, 901, 904, 907, 911, 914, 922, 930, 931, 933, 938, 961, 966, 970, 984, 990, 1007, 1053, 1071, 1094, 1095, 1121, 1125, 1131, 1136, 1139, 1167, 1168, 0, 35, 43, 68, 73, 79, 118, 130, 134, 141, 142, 166, 182, 190, 229, 253, 258, 305, 326, 330, 420, 433, 472, 567, 580, 586, 621, 673, 686, 688, 696, 721, 750, 769, 848, 872, 900, 970, 1097, 1102, 1104, 1133, 1142, 1162, 5, 18, 45, 52, 76, 94, 96, 100, 103, 111, 114, 115, 151, 159, 176, 177, 178, 181, 208, 215, 236, 264, 288, 293, 300, 302, 303, 310, 336, 346, 362, 391, 396, 402, 406, 444, 478, 485, 500, 516, 517, 536, 539, 546, 547, 551, 562, 576, 578, 628, 629, 632, 654, 681, 687, 703, 718, 720, 734, 746, 762, 779, 796, 802, 807, 812, 814, 833, 861, 869, 874, 879, 880, 891, 894, 921, 969, 970, 994, 996, 999, 1055, 1076, 1099, 1101, 1109, 1130, 1132, 1159, 1173, 2, 10, 11, 26, 27, 28, 33, 34, 37, 40, 43, 53, 59, 94, 95, 102, 120, 127, 133, 135, 137, 151, 159, 160, 163, 170, 172, 177, 181, 185, 198, 199, 217, 225, 227, 228, 230, 233, 234, 235, 236, 240, 244, 248, 251, 259, 261, 269, 276, 282, 287, 290, 301, 318, 319, 323, 324, 325, 333, 343, 344, 353, 354, 366, 377, 384, 385, 394, 395, 398, 399, 401, 404, 406, 411, 414, 416, 422, 424, 426, 430, 436, 439, 443, 448, 449, 455, 459, 461, 468, 476, 482, 490, 491, 493, 499, 518, 529, 532, 533, 545, 555, 566, 570, 574, 576, 580, 581, 584, 589, 590, 606, 608, 611, 613, 620, 621, 622, 624, 626, 627, 643, 645, 646, 652, 653, 660, 663, 665, 667, 669, 673, 674, 681, 690, 698, 699, 700, 705, 709, 714, 716, 717, 720, 724, 727, 729, 738, 741, 752, 760, 772, 774, 776, 782, 783, 788, 789, 798, 800, 805, 811, 816, 820, 821, 824, 830, 834, 837, 841, 843, 855, 863, 865, 868, 873, 875, 876, 879, 880, 881, 885, 886, 888, 895, 898, 906, 911, 915, 918, 919, 920, 923, 927, 931, 935, 948, 949, 952, 955, 959, 963, 966, 967, 968, 977, 984, 985, 987, 996, 999, 1002, 1003, 1004, 1005, 1007, 1009, 1012, 1015, 1021, 1031, 1036, 1037, 1038, 1044, 1053, 1055, 1067, 1078, 1084, 1087, 1091, 1093, 1097, 1098, 1101, 1109, 1115, 1116, 1119, 1122, 1126, 1127, 1129, 1134, 1138, 1140, 1141, 1146, 1148, 1157, 1158, 1161, 1167, 1172, 18, 94, 100, 115, 129, 158, 177, 181, 246, 310, 352, 362, 406, 448, 517, 518, 576, 590, 820, 880, 1052, 1060]\n"
     ]
    },
    {
     "data": {
      "text/plain": [
       "176"
      ]
     },
     "execution_count": 73,
     "metadata": {},
     "output_type": "execute_result"
    }
   ],
   "source": [
    "numeric_data = sepsis_features.select_dtypes(include=[np.number])\n",
    "potential_outliers = []\n",
    "from collections import Counter\n",
    "from IPython.display import display\n",
    "\n",
    "# For each feature find the data points with extreme high or low values\n",
    "for feature in numeric_data.columns:\n",
    "\n",
    "    # Calculate Q1\n",
    "    Q1 = np.percentile(sepsis_features[feature], 25)\n",
    "    \n",
    "    # Calculate Q3\n",
    "    Q3 = np.percentile(sepsis_features[feature], 75)\n",
    "    \n",
    "    step = 1.5*(Q3-Q1)\n",
    "    \n",
    "    # Display the outliers\n",
    "    outlier = sepsis_features[~((sepsis_features[feature] >= Q1 - step) & (sepsis_features[feature] <= Q3 + step))]\n",
    "    potential_outliers += outlier.index.tolist()\n",
    "    \n",
    "print(potential_outliers)\n",
    "len({k:v for (k,v) in Counter(potential_outliers).items() if v > 4})\n",
    "#outliers = [k for (k,v) in Counter(potential_outliers).items() if v > 4]"
   ]
  },
  {
   "cell_type": "markdown",
   "metadata": {},
   "source": [
    "#### Normalize the features\n",
    "\n",
    "Since there are a lot of outliers,we are going to use Robustscaler to do the normalization"
   ]
  },
  {
   "cell_type": "code",
   "execution_count": 74,
   "metadata": {},
   "outputs": [],
   "source": [
    "columns_to_normalize = sepsis_features.describe().columns.tolist()\n",
    "columns_to_normalize.remove('subject_id')\n",
    "columns_to_normalize.remove('hadm_id')\n",
    "columns_to_normalize.remove('death_period')\n",
    "columns_to_normalize.remove('age')"
   ]
  },
  {
   "cell_type": "code",
   "execution_count": 75,
   "metadata": {},
   "outputs": [],
   "source": [
    "from sklearn.preprocessing import RobustScaler\n",
    "\n",
    "\n",
    "scaler = RobustScaler()\n",
    "processed_sepsis_features = sepsis_features.copy()\n",
    "processed_sepsis_features[columns_to_normalize] = scaler.fit_transform(sepsis_features[columns_to_normalize])\n",
    "#processed_sepsis_features.describe().T"
   ]
  },
  {
   "cell_type": "markdown",
   "metadata": {},
   "source": [
    "#### One hot encoding of all categorical features"
   ]
  },
  {
   "cell_type": "code",
   "execution_count": 76,
   "metadata": {},
   "outputs": [
    {
     "data": {
      "text/html": [
       "<div>\n",
       "<style scoped>\n",
       "    .dataframe tbody tr th:only-of-type {\n",
       "        vertical-align: middle;\n",
       "    }\n",
       "\n",
       "    .dataframe tbody tr th {\n",
       "        vertical-align: top;\n",
       "    }\n",
       "\n",
       "    .dataframe thead th {\n",
       "        text-align: right;\n",
       "    }\n",
       "</style>\n",
       "<table border=\"1\" class=\"dataframe\">\n",
       "  <thead>\n",
       "    <tr style=\"text-align: right;\">\n",
       "      <th></th>\n",
       "      <th>admission_type</th>\n",
       "      <th>insurance</th>\n",
       "      <th>ethnicity</th>\n",
       "      <th>gender</th>\n",
       "    </tr>\n",
       "  </thead>\n",
       "  <tbody>\n",
       "    <tr>\n",
       "      <th>0</th>\n",
       "      <td>EMERGENCY</td>\n",
       "      <td>Medicare</td>\n",
       "      <td>WHITE</td>\n",
       "      <td>M</td>\n",
       "    </tr>\n",
       "    <tr>\n",
       "      <th>1</th>\n",
       "      <td>EMERGENCY</td>\n",
       "      <td>Medicare</td>\n",
       "      <td>ASIAN</td>\n",
       "      <td>M</td>\n",
       "    </tr>\n",
       "    <tr>\n",
       "      <th>2</th>\n",
       "      <td>EMERGENCY</td>\n",
       "      <td>Medicare</td>\n",
       "      <td>WHITE</td>\n",
       "      <td>M</td>\n",
       "    </tr>\n",
       "    <tr>\n",
       "      <th>3</th>\n",
       "      <td>EMERGENCY</td>\n",
       "      <td>Medicare</td>\n",
       "      <td>WHITE</td>\n",
       "      <td>F</td>\n",
       "    </tr>\n",
       "    <tr>\n",
       "      <th>4</th>\n",
       "      <td>EMERGENCY</td>\n",
       "      <td>Private</td>\n",
       "      <td>WHITE</td>\n",
       "      <td>M</td>\n",
       "    </tr>\n",
       "  </tbody>\n",
       "</table>\n",
       "</div>"
      ],
      "text/plain": [
       "  admission_type insurance ethnicity gender\n",
       "0      EMERGENCY  Medicare     WHITE      M\n",
       "1      EMERGENCY  Medicare     ASIAN      M\n",
       "2      EMERGENCY  Medicare     WHITE      M\n",
       "3      EMERGENCY  Medicare     WHITE      F\n",
       "4      EMERGENCY   Private     WHITE      M"
      ]
     },
     "execution_count": 76,
     "metadata": {},
     "output_type": "execute_result"
    }
   ],
   "source": [
    "processed_sepsis_features.select_dtypes(exclude=['floating','integer']).head()"
   ]
  },
  {
   "cell_type": "code",
   "execution_count": 77,
   "metadata": {},
   "outputs": [
    {
     "name": "stdout",
     "output_type": "stream",
     "text": [
      "80\n"
     ]
    }
   ],
   "source": [
    "processed_sepsis_features = pd.get_dummies(processed_sepsis_features)\n",
    "print(len(processed_sepsis_features.columns))\n",
    "#print(processed_sepsis_features.columns)"
   ]
  },
  {
   "cell_type": "markdown",
   "metadata": {},
   "source": [
    "### Shuffle and Split Data\n",
    "\n",
    "Now all categorical variables have been converted into numerical features, and all numerical features have been normalized. As always, we will now split the data (both features and their labels) into training and test sets. 90% of the data will be used for training and 10% for testing. We are doing 90% and 10% because our dataset is small."
   ]
  },
  {
   "cell_type": "code",
   "execution_count": 78,
   "metadata": {},
   "outputs": [
    {
     "name": "stdout",
     "output_type": "stream",
     "text": [
      "Training set has 942 samples.\n",
      "Testing set has 236 samples.\n"
     ]
    }
   ],
   "source": [
    "# Import train_test_split\n",
    "from sklearn.model_selection import train_test_split\n",
    "#sklearn.model_selection.train_test_split\n",
    "\n",
    "features = processed_sepsis_features.drop(['subject_id','hadm_id','death_period'],axis=1)\n",
    "targets = processed_sepsis_features['death_period']\n",
    "\n",
    "# Split the 'features' and  data into training and testing sets\n",
    "X_train, X_test, y_train, y_test = train_test_split(features, targets, test_size = 0.2, random_state = 0)\n",
    "\n",
    "# Show the results of the split\n",
    "print(\"Training set has {} samples.\".format(X_train.shape[0]))\n",
    "print(\"Testing set has {} samples.\".format(X_test.shape[0]))"
   ]
  },
  {
   "cell_type": "code",
   "execution_count": 79,
   "metadata": {},
   "outputs": [
    {
     "data": {
      "text/plain": [
       "(942,)"
      ]
     },
     "execution_count": 79,
     "metadata": {},
     "output_type": "execute_result"
    }
   ],
   "source": [
    "y_train.shape"
   ]
  },
  {
   "cell_type": "markdown",
   "metadata": {},
   "source": [
    "##  from the data driven "
   ]
  },
  {
   "cell_type": "code",
   "execution_count": 80,
   "metadata": {},
   "outputs": [
    {
     "name": "stdout",
     "output_type": "stream",
     "text": [
      "simple Predictor: [Accuracy: 21.3922%, F-score: 0.2538]\n"
     ]
    }
   ],
   "source": [
    "# Calculate accuracy\n",
    "accuracy = len(targets[targets == 1])/float(len(targets))\n",
    "# Calculate F-score using the formula above for beta = 0.5\n",
    "fscore = (1 + 0.5**2)*(accuracy*1)/(((0.5**2)*accuracy) + 1)\n",
    "# Print the results \n",
    "print(\"simple Predictor: [Accuracy: {:.4f}%, F-score: {:.4f}]\".format(accuracy*100, fscore))"
   ]
  },
  {
   "cell_type": "markdown",
   "metadata": {},
   "source": [
    "## Model Prediction"
   ]
  },
  {
   "cell_type": "code",
   "execution_count": 97,
   "metadata": {},
   "outputs": [],
   "source": [
    "from sklearn.linear_model import LogisticRegression\n",
    "from sklearn.ensemble import RandomForestClassifier\n",
    "from sklearn import metrics\n",
    "from sklearn.metrics import auc\n",
    "from sklearn.metrics import roc_curve\n",
    "from sklearn.metrics import accuracy_score\n"
   ]
  },
  {
   "cell_type": "code",
   "execution_count": 140,
   "metadata": {},
   "outputs": [
    {
     "data": {
      "text/plain": [
       "LogisticRegression(C=0.9, class_weight=None, dual=False, fit_intercept=True,\n",
       "                   intercept_scaling=1, l1_ratio=None, max_iter=1000,\n",
       "                   multi_class='warn', n_jobs=None, penalty='l2',\n",
       "                   random_state=None, solver='lbfgs', tol=0.0001, verbose=0,\n",
       "                   warm_start=False)"
      ]
     },
     "execution_count": 140,
     "metadata": {},
     "output_type": "execute_result"
    }
   ],
   "source": [
    "lr = LogisticRegression(solver='lbfgs', C=0.9, max_iter=1000)\n",
    "lr.fit(X_train,y_train)\n",
    "\n"
   ]
  },
  {
   "cell_type": "code",
   "execution_count": 141,
   "metadata": {},
   "outputs": [
    {
     "data": {
      "text/plain": [
       "0.691564863292612"
      ]
     },
     "execution_count": 141,
     "metadata": {},
     "output_type": "execute_result"
    }
   ],
   "source": [
    "probs = lr.predict_proba(X_test)[:,-1]\n",
    "fpr,tpr,thresholds = roc_curve(y_test,probs)\n",
    "auc(fpr,tpr)\n"
   ]
  },
  {
   "cell_type": "code",
   "execution_count": 142,
   "metadata": {},
   "outputs": [
    {
     "data": {
      "image/png": "[encoded data removed]",
      "text/plain": [
       "<Figure size 432x288 with 1 Axes>"
      ]
     },
     "metadata": {},
     "output_type": "display_data"
    }
   ],
   "source": [
    "\n",
    "plt.figure()\n",
    "plt.plot(fpr,tpr)\n",
    "plt.plot([0,1],[0,1],'r--')\n",
    "plt.xlabel('False Positive Rate')\n",
    "plt.ylabel('True Positive Rate')\n",
    "plt.title('Receiver Operating Curve')\n",
    "plt.show()\n"
   ]
  },
  {
   "cell_type": "code",
   "execution_count": 131,
   "metadata": {},
   "outputs": [
    {
     "data": {
      "text/plain": [
       "RandomForestClassifier(bootstrap=True, class_weight=None, criterion='gini',\n",
       "                       max_depth=None, max_features='auto', max_leaf_nodes=None,\n",
       "                       min_impurity_decrease=0.0, min_impurity_split=None,\n",
       "                       min_samples_leaf=1, min_samples_split=2,\n",
       "                       min_weight_fraction_leaf=0.0, n_estimators=100,\n",
       "                       n_jobs=-1, oob_score=False, random_state=None, verbose=0,\n",
       "                       warm_start=False)"
      ]
     },
     "execution_count": 131,
     "metadata": {},
     "output_type": "execute_result"
    }
   ],
   "source": [
    "rf = RandomForestClassifier(n_estimators=100, n_jobs=-1)\n",
    "rf.fit(X_train,y_train)"
   ]
  },
  {
   "cell_type": "code",
   "execution_count": 132,
   "metadata": {},
   "outputs": [
    {
     "data": {
      "text/plain": [
       "0.8075043630017451"
      ]
     },
     "execution_count": 132,
     "metadata": {},
     "output_type": "execute_result"
    }
   ],
   "source": [
    "probs = rf.predict_proba(X_test)[:,-1]\n",
    "fpr,tpr,thresholds = roc_curve(y_test,probs)\n",
    "auc(fpr,tpr)"
   ]
  },
  {
   "cell_type": "code",
   "execution_count": 145,
   "metadata": {},
   "outputs": [],
   "source": [
    "cls = X_train.columns"
   ]
  },
  {
   "cell_type": "code",
   "execution_count": 146,
   "metadata": {},
   "outputs": [
    {
     "data": {
      "text/plain": [
       "Index(['Alanine Aminotransferase (ALT)', 'Alkaline Phosphatase', 'Anion Gap',\n",
       "       'Asparate Aminotransferase (AST)', 'Basophils', 'Bicarbonate',\n",
       "       'Bilirubin, Total', 'Calcium, Total', 'Chloride', 'Creatinine',\n",
       "       'Eosinophils', 'Glucose', 'Hematocrit', 'Hemoglobin', 'INR(PT)',\n",
       "       'Lactate', 'Lymphocytes', 'MCH', 'MCHC', 'MCV', 'Magnesium',\n",
       "       'Monocytes', 'Neutrophils', 'PT', 'PTT', 'Phosphate', 'Platelet Count',\n",
       "       'Potassium', 'RDW', 'Red Blood Cells', 'Sodium', 'Specific Gravity',\n",
       "       'Urea Nitrogen', 'White Blood Cells', 'pH', 'age', 'BLOOD CULTURE',\n",
       "       'MRSA SCREEN', 'SPUTUM', 'STOOL', 'SWAB', 'URINE', 'num_of_infections',\n",
       "       'admission_type_EMERGENCY', 'admission_type_URGENT',\n",
       "       'insurance_Government', 'insurance_Medicaid', 'insurance_Medicare',\n",
       "       'insurance_Private', 'insurance_Self Pay', 'ethnicity_ASIAN',\n",
       "       'ethnicity_ASIAN - ASIAN INDIAN', 'ethnicity_ASIAN - CAMBODIAN',\n",
       "       'ethnicity_ASIAN - CHINESE', 'ethnicity_ASIAN - KOREAN',\n",
       "       'ethnicity_ASIAN - VIETNAMESE', 'ethnicity_BLACK/AFRICAN',\n",
       "       'ethnicity_BLACK/AFRICAN AMERICAN', 'ethnicity_BLACK/CAPE VERDEAN',\n",
       "       'ethnicity_BLACK/HAITIAN', 'ethnicity_HISPANIC OR LATINO',\n",
       "       'ethnicity_HISPANIC/LATINO - CUBAN',\n",
       "       'ethnicity_HISPANIC/LATINO - MEXICAN',\n",
       "       'ethnicity_HISPANIC/LATINO - PUERTO RICAN',\n",
       "       'ethnicity_MULTI RACE ETHNICITY', 'ethnicity_OTHER',\n",
       "       'ethnicity_PATIENT DECLINED TO ANSWER', 'ethnicity_PORTUGUESE',\n",
       "       'ethnicity_UNABLE TO OBTAIN', 'ethnicity_UNKNOWN/NOT SPECIFIED',\n",
       "       'ethnicity_WHITE', 'ethnicity_WHITE - BRAZILIAN',\n",
       "       'ethnicity_WHITE - EASTERN EUROPEAN',\n",
       "       'ethnicity_WHITE - OTHER EUROPEAN', 'ethnicity_WHITE - RUSSIAN',\n",
       "       'gender_F', 'gender_M'],\n",
       "      dtype='object')"
      ]
     },
     "execution_count": 146,
     "metadata": {},
     "output_type": "execute_result"
    }
   ],
   "source": [
    "cls"
   ]
  },
  {
   "cell_type": "markdown",
   "metadata": {},
   "source": [
    "#### Sensivity Analysis"
   ]
  },
  {
   "cell_type": "code",
   "execution_count": 144,
   "metadata": {},
   "outputs": [],
   "source": [
    "cnt1 = X_train[X_train['age']<20]\n",
    "cnt2= X_train[X_train['age']>40]\n",
    "cnt3= X_train[X_train['age']==30]\n",
    "tr1 = pd.DataFrame()\n",
    "tr1 = tr1.append(cnt1)\n",
    "tr1 = tr1.append(cnt2)\n",
    "tr1 = tr1.append(cnt3)\n"
   ]
  },
  {
   "cell_type": "code",
   "execution_count": 147,
   "metadata": {},
   "outputs": [
    {
     "ename": "ValueError",
     "evalue": "Found input variables with inconsistent numbers of samples: [883, 942]",
     "output_type": "error",
     "traceback": [
      "\u001b[1;31m---------------------------------------------------------------------------\u001b[0m",
      "\u001b[1;31mValueError\u001b[0m                                Traceback (most recent call last)",
      "\u001b[1;32m<ipython-input-147-5e74bd240aba>\u001b[0m in \u001b[0;36m<module>\u001b[1;34m\u001b[0m\n\u001b[0;32m      1\u001b[0m \u001b[0mlr\u001b[0m \u001b[1;33m=\u001b[0m \u001b[0mLogisticRegression\u001b[0m\u001b[1;33m(\u001b[0m\u001b[0msolver\u001b[0m\u001b[1;33m=\u001b[0m\u001b[1;34m'lbfgs'\u001b[0m\u001b[1;33m,\u001b[0m \u001b[0mC\u001b[0m\u001b[1;33m=\u001b[0m\u001b[1;36m0.9\u001b[0m\u001b[1;33m,\u001b[0m \u001b[0mmax_iter\u001b[0m\u001b[1;33m=\u001b[0m\u001b[1;36m1000\u001b[0m\u001b[1;33m)\u001b[0m\u001b[1;33m\u001b[0m\u001b[1;33m\u001b[0m\u001b[0m\n\u001b[1;32m----> 2\u001b[1;33m \u001b[0mlr\u001b[0m\u001b[1;33m.\u001b[0m\u001b[0mfit\u001b[0m\u001b[1;33m(\u001b[0m\u001b[0mtr1\u001b[0m\u001b[1;33m,\u001b[0m\u001b[0my_train\u001b[0m\u001b[1;33m)\u001b[0m\u001b[1;33m\u001b[0m\u001b[1;33m\u001b[0m\u001b[0m\n\u001b[0m\u001b[0;32m      3\u001b[0m \u001b[0mprobs\u001b[0m \u001b[1;33m=\u001b[0m \u001b[0mlr\u001b[0m\u001b[1;33m.\u001b[0m\u001b[0mpredict_proba\u001b[0m\u001b[1;33m(\u001b[0m\u001b[0mX_test\u001b[0m\u001b[1;33m)\u001b[0m\u001b[1;33m[\u001b[0m\u001b[1;33m:\u001b[0m\u001b[1;33m,\u001b[0m\u001b[1;33m-\u001b[0m\u001b[1;36m1\u001b[0m\u001b[1;33m]\u001b[0m\u001b[1;33m\u001b[0m\u001b[1;33m\u001b[0m\u001b[0m\n\u001b[0;32m      4\u001b[0m \u001b[0mfpr\u001b[0m\u001b[1;33m,\u001b[0m\u001b[0mtpr\u001b[0m\u001b[1;33m,\u001b[0m\u001b[0mthresholds\u001b[0m \u001b[1;33m=\u001b[0m \u001b[0mroc_curve\u001b[0m\u001b[1;33m(\u001b[0m\u001b[0my_test\u001b[0m\u001b[1;33m,\u001b[0m\u001b[0mprobs\u001b[0m\u001b[1;33m)\u001b[0m\u001b[1;33m\u001b[0m\u001b[1;33m\u001b[0m\u001b[0m\n\u001b[0;32m      5\u001b[0m \u001b[0mauc\u001b[0m\u001b[1;33m(\u001b[0m\u001b[0mfpr\u001b[0m\u001b[1;33m,\u001b[0m\u001b[0mtpr\u001b[0m\u001b[1;33m)\u001b[0m\u001b[1;33m\u001b[0m\u001b[1;33m\u001b[0m\u001b[0m\n",
      "\u001b[1;32m~\\AppData\\Local\\Continuum\\anaconda3\\lib\\site-packages\\sklearn\\linear_model\\logistic.py\u001b[0m in \u001b[0;36mfit\u001b[1;34m(self, X, y, sample_weight)\u001b[0m\n\u001b[0;32m   1530\u001b[0m \u001b[1;33m\u001b[0m\u001b[0m\n\u001b[0;32m   1531\u001b[0m         X, y = check_X_y(X, y, accept_sparse='csr', dtype=_dtype, order=\"C\",\n\u001b[1;32m-> 1532\u001b[1;33m                          accept_large_sparse=solver != 'liblinear')\n\u001b[0m\u001b[0;32m   1533\u001b[0m         \u001b[0mcheck_classification_targets\u001b[0m\u001b[1;33m(\u001b[0m\u001b[0my\u001b[0m\u001b[1;33m)\u001b[0m\u001b[1;33m\u001b[0m\u001b[1;33m\u001b[0m\u001b[0m\n\u001b[0;32m   1534\u001b[0m         \u001b[0mself\u001b[0m\u001b[1;33m.\u001b[0m\u001b[0mclasses_\u001b[0m \u001b[1;33m=\u001b[0m \u001b[0mnp\u001b[0m\u001b[1;33m.\u001b[0m\u001b[0munique\u001b[0m\u001b[1;33m(\u001b[0m\u001b[0my\u001b[0m\u001b[1;33m)\u001b[0m\u001b[1;33m\u001b[0m\u001b[1;33m\u001b[0m\u001b[0m\n",
      "\u001b[1;32m~\\AppData\\Local\\Continuum\\anaconda3\\lib\\site-packages\\sklearn\\utils\\validation.py\u001b[0m in \u001b[0;36mcheck_X_y\u001b[1;34m(X, y, accept_sparse, accept_large_sparse, dtype, order, copy, force_all_finite, ensure_2d, allow_nd, multi_output, ensure_min_samples, ensure_min_features, y_numeric, warn_on_dtype, estimator)\u001b[0m\n\u001b[0;32m    727\u001b[0m         \u001b[0my\u001b[0m \u001b[1;33m=\u001b[0m \u001b[0my\u001b[0m\u001b[1;33m.\u001b[0m\u001b[0mastype\u001b[0m\u001b[1;33m(\u001b[0m\u001b[0mnp\u001b[0m\u001b[1;33m.\u001b[0m\u001b[0mfloat64\u001b[0m\u001b[1;33m)\u001b[0m\u001b[1;33m\u001b[0m\u001b[1;33m\u001b[0m\u001b[0m\n\u001b[0;32m    728\u001b[0m \u001b[1;33m\u001b[0m\u001b[0m\n\u001b[1;32m--> 729\u001b[1;33m     \u001b[0mcheck_consistent_length\u001b[0m\u001b[1;33m(\u001b[0m\u001b[0mX\u001b[0m\u001b[1;33m,\u001b[0m \u001b[0my\u001b[0m\u001b[1;33m)\u001b[0m\u001b[1;33m\u001b[0m\u001b[1;33m\u001b[0m\u001b[0m\n\u001b[0m\u001b[0;32m    730\u001b[0m \u001b[1;33m\u001b[0m\u001b[0m\n\u001b[0;32m    731\u001b[0m     \u001b[1;32mreturn\u001b[0m \u001b[0mX\u001b[0m\u001b[1;33m,\u001b[0m \u001b[0my\u001b[0m\u001b[1;33m\u001b[0m\u001b[1;33m\u001b[0m\u001b[0m\n",
      "\u001b[1;32m~\\AppData\\Local\\Continuum\\anaconda3\\lib\\site-packages\\sklearn\\utils\\validation.py\u001b[0m in \u001b[0;36mcheck_consistent_length\u001b[1;34m(*arrays)\u001b[0m\n\u001b[0;32m    203\u001b[0m     \u001b[1;32mif\u001b[0m \u001b[0mlen\u001b[0m\u001b[1;33m(\u001b[0m\u001b[0muniques\u001b[0m\u001b[1;33m)\u001b[0m \u001b[1;33m>\u001b[0m \u001b[1;36m1\u001b[0m\u001b[1;33m:\u001b[0m\u001b[1;33m\u001b[0m\u001b[1;33m\u001b[0m\u001b[0m\n\u001b[0;32m    204\u001b[0m         raise ValueError(\"Found input variables with inconsistent numbers of\"\n\u001b[1;32m--> 205\u001b[1;33m                          \" samples: %r\" % [int(l) for l in lengths])\n\u001b[0m\u001b[0;32m    206\u001b[0m \u001b[1;33m\u001b[0m\u001b[0m\n\u001b[0;32m    207\u001b[0m \u001b[1;33m\u001b[0m\u001b[0m\n",
      "\u001b[1;31mValueError\u001b[0m: Found input variables with inconsistent numbers of samples: [883, 942]"
     ]
    }
   ],
   "source": [
    "lr = LogisticRegression(solver='lbfgs', C=0.9, max_iter=1000)\n",
    "lr.fit(tr1,y_train)\n",
    "probs = lr.predict_proba(X_test)[:,-1]\n",
    "fpr,tpr,thresholds = roc_curve(y_test,probs)\n",
    "auc(fpr,tpr)"
   ]
  },
  {
   "cell_type": "code",
   "execution_count": null,
   "metadata": {},
   "outputs": [],
   "source": [
    "lr = LogisticRegression(solver='lbfgs', C=0.9, max_iter=1000)\n",
    "lr.fit(tr[cls],tr['HighUtilizationY2'])\n",
    "acc = []\n",
    "for cnt in range(0,300,10):\n",
    "    tt = X_test[(X_test['age'] >= cnt) & (X_test['age'] < cnt + 10)]\n",
    "    probs = lr.predict_proba(X_test)[:,-1]\n",
    "    temp = accuracy_score(probs,tt['HighUtilizationY2'])\n",
    "    print(temp)\n",
    "    acc.append(temp)"
   ]
  },
  {
   "cell_type": "code",
   "execution_count": 138,
   "metadata": {},
   "outputs": [
    {
     "ename": "ValueError",
     "evalue": "Found array with 0 sample(s) (shape=(0, 77)) while a minimum of 1 is required.",
     "output_type": "error",
     "traceback": [
      "\u001b[1;31m---------------------------------------------------------------------------\u001b[0m",
      "\u001b[1;31mValueError\u001b[0m                                Traceback (most recent call last)",
      "\u001b[1;32m<ipython-input-138-076b59a758b9>\u001b[0m in \u001b[0;36m<module>\u001b[1;34m\u001b[0m\n\u001b[0;32m      4\u001b[0m     \u001b[0mtt\u001b[0m \u001b[1;33m=\u001b[0m \u001b[0mX_test\u001b[0m\u001b[1;33m[\u001b[0m\u001b[0mX_test\u001b[0m\u001b[1;33m[\u001b[0m\u001b[1;34m'age'\u001b[0m\u001b[1;33m]\u001b[0m \u001b[1;33m==\u001b[0m \u001b[0ma\u001b[0m\u001b[1;33m]\u001b[0m\u001b[1;33m\u001b[0m\u001b[1;33m\u001b[0m\u001b[0m\n\u001b[0;32m      5\u001b[0m     \u001b[0mttt\u001b[0m \u001b[1;33m=\u001b[0m \u001b[0mX_train\u001b[0m\u001b[1;33m[\u001b[0m\u001b[0mX_train\u001b[0m\u001b[1;33m[\u001b[0m\u001b[1;34m'age'\u001b[0m\u001b[1;33m]\u001b[0m \u001b[1;33m==\u001b[0m \u001b[0ma\u001b[0m\u001b[1;33m]\u001b[0m\u001b[1;33m\u001b[0m\u001b[1;33m\u001b[0m\u001b[0m\n\u001b[1;32m----> 6\u001b[1;33m     \u001b[0mdist\u001b[0m\u001b[1;33m.\u001b[0m\u001b[0mappend\u001b[0m\u001b[1;33m(\u001b[0m \u001b[0mrf\u001b[0m\u001b[1;33m.\u001b[0m\u001b[0mpredict_proba\u001b[0m\u001b[1;33m(\u001b[0m\u001b[0mtt\u001b[0m\u001b[1;33m[\u001b[0m\u001b[0mcls\u001b[0m\u001b[1;33m]\u001b[0m\u001b[1;33m)\u001b[0m\u001b[1;33m[\u001b[0m\u001b[1;33m:\u001b[0m\u001b[1;33m,\u001b[0m\u001b[1;36m1\u001b[0m\u001b[1;33m]\u001b[0m\u001b[1;33m.\u001b[0m\u001b[0mmean\u001b[0m\u001b[1;33m(\u001b[0m\u001b[1;33m)\u001b[0m\u001b[1;33m)\u001b[0m\u001b[1;33m\u001b[0m\u001b[1;33m\u001b[0m\u001b[0m\n\u001b[0m\u001b[0;32m      7\u001b[0m     \u001b[0mdist1\u001b[0m\u001b[1;33m.\u001b[0m\u001b[0mappend\u001b[0m\u001b[1;33m(\u001b[0m \u001b[0mrf\u001b[0m\u001b[1;33m.\u001b[0m\u001b[0mpredict_proba\u001b[0m\u001b[1;33m(\u001b[0m\u001b[0mttt\u001b[0m\u001b[1;33m[\u001b[0m\u001b[0mcls\u001b[0m\u001b[1;33m]\u001b[0m\u001b[1;33m)\u001b[0m\u001b[1;33m[\u001b[0m\u001b[1;33m:\u001b[0m\u001b[1;33m,\u001b[0m\u001b[1;36m1\u001b[0m\u001b[1;33m]\u001b[0m\u001b[1;33m.\u001b[0m\u001b[0mmean\u001b[0m\u001b[1;33m(\u001b[0m\u001b[1;33m)\u001b[0m\u001b[1;33m)\u001b[0m\u001b[1;33m\u001b[0m\u001b[1;33m\u001b[0m\u001b[0m\n\u001b[0;32m      8\u001b[0m \u001b[1;33m\u001b[0m\u001b[0m\n",
      "\u001b[1;32m~\\AppData\\Local\\Continuum\\anaconda3\\lib\\site-packages\\sklearn\\ensemble\\forest.py\u001b[0m in \u001b[0;36mpredict_proba\u001b[1;34m(self, X)\u001b[0m\n\u001b[0;32m    586\u001b[0m         \u001b[0mcheck_is_fitted\u001b[0m\u001b[1;33m(\u001b[0m\u001b[0mself\u001b[0m\u001b[1;33m,\u001b[0m \u001b[1;34m'estimators_'\u001b[0m\u001b[1;33m)\u001b[0m\u001b[1;33m\u001b[0m\u001b[1;33m\u001b[0m\u001b[0m\n\u001b[0;32m    587\u001b[0m         \u001b[1;31m# Check data\u001b[0m\u001b[1;33m\u001b[0m\u001b[1;33m\u001b[0m\u001b[1;33m\u001b[0m\u001b[0m\n\u001b[1;32m--> 588\u001b[1;33m         \u001b[0mX\u001b[0m \u001b[1;33m=\u001b[0m \u001b[0mself\u001b[0m\u001b[1;33m.\u001b[0m\u001b[0m_validate_X_predict\u001b[0m\u001b[1;33m(\u001b[0m\u001b[0mX\u001b[0m\u001b[1;33m)\u001b[0m\u001b[1;33m\u001b[0m\u001b[1;33m\u001b[0m\u001b[0m\n\u001b[0m\u001b[0;32m    589\u001b[0m \u001b[1;33m\u001b[0m\u001b[0m\n\u001b[0;32m    590\u001b[0m         \u001b[1;31m# Assign chunk of trees to jobs\u001b[0m\u001b[1;33m\u001b[0m\u001b[1;33m\u001b[0m\u001b[1;33m\u001b[0m\u001b[0m\n",
      "\u001b[1;32m~\\AppData\\Local\\Continuum\\anaconda3\\lib\\site-packages\\sklearn\\ensemble\\forest.py\u001b[0m in \u001b[0;36m_validate_X_predict\u001b[1;34m(self, X)\u001b[0m\n\u001b[0;32m    357\u001b[0m                                  \"call `fit` before exploiting the model.\")\n\u001b[0;32m    358\u001b[0m \u001b[1;33m\u001b[0m\u001b[0m\n\u001b[1;32m--> 359\u001b[1;33m         \u001b[1;32mreturn\u001b[0m \u001b[0mself\u001b[0m\u001b[1;33m.\u001b[0m\u001b[0mestimators_\u001b[0m\u001b[1;33m[\u001b[0m\u001b[1;36m0\u001b[0m\u001b[1;33m]\u001b[0m\u001b[1;33m.\u001b[0m\u001b[0m_validate_X_predict\u001b[0m\u001b[1;33m(\u001b[0m\u001b[0mX\u001b[0m\u001b[1;33m,\u001b[0m \u001b[0mcheck_input\u001b[0m\u001b[1;33m=\u001b[0m\u001b[1;32mTrue\u001b[0m\u001b[1;33m)\u001b[0m\u001b[1;33m\u001b[0m\u001b[1;33m\u001b[0m\u001b[0m\n\u001b[0m\u001b[0;32m    360\u001b[0m \u001b[1;33m\u001b[0m\u001b[0m\n\u001b[0;32m    361\u001b[0m     \u001b[1;33m@\u001b[0m\u001b[0mproperty\u001b[0m\u001b[1;33m\u001b[0m\u001b[1;33m\u001b[0m\u001b[0m\n",
      "\u001b[1;32m~\\AppData\\Local\\Continuum\\anaconda3\\lib\\site-packages\\sklearn\\tree\\tree.py\u001b[0m in \u001b[0;36m_validate_X_predict\u001b[1;34m(self, X, check_input)\u001b[0m\n\u001b[0;32m    389\u001b[0m         \u001b[1;34m\"\"\"Validate X whenever one tries to predict, apply, predict_proba\"\"\"\u001b[0m\u001b[1;33m\u001b[0m\u001b[1;33m\u001b[0m\u001b[0m\n\u001b[0;32m    390\u001b[0m         \u001b[1;32mif\u001b[0m \u001b[0mcheck_input\u001b[0m\u001b[1;33m:\u001b[0m\u001b[1;33m\u001b[0m\u001b[1;33m\u001b[0m\u001b[0m\n\u001b[1;32m--> 391\u001b[1;33m             \u001b[0mX\u001b[0m \u001b[1;33m=\u001b[0m \u001b[0mcheck_array\u001b[0m\u001b[1;33m(\u001b[0m\u001b[0mX\u001b[0m\u001b[1;33m,\u001b[0m \u001b[0mdtype\u001b[0m\u001b[1;33m=\u001b[0m\u001b[0mDTYPE\u001b[0m\u001b[1;33m,\u001b[0m \u001b[0maccept_sparse\u001b[0m\u001b[1;33m=\u001b[0m\u001b[1;34m\"csr\"\u001b[0m\u001b[1;33m)\u001b[0m\u001b[1;33m\u001b[0m\u001b[1;33m\u001b[0m\u001b[0m\n\u001b[0m\u001b[0;32m    392\u001b[0m             if issparse(X) and (X.indices.dtype != np.intc or\n\u001b[0;32m    393\u001b[0m                                 X.indptr.dtype != np.intc):\n",
      "\u001b[1;32m~\\AppData\\Local\\Continuum\\anaconda3\\lib\\site-packages\\sklearn\\utils\\validation.py\u001b[0m in \u001b[0;36mcheck_array\u001b[1;34m(array, accept_sparse, accept_large_sparse, dtype, order, copy, force_all_finite, ensure_2d, allow_nd, ensure_min_samples, ensure_min_features, warn_on_dtype, estimator)\u001b[0m\n\u001b[0;32m    548\u001b[0m                              \u001b[1;34m\" minimum of %d is required%s.\"\u001b[0m\u001b[1;33m\u001b[0m\u001b[1;33m\u001b[0m\u001b[0m\n\u001b[0;32m    549\u001b[0m                              % (n_samples, array.shape, ensure_min_samples,\n\u001b[1;32m--> 550\u001b[1;33m                                 context))\n\u001b[0m\u001b[0;32m    551\u001b[0m \u001b[1;33m\u001b[0m\u001b[0m\n\u001b[0;32m    552\u001b[0m     \u001b[1;32mif\u001b[0m \u001b[0mensure_min_features\u001b[0m \u001b[1;33m>\u001b[0m \u001b[1;36m0\u001b[0m \u001b[1;32mand\u001b[0m \u001b[0marray\u001b[0m\u001b[1;33m.\u001b[0m\u001b[0mndim\u001b[0m \u001b[1;33m==\u001b[0m \u001b[1;36m2\u001b[0m\u001b[1;33m:\u001b[0m\u001b[1;33m\u001b[0m\u001b[1;33m\u001b[0m\u001b[0m\n",
      "\u001b[1;31mValueError\u001b[0m: Found array with 0 sample(s) (shape=(0, 77)) while a minimum of 1 is required."
     ]
    }
   ],
   "source": [
    "dist = []\n",
    "dist1 = []\n",
    "for a in list(x):\n",
    "    tt = X_test[X_test['age'] == a]\n",
    "    ttt = X_train[X_train['age'] == a]\n",
    "    dist.append( rf.predict_proba(tt[cls])[:,1].mean())\n",
    "    dist1.append( rf.predict_proba(ttt[cls])[:,1].mean())\n",
    "    "
   ]
  },
  {
   "cell_type": "code",
   "execution_count": null,
   "metadata": {},
   "outputs": [],
   "source": []
  },
  {
   "cell_type": "code",
   "execution_count": null,
   "metadata": {},
   "outputs": [],
   "source": [
    "plt.plot(list(x),dist)\n",
    "plt.plot(list(x),dist1)"
   ]
  },
  {
   "cell_type": "code",
   "execution_count": null,
   "metadata": {},
   "outputs": [],
   "source": []
  },
  {
   "cell_type": "code",
   "execution_count": null,
   "metadata": {},
   "outputs": [],
   "source": []
  },
  {
   "cell_type": "code",
   "execution_count": 89,
   "metadata": {},
   "outputs": [],
   "source": [
    "# Import two metrics from sklearn - fbeta_score and accuracy_score\n",
    "from sklearn.metrics import fbeta_score,accuracy_score\n",
    "\n",
    "def train_predict(learner, sample_size, X_train, y_train, X_test, y_test): \n",
    "    '''\n",
    "    inputs:\n",
    "       - learner: the learning algorithm to be trained and predicted on\n",
    "       - sample_size: the size of samples (number) to be drawn from training set\n",
    "       - X_train: features training set\n",
    "       - y_train: income training set\n",
    "       - X_test: features testing set\n",
    "       - y_test: income testing set\n",
    "    '''\n",
    "    \n",
    "    results = {}\n",
    "    \n",
    "    # Fit the learner to the training data using slicing with 'sample_size'\n",
    "    start = time() # Get start time\n",
    "    learner = learner.fit(X_train[:sample_size],y_train[:sample_size])\n",
    "    end = time() # Get end time\n",
    "    \n",
    "    # Calculate the training time\n",
    "    results['train_time'] = end - start\n",
    "        \n",
    "    # Get the predictions on the test set,\n",
    "    #       then get predictions on the first 300 training samples\n",
    "    start = time() # Get start time\n",
    "    predictions_test = clf.predict(X_test)\n",
    "    predictions_train = clf.predict(X_train[:300])\n",
    "    end = time() # Get end time\n",
    "    \n",
    "    # Calculate the total prediction time\n",
    "    results['pred_time'] = end - start\n",
    "            \n",
    "    # Compute accuracy on the first 300 training samples\n",
    "    results['acc_train'] = accuracy_score(y_train[:300], predictions_train)\n",
    "        \n",
    "    # TODO: Compute accuracy on test set\n",
    "    results['acc_test'] = accuracy_score(y_test, predictions_test)\n",
    "    \n",
    "    # Compute F-score on the the first 300 training samples\n",
    "    results['f_train'] = fbeta_score(y_train[:300], predictions_train, beta=0.5)\n",
    "        \n",
    "    # Compute F-score on the test set\n",
    "    results['f_test'] = fbeta_score(y_test, predictions_test, beta=0.5)\n",
    "       \n",
    "    # Success\n",
    "    print(\"{} trained on {} samples.\".format(learner.__class__.__name__, sample_size))\n",
    "        \n",
    "    # Return the results\n",
    "    return results"
   ]
  },
  {
   "cell_type": "markdown",
   "metadata": {},
   "source": [
    "### Training the Machine Learning Models"
   ]
  },
  {
   "cell_type": "code",
   "execution_count": 90,
   "metadata": {},
   "outputs": [
    {
     "name": "stdout",
     "output_type": "stream",
     "text": [
      "LogisticRegression trained on 471 samples.\n",
      "LogisticRegression trained on 659 samples.\n",
      "LogisticRegression trained on 942 samples.\n",
      "RandomForestClassifier trained on 471 samples.\n",
      "RandomForestClassifier trained on 659 samples.\n",
      "RandomForestClassifier trained on 942 samples.\n"
     ]
    }
   ],
   "source": [
    "# Import the three supervised learning models from sklearn\n",
    "from sklearn.linear_model import LogisticRegression\n",
    "from sklearn.ensemble import RandomForestClassifier\n",
    "from sklearn.naive_bayes import GaussianNB\n",
    "\n",
    "\n",
    "my_random_state=42\n",
    "\n",
    "# Initialize the three models\n",
    "clf_A = LogisticRegression(random_state=my_random_state)\n",
    "clf_B = RandomForestClassifier(random_state=my_random_state)\n",
    "\n",
    "\n",
    "\n",
    "# Calculate the number of samples for 50%, 70%, and 100% of the training data\n",
    "samples_50 = int(0.5*len(X_train))\n",
    "samples_70 = int(0.7*len(X_train))\n",
    "samples_100 = len(X_train)\n",
    "\n",
    "# Collect results on the learners\n",
    "results = {}\n",
    "for clf in [clf_A, clf_B]:\n",
    "    clf_name = clf.__class__.__name__\n",
    "    results[clf_name] = {}\n",
    "    for i, samples in enumerate([samples_50, samples_70, samples_100]):\n",
    "        results[clf_name][i] = \\\n",
    "        train_predict(clf, samples, X_train, y_train, X_test, y_test)\n",
    "\n",
    "# Run metrics visualization for the three supervised learning models chosen\n",
    "#vs.evaluate(results, accuracy, fscore)"
   ]
  },
  {
   "cell_type": "markdown",
   "metadata": {},
   "source": [
    "#### **Combine all results together in a single dataset**"
   ]
  },
  {
   "cell_type": "code",
   "execution_count": 91,
   "metadata": {},
   "outputs": [],
   "source": [
    "# This function takes a nested dictionary and flattens it\n",
    "def flatten_dict(d):\n",
    "    def items():\n",
    "        for key, value in d.items():\n",
    "            if isinstance(value, dict):\n",
    "                for subkey, subvalue in flatten_dict(value).items():\n",
    "                    yield str(key) + \".\" + str(subkey), subvalue\n",
    "            else:\n",
    "                yield key, value\n",
    "\n",
    "    return dict(items())"
   ]
  },
  {
   "cell_type": "code",
   "execution_count": 94,
   "metadata": {},
   "outputs": [
    {
     "data": {
      "text/html": [
       "<div>\n",
       "<style scoped>\n",
       "    .dataframe tbody tr th:only-of-type {\n",
       "        vertical-align: middle;\n",
       "    }\n",
       "\n",
       "    .dataframe tbody tr th {\n",
       "        vertical-align: top;\n",
       "    }\n",
       "\n",
       "    .dataframe thead th {\n",
       "        text-align: right;\n",
       "    }\n",
       "</style>\n",
       "<table border=\"1\" class=\"dataframe\">\n",
       "  <thead>\n",
       "    <tr style=\"text-align: right;\">\n",
       "      <th></th>\n",
       "      <th>model_name</th>\n",
       "      <th>iteration#</th>\n",
       "      <th>acc_test</th>\n",
       "      <th>acc_train</th>\n",
       "      <th>f_test</th>\n",
       "      <th>f_train</th>\n",
       "      <th>pred_time</th>\n",
       "      <th>train_time</th>\n",
       "    </tr>\n",
       "  </thead>\n",
       "  <tbody>\n",
       "    <tr>\n",
       "      <th>5</th>\n",
       "      <td>RandomForestClassifier</td>\n",
       "      <td>2</td>\n",
       "      <td>0.826271</td>\n",
       "      <td>0.993333</td>\n",
       "      <td>0.496454</td>\n",
       "      <td>0.993789</td>\n",
       "      <td>0.010738</td>\n",
       "      <td>0.066717</td>\n",
       "    </tr>\n",
       "    <tr>\n",
       "      <th>0</th>\n",
       "      <td>LogisticRegression</td>\n",
       "      <td>0</td>\n",
       "      <td>0.805085</td>\n",
       "      <td>0.870000</td>\n",
       "      <td>0.472637</td>\n",
       "      <td>0.735294</td>\n",
       "      <td>0.001663</td>\n",
       "      <td>0.009513</td>\n",
       "    </tr>\n",
       "    <tr>\n",
       "      <th>2</th>\n",
       "      <td>LogisticRegression</td>\n",
       "      <td>2</td>\n",
       "      <td>0.805085</td>\n",
       "      <td>0.846667</td>\n",
       "      <td>0.443787</td>\n",
       "      <td>0.661157</td>\n",
       "      <td>0.004001</td>\n",
       "      <td>0.031429</td>\n",
       "    </tr>\n",
       "    <tr>\n",
       "      <th>1</th>\n",
       "      <td>LogisticRegression</td>\n",
       "      <td>1</td>\n",
       "      <td>0.796610</td>\n",
       "      <td>0.853333</td>\n",
       "      <td>0.432432</td>\n",
       "      <td>0.675182</td>\n",
       "      <td>0.004063</td>\n",
       "      <td>0.007401</td>\n",
       "    </tr>\n",
       "    <tr>\n",
       "      <th>4</th>\n",
       "      <td>RandomForestClassifier</td>\n",
       "      <td>1</td>\n",
       "      <td>0.813559</td>\n",
       "      <td>0.996667</td>\n",
       "      <td>0.413223</td>\n",
       "      <td>0.988024</td>\n",
       "      <td>0.005254</td>\n",
       "      <td>0.020244</td>\n",
       "    </tr>\n",
       "    <tr>\n",
       "      <th>3</th>\n",
       "      <td>RandomForestClassifier</td>\n",
       "      <td>0</td>\n",
       "      <td>0.809322</td>\n",
       "      <td>0.986667</td>\n",
       "      <td>0.366972</td>\n",
       "      <td>0.987261</td>\n",
       "      <td>0.007377</td>\n",
       "      <td>0.014468</td>\n",
       "    </tr>\n",
       "  </tbody>\n",
       "</table>\n",
       "</div>"
      ],
      "text/plain": [
       "               model_name iteration#  acc_test  acc_train    f_test   f_train  \\\n",
       "5  RandomForestClassifier          2  0.826271   0.993333  0.496454  0.993789   \n",
       "0      LogisticRegression          0  0.805085   0.870000  0.472637  0.735294   \n",
       "2      LogisticRegression          2  0.805085   0.846667  0.443787  0.661157   \n",
       "1      LogisticRegression          1  0.796610   0.853333  0.432432  0.675182   \n",
       "4  RandomForestClassifier          1  0.813559   0.996667  0.413223  0.988024   \n",
       "3  RandomForestClassifier          0  0.809322   0.986667  0.366972  0.987261   \n",
       "\n",
       "   pred_time  train_time  \n",
       "5   0.010738    0.066717  \n",
       "0   0.001663    0.009513  \n",
       "2   0.004001    0.031429  \n",
       "1   0.004063    0.007401  \n",
       "4   0.005254    0.020244  \n",
       "3   0.007377    0.014468  "
      ]
     },
     "execution_count": 94,
     "metadata": {},
     "output_type": "execute_result"
    }
   ],
   "source": [
    "#Merge results from all 3 tests into single dictionary and then flatten the dictionary\n",
    "final_results = results.copy()\n",
    "final_results = flatten_dict(final_results)\n",
    "\n",
    "#Copy results into a dataframe for easier analysis of results\n",
    "final_result_df = pd.DataFrame(columns=['model_name', 'iteration#'])\n",
    "for key,value in final_results.items():\n",
    "    key_split = key.split('.')\n",
    "    final_result_df = final_result_df.append(pd.DataFrame([[key_split[0],key_split[1],value]],columns=['model_name', 'iteration#', key_split[2]] ))\n",
    "\n",
    "final_result_df.set_index(['model_name'], inplace=True)\n",
    "final_result_df.reset_index(inplace=True)\n",
    "\n",
    "final_result_df = final_result_df.groupby(['model_name','iteration#']).mean()\n",
    "final_result_df.reset_index(inplace=True)\n",
    "final_result_df.sort_values(by=['f_test'],ascending=False)"
   ]
  },
  {
   "cell_type": "markdown",
   "metadata": {},
   "source": [
    "### Sensitivity Analysis"
   ]
  },
  {
   "cell_type": "code",
   "execution_count": 95,
   "metadata": {},
   "outputs": [
    {
     "data": {
      "image/png": "[encoded data removed]",
      "text/plain": [
       "<Figure size 432x288 with 1 Axes>"
      ]
     },
     "metadata": {},
     "output_type": "display_data"
    }
   ],
   "source": [
    "ax = X_train[['age']].plot(kind='hist', title =\"Age Distribution\", legend=True, grid=True, bins=30, color='orange', alpha=0.6)"
   ]
  },
  {
   "cell_type": "code",
   "execution_count": null,
   "metadata": {},
   "outputs": [],
   "source": [
    "x ="
   ]
  },
  {
   "cell_type": "code",
   "execution_count": 86,
   "metadata": {},
   "outputs": [],
   "source": [
    "from sklearn.ensemble import RandomForestClassifier\n",
    "import sklearn.preprocessing as skpp\n",
    "from sklearn.model_selection import RandomizedSearchCV\n",
    "\n",
    "from sklearn.model_selection import GridSearchCV\n",
    "from sklearn.metrics import roc_auc_score\n",
    "from sklearn.metrics import accuracy_score\n",
    "from sklearn.metrics import make_scorer\n",
    "\n",
    "param_grid = {\n",
    "              \"n_estimators\": list(range(1,100)),\n",
    "             }\n",
    "\n",
    "forest = RandomForestClassifier( random_state=42)"
   ]
  },
  {
   "cell_type": "code",
   "execution_count": 87,
   "metadata": {},
   "outputs": [],
   "source": [
    "rand_for = RandomizedSearchCV(forest, param_grid, scoring = 'roc_auc', n_iter=20, random_state=42)\n",
    "_ = rand_for.fit(X_train, y_train)"
   ]
  },
  {
   "cell_type": "code",
   "execution_count": 88,
   "metadata": {},
   "outputs": [
    {
     "name": "stdout",
     "output_type": "stream",
     "text": [
      "0.7970028591146604\n",
      "{'n_estimators': 98}\n",
      "RandomForestClassifier(bootstrap=True, class_weight=None, criterion='gini',\n",
      "                       max_depth=None, max_features='auto', max_leaf_nodes=None,\n",
      "                       min_impurity_decrease=0.0, min_impurity_split=None,\n",
      "                       min_samples_leaf=1, min_samples_split=2,\n",
      "                       min_weight_fraction_leaf=0.0, n_estimators=98,\n",
      "                       n_jobs=None, oob_score=False, random_state=42, verbose=0,\n",
      "                       warm_start=False)\n"
     ]
    }
   ],
   "source": [
    "print(rand_for.best_score_)\n",
    "print(rand_for.best_params_)\n",
    "print(rand_for.best_estimator_)"
   ]
  },
  {
   "cell_type": "code",
   "execution_count": 43,
   "metadata": {},
   "outputs": [
    {
     "name": "stdout",
     "output_type": "stream",
     "text": [
      "0) Lactate 0.07285140700061678\n",
      "1) Phosphate 0.05995472667253431\n",
      "2) Anion Gap 0.049994711707884526\n",
      "3) Bicarbonate 0.04605386283546332\n",
      "4) PTT 0.0380745956544958\n",
      "5) Urea Nitrogen 0.03579905765035702\n",
      "6) Calcium, Total 0.03221803668908821\n",
      "7) MCHC 0.031378759747766855\n",
      "8) age 0.0273785651957938\n",
      "9) Hematocrit 0.027184805934324777\n",
      "10) Monocytes 0.026333883248864234\n",
      "11) Neutrophils 0.026154524019653118\n",
      "12) Sodium 0.025119751069508874\n",
      "13) MCH 0.02508792452689345\n",
      "14) White Blood Cells 0.024802415832972952\n",
      "15) PT 0.024563302972316705\n",
      "16) Magnesium 0.02447940611623975\n",
      "17) MCV 0.02381213290266255\n",
      "18) Glucose 0.023591583362583133\n",
      "19) Potassium 0.023109707264562566\n",
      "20) RDW 0.022966562268280373\n",
      "21) Asparate Aminotransferase (AST) 0.022294953054167108\n",
      "22) Platelet Count 0.021342113798778695\n",
      "23) INR(PT) 0.021003287016500685\n",
      "24) Chloride 0.020566998139367663\n",
      "25) Lymphocytes 0.020530214865564483\n",
      "26) Bilirubin, Total 0.02008915346570599\n",
      "27) Alkaline Phosphatase 0.019886651235965582\n",
      "28) Red Blood Cells 0.019079090223434025\n",
      "29) Hemoglobin 0.018871749024561176\n",
      "30) Creatinine 0.018588570617416682\n",
      "31) Alanine Aminotransferase (ALT) 0.015434607340402006\n",
      "32) Specific Gravity 0.01461123083762803\n",
      "33) Basophils 0.011464999637892263\n",
      "34) Eosinophils 0.011153722028626342\n",
      "35) pH 0.007638772756264682\n",
      "36) num_of_infections 0.007092411347000065\n",
      "37) SPUTUM 0.004840762672205948\n",
      "38) gender_F 0.003341381865030468\n",
      "39) insurance_Medicare 0.0032687883606694838\n",
      "40) BLOOD CULTURE 0.0025510729727800125\n",
      "41) ethnicity_WHITE 0.0025445150589510153\n",
      "42) URINE 0.00243677334091185\n",
      "43) SWAB 0.002360557109577664\n",
      "44) ethnicity_BLACK/AFRICAN AMERICAN 0.002327398600509917\n",
      "45) insurance_Private 0.0021218742318378473\n",
      "46) gender_M 0.001851790144671251\n",
      "47) ethnicity_ASIAN - CHINESE 0.00184969350638019\n",
      "48) ethnicity_UNKNOWN/NOT SPECIFIED 0.0015006364961163163\n",
      "49) STOOL 0.00126804274653291\n",
      "50) ethnicity_HISPANIC OR LATINO 0.0011635249557637093\n",
      "51) insurance_Medicaid 0.0009701084623449302\n",
      "52) ethnicity_OTHER 0.0009257743005099452\n",
      "53) MRSA SCREEN 0.0008121261182606316\n",
      "54) admission_type_URGENT 0.000765237259242478\n",
      "55) ethnicity_UNABLE TO OBTAIN 0.0006037983702564096\n",
      "56) admission_type_EMERGENCY 0.0004158962121336742\n",
      "57) insurance_Self Pay 0.0003315095294232576\n",
      "58) ethnicity_ASIAN 0.0002613194825340046\n",
      "59) insurance_Government 0.00018365031142972038\n",
      "60) ethnicity_BLACK/AFRICAN 0.00015081671911090463\n",
      "61) ethnicity_PATIENT DECLINED TO ANSWER 0.00011857939670004912\n",
      "62) ethnicity_HISPANIC/LATINO - PUERTO RICAN 0.00011175851800991787\n",
      "63) ethnicity_ASIAN - CAMBODIAN 0.00010491377340570069\n",
      "64) ethnicity_WHITE - RUSSIAN 8.976360845333813e-05\n",
      "65) ethnicity_BLACK/CAPE VERDEAN 8.869719303075323e-05\n",
      "66) ethnicity_ASIAN - ASIAN INDIAN 4.722007750910048e-05\n",
      "67) ethnicity_WHITE - EASTERN EUROPEAN 3.377054356808808e-05\n",
      "68) ethnicity_BLACK/HAITIAN 0.0\n",
      "69) ethnicity_HISPANIC/LATINO - MEXICAN 0.0\n",
      "70) ethnicity_MULTI RACE ETHNICITY 0.0\n",
      "71) ethnicity_ASIAN - VIETNAMESE 0.0\n",
      "72) ethnicity_PORTUGUESE 0.0\n",
      "73) ethnicity_ASIAN - KOREAN 0.0\n",
      "74) ethnicity_WHITE - BRAZILIAN 0.0\n",
      "75) ethnicity_WHITE - OTHER EUROPEAN 0.0\n",
      "76) ethnicity_HISPANIC/LATINO - CUBAN 0.0\n"
     ]
    }
   ],
   "source": [
    "importances = rand_for.best_estimator_.feature_importances_\n",
    "indices = np.argsort(importances)[::-1]\n",
    "for f in range(X_train.shape[1]):\n",
    "    print(\"{}) {} {}\".format(f,X_train.columns[indices[f]], importances[indices[f]]))"
   ]
  },
  {
   "cell_type": "code",
   "execution_count": 44,
   "metadata": {},
   "outputs": [
    {
     "data": {
      "text/plain": [
       "array([1.54346073e-02, 1.98866512e-02, 4.99947117e-02, 2.22949531e-02,\n",
       "       1.14649996e-02, 4.60538628e-02, 2.00891535e-02, 3.22180367e-02,\n",
       "       2.05669981e-02, 1.85885706e-02, 1.11537220e-02, 2.35915834e-02,\n",
       "       2.71848059e-02, 1.88717490e-02, 2.10032870e-02, 7.28514070e-02,\n",
       "       2.05302149e-02, 2.50879245e-02, 3.13787597e-02, 2.38121329e-02,\n",
       "       2.44794061e-02, 2.63338832e-02, 2.61545240e-02, 2.45633030e-02,\n",
       "       3.80745957e-02, 5.99547267e-02, 2.13421138e-02, 2.31097073e-02,\n",
       "       2.29665623e-02, 1.90790902e-02, 2.51197511e-02, 1.46112308e-02,\n",
       "       3.57990577e-02, 2.48024158e-02, 7.63877276e-03, 2.73785652e-02,\n",
       "       2.55107297e-03, 8.12126118e-04, 4.84076267e-03, 1.26804275e-03,\n",
       "       2.36055711e-03, 2.43677334e-03, 7.09241135e-03, 4.15896212e-04,\n",
       "       7.65237259e-04, 1.83650311e-04, 9.70108462e-04, 3.26878836e-03,\n",
       "       2.12187423e-03, 3.31509529e-04, 2.61319483e-04, 4.72200775e-05,\n",
       "       1.04913773e-04, 1.84969351e-03, 0.00000000e+00, 0.00000000e+00,\n",
       "       1.50816719e-04, 2.32739860e-03, 8.86971930e-05, 0.00000000e+00,\n",
       "       1.16352496e-03, 0.00000000e+00, 0.00000000e+00, 1.11758518e-04,\n",
       "       0.00000000e+00, 9.25774301e-04, 1.18579397e-04, 0.00000000e+00,\n",
       "       6.03798370e-04, 1.50063650e-03, 2.54451506e-03, 0.00000000e+00,\n",
       "       3.37705436e-05, 0.00000000e+00, 8.97636085e-05, 3.34138187e-03,\n",
       "       1.85179014e-03])"
      ]
     },
     "execution_count": 44,
     "metadata": {},
     "output_type": "execute_result"
    }
   ],
   "source": [
    "importances"
   ]
  },
  {
   "cell_type": "code",
   "execution_count": 51,
   "metadata": {},
   "outputs": [
    {
     "data": {
      "text/plain": [
       "Index(['Alanine Aminotransferase (ALT)', 'Alkaline Phosphatase', 'Anion Gap',\n",
       "       'Asparate Aminotransferase (AST)', 'Basophils', 'Bicarbonate',\n",
       "       'Bilirubin, Total', 'Calcium, Total', 'Chloride', 'Creatinine',\n",
       "       'Eosinophils', 'Glucose', 'Hematocrit', 'Hemoglobin', 'INR(PT)',\n",
       "       'Lactate', 'Lymphocytes', 'MCH', 'MCHC', 'MCV', 'Magnesium',\n",
       "       'Monocytes', 'Neutrophils', 'PT', 'PTT', 'Phosphate', 'Platelet Count',\n",
       "       'Potassium', 'RDW', 'Red Blood Cells', 'Sodium', 'Specific Gravity',\n",
       "       'Urea Nitrogen', 'White Blood Cells', 'pH', 'age', 'BLOOD CULTURE',\n",
       "       'MRSA SCREEN', 'SPUTUM', 'STOOL', 'SWAB', 'URINE', 'num_of_infections',\n",
       "       'admission_type_EMERGENCY', 'admission_type_URGENT',\n",
       "       'insurance_Government', 'insurance_Medicaid', 'insurance_Medicare',\n",
       "       'insurance_Private', 'insurance_Self Pay', 'ethnicity_ASIAN',\n",
       "       'ethnicity_ASIAN - ASIAN INDIAN', 'ethnicity_ASIAN - CAMBODIAN',\n",
       "       'ethnicity_ASIAN - CHINESE', 'ethnicity_ASIAN - KOREAN',\n",
       "       'ethnicity_ASIAN - VIETNAMESE', 'ethnicity_BLACK/AFRICAN',\n",
       "       'ethnicity_BLACK/AFRICAN AMERICAN', 'ethnicity_BLACK/CAPE VERDEAN',\n",
       "       'ethnicity_BLACK/HAITIAN', 'ethnicity_HISPANIC OR LATINO',\n",
       "       'ethnicity_HISPANIC/LATINO - CUBAN',\n",
       "       'ethnicity_HISPANIC/LATINO - MEXICAN',\n",
       "       'ethnicity_HISPANIC/LATINO - PUERTO RICAN',\n",
       "       'ethnicity_MULTI RACE ETHNICITY', 'ethnicity_OTHER',\n",
       "       'ethnicity_PATIENT DECLINED TO ANSWER', 'ethnicity_PORTUGUESE',\n",
       "       'ethnicity_UNABLE TO OBTAIN', 'ethnicity_UNKNOWN/NOT SPECIFIED',\n",
       "       'ethnicity_WHITE', 'ethnicity_WHITE - BRAZILIAN',\n",
       "       'ethnicity_WHITE - EASTERN EUROPEAN',\n",
       "       'ethnicity_WHITE - OTHER EUROPEAN', 'ethnicity_WHITE - RUSSIAN',\n",
       "       'gender_F', 'gender_M'],\n",
       "      dtype='object')"
      ]
     },
     "execution_count": 51,
     "metadata": {},
     "output_type": "execute_result"
    }
   ],
   "source": [
    "X_train.columns"
   ]
  },
  {
   "cell_type": "code",
   "execution_count": 52,
   "metadata": {},
   "outputs": [
    {
     "data": {
      "text/plain": [
       "array([-0.5,  0. ,  0.5,  1. ,  1.5,  2. ,  2.5,  3. ,  3.5,  4. ,  4.5,\n",
       "        5. ,  6.5])"
      ]
     },
     "execution_count": 52,
     "metadata": {},
     "output_type": "execute_result"
    }
   ],
   "source": [
    "x = X_train['num_of_infections'].unique()\n",
    "x.sort()\n",
    "x"
   ]
  },
  {
   "cell_type": "code",
   "execution_count": null,
   "metadata": {},
   "outputs": [],
   "source": []
  },
  {
   "cell_type": "code",
   "execution_count": null,
   "metadata": {},
   "outputs": [],
   "source": []
  },
  {
   "cell_type": "code",
   "execution_count": null,
   "metadata": {},
   "outputs": [],
   "source": []
  },
  {
   "cell_type": "code",
   "execution_count": null,
   "metadata": {},
   "outputs": [],
   "source": []
  },
  {
   "cell_type": "code",
   "execution_count": null,
   "metadata": {},
   "outputs": [],
   "source": []
  },
  {
   "cell_type": "code",
   "execution_count": null,
   "metadata": {},
   "outputs": [],
   "source": []
  }
 ],
 "metadata": {
  "kernelspec": {
   "display_name": "Python 3",
   "language": "python",
   "name": "python3"
  },
  "language_info": {
   "codemirror_mode": {
    "name": "ipython",
    "version": 3
   },
   "file_extension": ".py",
   "mimetype": "text/x-python",
   "name": "python",
   "nbconvert_exporter": "python",
   "pygments_lexer": "ipython3",
   "version": "3.7.3"
  }
 },
 "nbformat": 4,
 "nbformat_minor": 1
}
