{
 "cells": [
  {
   "cell_type": "markdown",
   "metadata": {},
   "source": [
    "# Sepsis Model Comparison\n",
    "\n",
    "In this notebook, several different machine learning models will be trained, tested, compared and honed in attempting to out perform the benchmark study and achieve high accuracy."
   ]
  },
  {
   "cell_type": "markdown",
   "metadata": {},
   "source": [
    "## Attain and Pre-Process Data\n",
    "\n",
    "Data will be pre-processed in the same manner as the previous notebook but most heavy lifting will be offloaded to the helper python file mimicpreprocess.py. This file contains nearly the identical code as the previous exploratory notebook."
   ]
  },
  {
   "cell_type": "code",
   "execution_count": 1,
   "metadata": {
    "collapsed": false
   },
   "outputs": [],
   "source": [
    "import pandas as pd\n",
    "import numpy as np\n",
    "import xgboost as xgb\n",
    "\n",
    "import sklearn.preprocessing as skpp\n",
    "from sklearn.grid_search import RandomizedSearchCV\n",
    "from sklearn.grid_search import GridSearchCV\n",
    "from sklearn.metrics import roc_auc_score\n",
    "from sklearn.metrics import accuracy_score\n",
    "from sklearn.metrics import make_scorer\n",
    "from sklearn.cross_validation import train_test_split\n",
    "\n",
    "import datetime\n",
    "\n",
    "import matplotlib.pyplot as plt\n",
    "\n",
    "from mimicpreprocess import DataHandler"
   ]
  },
  {
   "cell_type": "code",
   "execution_count": 2,
   "metadata": {
    "collapsed": false
   },
   "outputs": [],
   "source": [
    "dh = DataHandler()\n",
    "dh.connect()"
   ]
  },
  {
   "cell_type": "code",
   "execution_count": 3,
   "metadata": {
    "collapsed": false
   },
   "outputs": [],
   "source": [
    "admissions = dh.admissions_query()\n",
    "patients = dh.patient_query()\n",
    "dh.prior_hospital_stays(admissions)"
   ]
  },
  {
   "cell_type": "code",
   "execution_count": 4,
   "metadata": {
    "collapsed": false
   },
   "outputs": [],
   "source": [
    "# Join patients and admission dataframes to obtain gender and age of patient\n",
    "patient_info = admissions.join(patients.set_index('subject_id'), on='subject_id')"
   ]
  },
  {
   "cell_type": "code",
   "execution_count": 5,
   "metadata": {
    "collapsed": false
   },
   "outputs": [],
   "source": [
    "patient_info['age'] = patient_info.apply (lambda row: dh.age (row),axis=1)"
   ]
  },
  {
   "cell_type": "code",
   "execution_count": 6,
   "metadata": {
    "collapsed": false
   },
   "outputs": [],
   "source": [
    "patient_vitals = dh.lab_event_query(patient_info)"
   ]
  },
  {
   "cell_type": "code",
   "execution_count": 7,
   "metadata": {
    "collapsed": false
   },
   "outputs": [
    {
     "data": {
      "text/plain": [
       "oxygen                   836\n",
       "pco2                     412\n",
       "PH                       355\n",
       "po2                      412\n",
       "tempurature              634\n",
       "lipase                   436\n",
       "hematocrit                 9\n",
       "hemoglobin                10\n",
       "INR                       68\n",
       "lymphocytes               58\n",
       "alkaline phosphatase     198\n",
       "MCH                       11\n",
       "amylase                  627\n",
       "neutrophils               58\n",
       "BUN                        8\n",
       "platelet                   8\n",
       "bicarbonate               14\n",
       "CRP                      993\n",
       "PTT                       68\n",
       "PT                        72\n",
       "RBCDW                     10\n",
       "calcium                   23\n",
       "ESR                     1120\n",
       "creatinine                 8\n",
       "WBC                     1172\n",
       "glucose                    9\n",
       "AST                      183\n",
       "lactate                   86\n",
       "dtype: int64"
      ]
     },
     "execution_count": 7,
     "metadata": {},
     "output_type": "execute_result"
    }
   ],
   "source": [
    "patient_vitals.isnull().sum()"
   ]
  },
  {
   "cell_type": "code",
   "execution_count": 8,
   "metadata": {
    "collapsed": false
   },
   "outputs": [],
   "source": [
    "from itertools import chain\n",
    "# Vitals that will be kept. The rest dropped due to lack of data\n",
    "keep_vitals = ['bicarbonate' ,'INR' ,'MCH' ,'AST','alkaline phosphatase' , 'creatinine', 'platelet', 'PT', 'PTT', 'lymphocytes', 'RBCDW', 'calcium', 'neutrophils', 'glucose', 'hematocrit', 'hemoglobin', 'lactate', 'BUN']\n",
    "patient_vitals_fixed = patient_vitals[keep_vitals]"
   ]
  },
  {
   "cell_type": "code",
   "execution_count": 9,
   "metadata": {
    "collapsed": false
   },
   "outputs": [],
   "source": [
    "# Find all hadm_ids where there are 6 or greater missing values. \n",
    "drop_hadm_ids = patient_vitals_fixed[patient_vitals_fixed.isnull().sum(axis=1) >= 6].index"
   ]
  },
  {
   "cell_type": "code",
   "execution_count": 10,
   "metadata": {
    "collapsed": true
   },
   "outputs": [],
   "source": [
    "patient_vitals_final = patient_vitals_fixed[~patient_vitals_fixed.index.isin(drop_hadm_ids)]"
   ]
  },
  {
   "cell_type": "code",
   "execution_count": 11,
   "metadata": {
    "collapsed": true
   },
   "outputs": [],
   "source": [
    "# Replace NaN values with the mean of each column. In the actual ML phase it may be worth figuring out WHY\n",
    "# Some values are missing. Here we will simply continue with mean.\n",
    "patient_vitals_final = patient_vitals_final.fillna(patient_vitals.mean())"
   ]
  },
  {
   "cell_type": "code",
   "execution_count": 12,
   "metadata": {
    "collapsed": false
   },
   "outputs": [],
   "source": [
    "# Add age column prior to standardization\n",
    "keep_vitals = keep_vitals + ['age', 'prior']"
   ]
  },
  {
   "cell_type": "code",
   "execution_count": 13,
   "metadata": {
    "collapsed": false
   },
   "outputs": [],
   "source": [
    "patient_info = patient_info[~patient_info.hadm_id.isin(drop_hadm_ids)]"
   ]
  },
  {
   "cell_type": "markdown",
   "metadata": {},
   "source": [
    "### Standardize Data\n",
    "Standardize data by fitting the dataframe to the Scikit learn preprocessing StandardScaler object. This refits all data to be zero-mean."
   ]
  },
  {
   "cell_type": "code",
   "execution_count": 14,
   "metadata": {
    "collapsed": false
   },
   "outputs": [],
   "source": [
    "# New patient info dataframe finally with vitals\n",
    "vital_patient_info = patient_info.join(patient_vitals_final, on='hadm_id')\n",
    "\n",
    "# Standardize the data from vital columns\n",
    "stdsc = skpp.StandardScaler()\n",
    "vital_patient_info[keep_vitals] = stdsc.fit_transform(vital_patient_info[keep_vitals])"
   ]
  },
  {
   "cell_type": "markdown",
   "metadata": {},
   "source": [
    "### Remove Outliers\n",
    "Quick loop to locate and remove entries that are outliers in 4 or more columns. This is useful since much medical data contains skewed results."
   ]
  },
  {
   "cell_type": "code",
   "execution_count": 15,
   "metadata": {
    "collapsed": false
   },
   "outputs": [],
   "source": [
    "potential_outliers = []\n",
    "from collections import Counter\n",
    "from IPython.display import display\n",
    "\n",
    "# For each feature find the data points with extreme high or low values\n",
    "for feature in patient_vitals_final.keys():\n",
    "\n",
    "    # Calculate Q1\n",
    "    Q1 = np.percentile(patient_vitals_final[feature], 25)\n",
    "    \n",
    "    # Calculate Q3\n",
    "    Q3 = np.percentile(patient_vitals_final[feature], 75)\n",
    "    \n",
    "    step = 1.5*(Q3-Q1)\n",
    "    \n",
    "    # Display the outliers\n",
    "    outlier = patient_vitals_final[~((patient_vitals_final[feature] >= Q1 - step) & (patient_vitals_final[feature] <= Q3 + step))]\n",
    "    potential_outliers += outlier.index.tolist()\n",
    "    \n",
    "# print Counter(potential_outliers)\n",
    "# len({k:v for (k,v) in Counter(potential_outliers).items() if v > 4})\n",
    "outliers = [k for (k,v) in Counter(potential_outliers).items() if v > 4]"
   ]
  },
  {
   "cell_type": "code",
   "execution_count": 16,
   "metadata": {
    "collapsed": false
   },
   "outputs": [],
   "source": [
    "vital_patient_info = vital_patient_info[~vital_patient_info.index.isin(outliers)]"
   ]
  },
  {
   "cell_type": "markdown",
   "metadata": {},
   "source": [
    "## Feature Selection\n",
    "Identify features that are useful for predicting the survivability of sepsis by training a random forest and using the fitted model's feature importance attribute to locate columns to drop."
   ]
  },
  {
   "cell_type": "code",
   "execution_count": 17,
   "metadata": {
    "collapsed": true
   },
   "outputs": [],
   "source": [
    "y_vitals = vital_patient_info['death_period']\n",
    "X_vitals = vital_patient_info.drop(['death_period', 'subject_id', 'hadm_id', 'admittime', 'admission_type', 'insurance', 'ethnicity', 'dob', 'gender', 'prior', 'INR', 'lymphocytes', 'glucose', 'hemoglobin'], 1) \n",
    "X_vitals = pd.get_dummies(X_vitals)"
   ]
  },
  {
   "cell_type": "code",
   "execution_count": 18,
   "metadata": {
    "collapsed": false
   },
   "outputs": [],
   "source": [
    "from sklearn.ensemble import RandomForestClassifier\n",
    "\n",
    "param_grid = {\n",
    "              \"n_estimators\": list(range(1,1000)),\n",
    "             }\n",
    "\n",
    "forest = RandomForestClassifier( random_state=42)"
   ]
  },
  {
   "cell_type": "code",
   "execution_count": 19,
   "metadata": {
    "collapsed": false
   },
   "outputs": [],
   "source": [
    "rand_for = RandomizedSearchCV(forest, param_grid, scoring = 'roc_auc', n_iter=20, random_state=42)\n",
    "_ = rand_for.fit(X_vitals,y_vitals)"
   ]
  },
  {
   "cell_type": "code",
   "execution_count": 20,
   "metadata": {
    "collapsed": false
   },
   "outputs": [
    {
     "name": "stdout",
     "output_type": "stream",
     "text": [
      "0.798011265838\n",
      "{'n_estimators': 215}\n",
      "RandomForestClassifier(bootstrap=True, class_weight=None, criterion='gini',\n",
      "            max_depth=None, max_features='auto', max_leaf_nodes=None,\n",
      "            min_samples_leaf=1, min_samples_split=2,\n",
      "            min_weight_fraction_leaf=0.0, n_estimators=215, n_jobs=1,\n",
      "            oob_score=False, random_state=42, verbose=0, warm_start=False)\n"
     ]
    }
   ],
   "source": [
    "print(rand_for.best_score_)\n",
    "print(rand_for.best_params_)\n",
    "print(rand_for.best_estimator_)"
   ]
  },
  {
   "cell_type": "code",
   "execution_count": 21,
   "metadata": {
    "collapsed": false
   },
   "outputs": [
    {
     "name": "stdout",
     "output_type": "stream",
     "text": [
      "0) lactate 0.120621919702\n",
      "1) bicarbonate 0.0891480184635\n",
      "2) BUN 0.085720846552\n",
      "3) PT 0.0681547584876\n",
      "4) calcium 0.0637462535571\n",
      "5) AST 0.0629394890653\n",
      "6) RBCDW 0.0618520313594\n",
      "7) hematocrit 0.0608084056982\n",
      "8) creatinine 0.0599723450538\n",
      "9) PTT 0.0584180822359\n",
      "10) alkaline phosphatase 0.0569462415418\n",
      "11) platelet 0.0555460145788\n",
      "12) neutrophils 0.0543934466281\n",
      "13) MCH 0.0533024113793\n",
      "14) age 0.0484297356972\n"
     ]
    }
   ],
   "source": [
    "importances = rand_for.best_estimator_.feature_importances_\n",
    "indices = np.argsort(importances)[::-1]\n",
    "for f in range(X_vitals.shape[1]):\n",
    "    print \"{}) {} {}\".format(f, X_vitals.columns[indices[f]], importances[indices[f]])"
   ]
  },
  {
   "cell_type": "markdown",
   "metadata": {},
   "source": [
    "## Support Vector Machine"
   ]
  },
  {
   "cell_type": "code",
   "execution_count": 22,
   "metadata": {
    "collapsed": true
   },
   "outputs": [],
   "source": [
    "from sklearn.svm import SVC"
   ]
  },
  {
   "cell_type": "code",
   "execution_count": 23,
   "metadata": {
    "collapsed": false
   },
   "outputs": [],
   "source": [
    "sv_clf = SVC(random_state=42)\n",
    "\n",
    "param_grid = {'C': [ 0.0001, 0.001, 0.01, 1, 100, 1000, 2000, 2500, 3000], \n",
    "              'gamma': [ 0.01, 0.001, 0.002, 0.003, 0.004, 0.005, 0.0001], \n",
    "              'kernel': ['rbf']\n",
    "              }"
   ]
  },
  {
   "cell_type": "code",
   "execution_count": 24,
   "metadata": {
    "collapsed": false
   },
   "outputs": [
    {
     "data": {
      "text/plain": [
       "GridSearchCV(cv=10, error_score='raise',\n",
       "       estimator=SVC(C=1.0, cache_size=200, class_weight=None, coef0=0.0,\n",
       "  decision_function_shape=None, degree=3, gamma='auto', kernel='rbf',\n",
       "  max_iter=-1, probability=False, random_state=42, shrinking=True,\n",
       "  tol=0.001, verbose=False),\n",
       "       fit_params={}, iid=True, n_jobs=1,\n",
       "       param_grid={'kernel': ['rbf'], 'C': [0.0001, 0.001, 0.01, 1, 100, 1000, 2000, 2500, 3000], 'gamma': [0.01, 0.001, 0.002, 0.003, 0.004, 0.005, 0.0001]},\n",
       "       pre_dispatch='2*n_jobs', refit=True, scoring='roc_auc', verbose=0)"
      ]
     },
     "execution_count": 24,
     "metadata": {},
     "output_type": "execute_result"
    }
   ],
   "source": [
    "grid_sv = GridSearchCV(sv_clf, param_grid, cv=10, scoring=\"roc_auc\")\n",
    "grid_sv.fit(X_vitals,y_vitals)"
   ]
  },
  {
   "cell_type": "code",
   "execution_count": 25,
   "metadata": {
    "collapsed": false
   },
   "outputs": [
    {
     "name": "stdout",
     "output_type": "stream",
     "text": [
      "0.796466405468\n",
      "{'kernel': 'rbf', 'C': 1, 'gamma': 0.01}\n",
      "SVC(C=1, cache_size=200, class_weight=None, coef0=0.0,\n",
      "  decision_function_shape=None, degree=3, gamma=0.01, kernel='rbf',\n",
      "  max_iter=-1, probability=False, random_state=42, shrinking=True,\n",
      "  tol=0.001, verbose=False)\n"
     ]
    }
   ],
   "source": [
    "print(grid_sv.best_score_)\n",
    "print(grid_sv.best_params_)\n",
    "print(grid_sv.best_estimator_)"
   ]
  },
  {
   "cell_type": "markdown",
   "metadata": {},
   "source": [
    "## Adaptive Boosting"
   ]
  },
  {
   "cell_type": "code",
   "execution_count": 26,
   "metadata": {
    "collapsed": false
   },
   "outputs": [],
   "source": [
    "from sklearn.ensemble import AdaBoostClassifier\n",
    "from sklearn.tree import DecisionTreeClassifier\n",
    "\n",
    "stump_clf =  DecisionTreeClassifier(random_state=42, max_depth=1)\n",
    "\n",
    "param_grid = {\n",
    "              \"n_estimators\": list(range(1,500)),\n",
    "              \"learning_rate\": np.linspace(0.01, 1, num=20),\n",
    "             }\n",
    "\n",
    "ada_clf = AdaBoostClassifier(base_estimator = stump_clf)"
   ]
  },
  {
   "cell_type": "code",
   "execution_count": 27,
   "metadata": {
    "collapsed": false
   },
   "outputs": [
    {
     "data": {
      "text/plain": [
       "RandomizedSearchCV(cv=None, error_score='raise',\n",
       "          estimator=AdaBoostClassifier(algorithm='SAMME.R',\n",
       "          base_estimator=DecisionTreeClassifier(class_weight=None, criterion='gini', max_depth=1,\n",
       "            max_features=None, max_leaf_nodes=None, min_samples_leaf=1,\n",
       "            min_samples_split=2, min_weight_fraction_leaf=0.0,\n",
       "            presort=False, random_state=42, splitter='best'),\n",
       "          learning_rate=1.0, n_estimators=50, random_state=None),\n",
       "          fit_params={}, iid=True, n_iter=100, n_jobs=1,\n",
       "          param_distributions={'n_estimators': [1, 2, 3, 4, 5, 6, 7, 8, 9, 10, 11, 12, 13, 14, 15, 16, 17, 18, 19, 20, 21, 22, 23, 24, 25, 26, 27, 28, 29, 30, 31, 32, 33, 34, 35, 36, 37, 38, 39, 40, 41, 42, 43, 44, 45, 46, 47, 48, 49, 50, 51, 52, 53, 54, 55, 56, 57, 58, 59, 60, 61, 62, 63, 64, 65, 66, 67, 68,...316,\n",
       "        0.63526,  0.68737,  0.73947,  0.79158,  0.84368,  0.89579,\n",
       "        0.94789,  1.     ])},\n",
       "          pre_dispatch='2*n_jobs', random_state=42, refit=True,\n",
       "          scoring='roc_auc', verbose=0)"
      ]
     },
     "execution_count": 27,
     "metadata": {},
     "output_type": "execute_result"
    }
   ],
   "source": [
    "rand_ada = RandomizedSearchCV(ada_clf, param_grid, scoring = 'roc_auc', n_iter=100, random_state=42)\n",
    "rand_ada.fit(X_vitals,y_vitals)"
   ]
  },
  {
   "cell_type": "code",
   "execution_count": 28,
   "metadata": {
    "collapsed": false
   },
   "outputs": [
    {
     "name": "stdout",
     "output_type": "stream",
     "text": [
      "0.767912152865\n",
      "{'n_estimators': 32, 'learning_rate': 0.16631578947368422}\n",
      "AdaBoostClassifier(algorithm='SAMME.R',\n",
      "          base_estimator=DecisionTreeClassifier(class_weight=None, criterion='gini', max_depth=1,\n",
      "            max_features=None, max_leaf_nodes=None, min_samples_leaf=1,\n",
      "            min_samples_split=2, min_weight_fraction_leaf=0.0,\n",
      "            presort=False, random_state=42, splitter='best'),\n",
      "          learning_rate=0.16631578947368422, n_estimators=32,\n",
      "          random_state=None)\n"
     ]
    }
   ],
   "source": [
    "print(rand_ada.best_score_)\n",
    "print(rand_ada.best_params_)\n",
    "print(rand_ada.best_estimator_)"
   ]
  },
  {
   "cell_type": "markdown",
   "metadata": {
    "collapsed": true
   },
   "source": [
    "## Extreme Gradient Boosting"
   ]
  },
  {
   "cell_type": "code",
   "execution_count": 29,
   "metadata": {
    "collapsed": false
   },
   "outputs": [],
   "source": [
    "from sklearn.cross_validation import StratifiedKFold\n",
    "from sklearn.cross_validation import cross_val_score"
   ]
  },
  {
   "cell_type": "code",
   "execution_count": 30,
   "metadata": {
    "collapsed": false
   },
   "outputs": [],
   "source": [
    "param_grid = {\n",
    "                \"max_depth\": list(range(1,20)),\n",
    "                \"gamma\": list(range(0, 20)),\n",
    "                \"min_child_weight\":list(range(0,20)),\n",
    "                \"n_estimators\": list(range(1,200)),\n",
    "                \"learning_rate\": [i/10.0 for i in range(0,10)], \n",
    "             }"
   ]
  },
  {
   "cell_type": "code",
   "execution_count": 31,
   "metadata": {
    "collapsed": false
   },
   "outputs": [],
   "source": [
    "rand_XGB = RandomizedSearchCV(xgb.XGBClassifier(objective='binary:logistic'), \n",
    "                              param_grid, scoring='roc_auc', n_iter=100, random_state=42)\n",
    "_ = rand_XGB.fit(X_vitals,y_vitals)"
   ]
  },
  {
   "cell_type": "code",
   "execution_count": 32,
   "metadata": {
    "collapsed": false
   },
   "outputs": [
    {
     "name": "stdout",
     "output_type": "stream",
     "text": [
      "0.790493961541\n",
      "{'n_estimators': 47, 'gamma': 5, 'learning_rate': 0.1, 'max_depth': 14, 'min_child_weight': 9}\n",
      "XGBClassifier(base_score=0.5, colsample_bylevel=1, colsample_bytree=1,\n",
      "       gamma=5, learning_rate=0.1, max_delta_step=0, max_depth=14,\n",
      "       min_child_weight=9, missing=None, n_estimators=47, nthread=-1,\n",
      "       objective='binary:logistic', reg_alpha=0, reg_lambda=1,\n",
      "       scale_pos_weight=1, seed=0, silent=True, subsample=1)\n"
     ]
    }
   ],
   "source": [
    "print(rand_XGB.best_score_)\n",
    "print(rand_XGB.best_params_)\n",
    "print(rand_XGB.best_estimator_)"
   ]
  },
  {
   "cell_type": "markdown",
   "metadata": {},
   "source": [
    "## Neural Network with Keras/TensorFlow"
   ]
  },
  {
   "cell_type": "code",
   "execution_count": 33,
   "metadata": {
    "collapsed": false
   },
   "outputs": [
    {
     "name": "stderr",
     "output_type": "stream",
     "text": [
      "Using TensorFlow backend.\n"
     ]
    }
   ],
   "source": [
    "from keras.models import Sequential\n",
    "from keras.layers import Dense, Dropout, Activation\n",
    "from keras.optimizers import SGD\n",
    "from keras.constraints import maxnorm\n",
    "from keras.callbacks import Callback\n",
    "\n",
    "model = Sequential()"
   ]
  },
  {
   "cell_type": "code",
   "execution_count": 34,
   "metadata": {
    "collapsed": true
   },
   "outputs": [],
   "source": [
    "class Histories(Callback):\n",
    "    def __init__(self, validation_data=()):\n",
    "        super(Callback, self).__init__()\n",
    "\n",
    "        self.X_val, self.y_val = validation_data\n",
    "        \n",
    "    def on_train_begin(self, logs={}):\n",
    "        self.aucs = []\n",
    "        self.losses = []\n",
    "\n",
    "    def on_epoch_end(self, epoch, logs={}):\n",
    "        self.losses.append(logs.get('loss'))\n",
    "        y_pred = self.model.predict_proba(self.X_val, verbose=0)\n",
    "        self.aucs.append(roc_auc_score(self.y_val, y_pred))\n",
    "        return\n"
   ]
  },
  {
   "cell_type": "code",
   "execution_count": 55,
   "metadata": {
    "collapsed": false
   },
   "outputs": [],
   "source": [
    "model = Sequential()\n",
    "\n",
    "model.add(Dense(125, input_dim=len(X_vitals.columns), activation='relu'))\n",
    "model.add(Dropout(0.5))\n",
    "model.add(Dense(50, activation='relu', kernel_constraint=maxnorm(5)))\n",
    "model.add(Dropout(0.5))\n",
    "model.add(Dense(25, activation='relu', kernel_constraint=maxnorm(5)))\n",
    "model.add(Dropout(0.5))\n",
    "model.add(Dense(10, activation='relu', kernel_constraint=maxnorm(5)))\n",
    "model.add(Dropout(0.5))\n",
    "model.add(Dense(1, activation='sigmoid'))\n",
    "\n",
    "model.compile(loss='binary_crossentropy',\n",
    "              optimizer='rmsprop',\n",
    "              metrics=['accuracy'])"
   ]
  },
  {
   "cell_type": "code",
   "execution_count": 56,
   "metadata": {
    "collapsed": true
   },
   "outputs": [],
   "source": [
    "X_train, X_test, y_train, y_test = train_test_split(X_vitals, y_vitals, test_size=0.33, random_state=42)"
   ]
  },
  {
   "cell_type": "code",
   "execution_count": 57,
   "metadata": {
    "collapsed": false
   },
   "outputs": [],
   "source": [
    "histories = Histories(validation_data=(X_test.as_matrix(), y_test.as_matrix()))\n",
    "\n",
    "history = model.fit(X_train.as_matrix(), y_train.as_matrix(), verbose=0, validation_data=(X_test.as_matrix(), y_test.as_matrix()), epochs=500, batch_size=128, callbacks=[histories])\n",
    "\n"
   ]
  },
  {
   "cell_type": "code",
   "execution_count": 58,
   "metadata": {
    "collapsed": false
   },
   "outputs": [
    {
     "data": {
      "image/png": "[encoded data removed]",
      "text/plain": [
       "<matplotlib.figure.Figure at 0x11365c050>"
      ]
     },
     "metadata": {},
     "output_type": "display_data"
    },
    {
     "data": {
      "image/png": "[encoded data removed]",
      "text/plain": [
       "<matplotlib.figure.Figure at 0x113601ed0>"
      ]
     },
     "metadata": {},
     "output_type": "display_data"
    },
    {
     "data": {
      "image/png": "[encoded data removed]",
      "text/plain": [
       "<matplotlib.figure.Figure at 0x111dd8710>"
      ]
     },
     "metadata": {},
     "output_type": "display_data"
    }
   ],
   "source": [
    "plt.plot(history.history['acc'])\n",
    "plt.plot(history.history['val_acc'])\n",
    "plt.title('model accuracy')\n",
    "plt.ylabel('accuracy')\n",
    "plt.xlabel('epoch')\n",
    "plt.legend(['train', 'test'], loc='upper left')\n",
    "plt.show()\n",
    "# summarize history for loss\n",
    "plt.plot(history.history['loss'])\n",
    "plt.plot(history.history['val_loss'])\n",
    "plt.title('model loss')\n",
    "plt.ylabel('loss')\n",
    "plt.xlabel('epoch')\n",
    "plt.legend(['train', 'test'], loc='upper left')\n",
    "plt.show()\n",
    "# Plot AUC\n",
    "plt.plot(histories.aucs)\n",
    "plt.plot(history.history['val_acc'])\n",
    "# plt.plot(history.history['val_loss'])\n",
    "plt.title('model AUC')\n",
    "plt.ylabel('AUC')\n",
    "plt.xlabel('epoch')\n",
    "plt.legend(['auc', 'accuracy', 'loss'], loc='upper left')\n",
    "\n",
    "plt.show()"
   ]
  },
  {
   "cell_type": "code",
   "execution_count": 59,
   "metadata": {
    "collapsed": false
   },
   "outputs": [
    {
     "name": "stdout",
     "output_type": "stream",
     "text": [
      "Best Epoch: 26\n",
      "Best Auc: 0.793084082157\n",
      "Best Accuracy: 0.80310880829\n"
     ]
    }
   ],
   "source": [
    "print \"Best Epoch: {}\".format(histories.aucs.index(max(histories.aucs)))\n",
    "print \"Best Auc: {}\".format(max(histories.aucs))\n",
    "print \"Best Accuracy: {}\".format(history.history['val_acc'][histories.aucs.index(max(histories.aucs))])"
   ]
  },
  {
   "cell_type": "markdown",
   "metadata": {},
   "source": [
    "## Conclusion\n",
    "\n",
    "While all models performed better than the benchmark after some tweaking, the SVM performed much better at around 0.796 ACU. This is impressive and useful in stratifying patients for further analysis and study. The neural network was much more challenging to design and optimize and it is likely that an even more optimal solution exists, however it did not beat the SVM and was more apt to overfitting.\n",
    "\n",
    "This exercise has proven that pre-processing the data and optimizing the model are the most time consuming steps and require a lot of consideration and practice."
   ]
  }
 ],
 "metadata": {
  "kernelspec": {
   "display_name": "Python 2",
   "language": "python",
   "name": "python2"
  },
  "language_info": {
   "codemirror_mode": {
    "name": "ipython",
    "version": 2
   },
   "file_extension": ".py",
   "mimetype": "text/x-python",
   "name": "python",
   "nbconvert_exporter": "python",
   "pygments_lexer": "ipython2",
   "version": "2.7.13"
  }
 },
 "nbformat": 4,
 "nbformat_minor": 2
}
