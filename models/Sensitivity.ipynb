{
 "cells": [
  {
   "cell_type": "markdown",
   "metadata": {},
   "source": [
    "**<center>Assignment_5_&_6</center>**\n",
    "**<center>Gauthami\n",
    "Kuravi</center>**"
   ]
  },
  {
   "cell_type": "markdown",
   "metadata": {},
   "source": [
    "####  Assignment 5_&_6\n",
    "\n",
    "\n",
    "<ol>\n",
    "    <li>Experiment with claims close to 100 claims high utilization boundary. FOr example you can ignore claims in +/- 10 range and see if that affects quality of models. Also investigate accuracy of models by stratifying test data by number of claims. Plot accuracy per number of claims.  </li>\n",
    "       <li>Conduct sensitivity analysis for the testClaims data for predicting high utilization.</li>\n",
    "     <li>Select randomly two patients from testmcalims test set. Conduct local sensitivity analysis for the prediction on these patients.</li>\n",
    "For the above questions, write all your code in a way that you can use it for your semester long projects. It is reasonable to expect that sensitivity analysis of created models will be part of what you turn in in your projects.\n",
    "\n",
    "</ol>"
   ]
  },
  {
   "cell_type": "code",
   "execution_count": 5,
   "metadata": {},
   "outputs": [
    {
     "data": {
      "text/plain": [
       "'D:\\\\'"
      ]
     },
     "execution_count": 5,
     "metadata": {},
     "output_type": "execute_result"
    }
   ],
   "source": [
    "import sqlite3\n",
    "import pandas as pd\n",
    "import os\n",
    "os.getcwd()\n",
    "#os.chdir(r'D:')"
   ]
  },
  {
   "cell_type": "code",
   "execution_count": 46,
   "metadata": {},
   "outputs": [],
   "source": [
    "df = pd.read_csv('highUtilizationPredictionV2wco.csv')"
   ]
  },
  {
   "cell_type": "code",
   "execution_count": 47,
   "metadata": {},
   "outputs": [],
   "source": [
    "race = pd.get_dummies(df['race'], dummy_na=False)\n",
    "df=pd.concat([df,race], axis=1)\n",
    "# split into training and testing\n",
    "tr, ts = train_test_split(df, test_size=0.2)\n",
    "# create list of input attributes\n",
    "cls = list(df.columns)\n",
    "cls.remove('race')\n",
    "cls.remove('patient_id')\n",
    "cls.remove('claimCount')\n",
    "cls.remove('HighUtilizationY2')"
   ]
  },
  {
   "cell_type": "code",
   "execution_count": 92,
   "metadata": {},
   "outputs": [],
   "source": [
    "from sklearn.linear_model import LogisticRegression\n",
    "from sklearn.ensemble import RandomForestClassifier\n",
    "from sklearn import metrics\n",
    "from sklearn.metrics import auc\n",
    "from sklearn.metrics import roc_curve\n",
    "from sklearn.metrics import accuracy_score\n"
   ]
  },
  {
   "cell_type": "code",
   "execution_count": 84,
   "metadata": {},
   "outputs": [
    {
     "data": {
      "text/plain": [
       "0.8173724842199489"
      ]
     },
     "execution_count": 84,
     "metadata": {},
     "output_type": "execute_result"
    }
   ],
   "source": [
    "lr = LogisticRegression(solver='lbfgs', C=0.9, max_iter=1000)\n",
    "lr.fit(tr[cls],tr['HighUtilizationY2'])\n",
    "probs = lr.predict_proba(ts[cls])[:,1]\n",
    "fpr,tpr,thresholds = roc_curve(ts['HighUtilizationY2'],probs)\n",
    "auc(fpr,tpr)\n"
   ]
  },
  {
   "cell_type": "markdown",
   "metadata": {},
   "source": [
    "inpsecting +10/-10 "
   ]
  },
  {
   "cell_type": "code",
   "execution_count": 87,
   "metadata": {},
   "outputs": [],
   "source": [
    "cnt1 = tr[tr['claimCount']<90]\n",
    "cnt2= tr[tr['claimCount']>110]\n",
    "cnt3= tr[tr['claimCount']==100]\n",
    "tr1 = pd.DataFrame()\n",
    "tr1 = tr1.append(cnt1)\n",
    "tr1 = tr1.append(cnt2)\n",
    "tr1 = tr1.append(cnt3)"
   ]
  },
  {
   "cell_type": "code",
   "execution_count": 96,
   "metadata": {},
   "outputs": [
    {
     "data": {
      "text/plain": [
       "0.8165971777727014"
      ]
     },
     "execution_count": 96,
     "metadata": {},
     "output_type": "execute_result"
    }
   ],
   "source": [
    "lr = LogisticRegression(solver='lbfgs', C=0.9, max_iter=1000)\n",
    "lr.fit(tr1[cls],tr1['HighUtilizationY2'])\n",
    "probs = lr.predict_proba(ts[cls])[:,1]\n",
    "fpr,tpr,thresholds = roc_curve(ts['HighUtilizationY2'],probs)\n",
    "auc(fpr,tpr)"
   ]
  },
  {
   "cell_type": "code",
   "execution_count": 94,
   "metadata": {},
   "outputs": [
    {
     "name": "stdout",
     "output_type": "stream",
     "text": [
      "0.9965428937259924\n",
      "0.9994725738396625\n",
      "0.9971428571428571\n",
      "0.995697896749522\n",
      "0.9954188481675392\n",
      "0.9960591133004926\n",
      "0.9929577464788732\n",
      "0.9864176570458404\n",
      "0.9787735849056604\n",
      "0.9706840390879479\n",
      "0.13427561837455831\n",
      "0.034482758620689655\n",
      "0.030303030303030304\n",
      "0.06976744186046512\n",
      "0.0851063829787234\n",
      "0.04395604395604396\n",
      "0.05714285714285714\n",
      "0.14925373134328357\n",
      "0.10638297872340426\n",
      "0.10869565217391304\n",
      "0.10526315789473684\n",
      "0.2222222222222222\n",
      "0.12\n",
      "0.11538461538461539\n",
      "0.2916666666666667\n",
      "0.05\n",
      "0.2\n",
      "0.25\n",
      "0.05263157894736842\n",
      "0.3333333333333333\n"
     ]
    }
   ],
   "source": [
    "lr = LogisticRegression(solver='lbfgs', C=0.9, max_iter=1000)\n",
    "lr.fit(tr[cls],tr['HighUtilizationY2'])\n",
    "acc = []\n",
    "for cnt in range(0,300,10):\n",
    "    tt = ts[(ts['claimCount'] >= cnt) & (ts['claimCount'] < cnt + 10)]\n",
    "    probs = lr.predict(tt[cls])\n",
    "    temp = accuracy_score(probs,tt['HighUtilizationY2'])\n",
    "    print(temp)\n",
    "    acc.append(temp)"
   ]
  },
  {
   "cell_type": "code",
   "execution_count": null,
   "metadata": {},
   "outputs": [],
   "source": []
  },
  {
   "cell_type": "code",
   "execution_count": 95,
   "metadata": {},
   "outputs": [
    {
     "data": {
      "text/plain": [
       "<BarContainer object of 30 artists>"
      ]
     },
     "execution_count": 95,
     "metadata": {},
     "output_type": "execute_result"
    },
    {
     "data": {
      "image/png": "[encoded data removed]",
      "text/plain": [
       "<Figure size 432x288 with 1 Axes>"
      ]
     },
     "metadata": {
      "needs_background": "light"
     },
     "output_type": "display_data"
    }
   ],
   "source": [
    "plt.bar(range(0,300,10),acc)"
   ]
  },
  {
   "cell_type": "code",
   "execution_count": 50,
   "metadata": {},
   "outputs": [
    {
     "data": {
      "text/plain": [
       "RandomForestClassifier(bootstrap=True, class_weight=None, criterion='gini',\n",
       "                       max_depth=None, max_features='auto', max_leaf_nodes=None,\n",
       "                       min_impurity_decrease=0.0, min_impurity_split=None,\n",
       "                       min_samples_leaf=1, min_samples_split=2,\n",
       "                       min_weight_fraction_leaf=0.0, n_estimators=100,\n",
       "                       n_jobs=-1, oob_score=False, random_state=None, verbose=0,\n",
       "                       warm_start=False)"
      ]
     },
     "execution_count": 50,
     "metadata": {},
     "output_type": "execute_result"
    }
   ],
   "source": [
    "rf = RandomForestClassifier(n_estimators=100, n_jobs=-1)\n",
    "rf.fit(tr[cls], tr['HighUtilizationY2'])"
   ]
  },
  {
   "cell_type": "code",
   "execution_count": 97,
   "metadata": {},
   "outputs": [
    {
     "data": {
      "text/plain": [
       "0.7939741151121334"
      ]
     },
     "execution_count": 97,
     "metadata": {},
     "output_type": "execute_result"
    }
   ],
   "source": [
    "rf = RandomForestClassifier(n_estimators=100, n_jobs=-1)\n",
    "rf.fit(tr1[cls],tr1['HighUtilizationY2'])\n",
    "probs = rf.predict_proba(ts[cls])[:,1]\n",
    "fpr,tpr,thresholds = roc_curve(ts['HighUtilizationY2'],probs)\n",
    "auc(fpr,tpr)"
   ]
  },
  {
   "cell_type": "code",
   "execution_count": 98,
   "metadata": {},
   "outputs": [
    {
     "name": "stdout",
     "output_type": "stream",
     "text": [
      "0.9971830985915493\n",
      "0.9992088607594937\n",
      "0.9975\n",
      "0.9952198852772467\n",
      "0.9960732984293194\n",
      "0.9911330049261083\n",
      "0.9929577464788732\n",
      "0.9881154499151104\n",
      "0.9811320754716981\n",
      "0.9706840390879479\n",
      "0.12367491166077739\n",
      "0.034482758620689655\n",
      "0.048484848484848485\n",
      "0.07751937984496124\n",
      "0.09574468085106383\n",
      "0.12087912087912088\n",
      "0.05714285714285714\n",
      "0.208955223880597\n",
      "0.19148936170212766\n",
      "0.10869565217391304\n",
      "0.07894736842105263\n",
      "0.3055555555555556\n",
      "0.2\n",
      "0.19230769230769232\n",
      "0.2916666666666667\n",
      "0.15\n",
      "0.2\n",
      "0.25\n",
      "0.15789473684210525\n",
      "0.2\n"
     ]
    }
   ],
   "source": [
    "rf = RandomForestClassifier(n_estimators=100, n_jobs=-1)\n",
    "rf.fit(tr1[cls],tr1['HighUtilizationY2'])\n",
    "acc1 = []\n",
    "for cnt in range(0,300,10):\n",
    "    tt = ts[(ts['claimCount'] >= cnt) & (ts['claimCount'] < cnt + 10)]\n",
    "    probs = rf.predict(tt[cls])\n",
    "    temp = accuracy_score(probs,tt['HighUtilizationY2'])\n",
    "    print(temp)\n",
    "    acc1.append(temp)"
   ]
  },
  {
   "cell_type": "code",
   "execution_count": 100,
   "metadata": {},
   "outputs": [
    {
     "data": {
      "text/plain": [
       "<BarContainer object of 30 artists>"
      ]
     },
     "execution_count": 100,
     "metadata": {},
     "output_type": "execute_result"
    },
    {
     "data": {
      "image/png": "[encoded data removed]",
      "text/plain": [
       "<Figure size 432x288 with 1 Axes>"
      ]
     },
     "metadata": {
      "needs_background": "light"
     },
     "output_type": "display_data"
    }
   ],
   "source": [
    "plt.bar(range(0,300,10), acc1)"
   ]
  },
  {
   "cell_type": "markdown",
   "metadata": {},
   "source": [
    "## check how input factor changes the model prediction"
   ]
  },
  {
   "cell_type": "code",
   "execution_count": 70,
   "metadata": {},
   "outputs": [
    {
     "data": {
      "text/plain": [
       "array([65, 66, 67, 68, 69, 70, 71, 72, 73, 74, 75, 76, 77, 78, 79, 80, 81,\n",
       "       82, 83, 84, 85, 86, 87, 88, 89, 90], dtype=int64)"
      ]
     },
     "execution_count": 70,
     "metadata": {},
     "output_type": "execute_result"
    }
   ],
   "source": [
    "x = df['age'].unique()\n",
    "x.sort()\n",
    "x"
   ]
  },
  {
   "cell_type": "code",
   "execution_count": 78,
   "metadata": {},
   "outputs": [],
   "source": [
    "dist = []\n",
    "dist1 = []\n",
    "for a in list(x):\n",
    "    tt = ts[ts['age'] == a]\n",
    "    ttt = tr[tr['age'] == a]\n",
    "    dist.append( rf.predict_proba(tt[cls])[:,1].mean())\n",
    "    dist1.append( rf.predict_proba(ttt[cls])[:,1].mean())\n",
    "    "
   ]
  },
  {
   "cell_type": "markdown",
   "metadata": {},
   "source": [
    "## Plot the both train and test data "
   ]
  },
  {
   "cell_type": "code",
   "execution_count": 79,
   "metadata": {},
   "outputs": [
    {
     "data": {
      "text/plain": [
       "[<matplotlib.lines.Line2D at 0x215b9277b70>]"
      ]
     },
     "execution_count": 79,
     "metadata": {},
     "output_type": "execute_result"
    },
    {
     "data": {
      "image/png": "[encoded data removed]",
      "text/plain": [
       "<Figure size 432x288 with 1 Axes>"
      ]
     },
     "metadata": {
      "needs_background": "light"
     },
     "output_type": "display_data"
    }
   ],
   "source": [
    "plt.plot(list(x),dist)\n",
    "plt.plot(list(x),dist1)"
   ]
  },
  {
   "cell_type": "code",
   "execution_count": 80,
   "metadata": {},
   "outputs": [
    {
     "data": {
      "text/plain": [
       "array([1097, 1151, 1265, 1353, 1323, 1153, 1109, 1079, 1029, 1033, 1003,\n",
       "        964,  885,  791,  790,  725,  724,  681,  620,  570,  531,  472,\n",
       "        422,  372,  351, 1112], dtype=int64)"
      ]
     },
     "execution_count": 80,
     "metadata": {},
     "output_type": "execute_result"
    }
   ],
   "source": [
    "y=ts['age'].value_counts().sort_index().values\n",
    "y"
   ]
  },
  {
   "cell_type": "code",
   "execution_count": 81,
   "metadata": {},
   "outputs": [
    {
     "data": {
      "text/plain": [
       "[<matplotlib.lines.Line2D at 0x215b8a81748>]"
      ]
     },
     "execution_count": 81,
     "metadata": {},
     "output_type": "execute_result"
    },
    {
     "data": {
      "image/png": "[encoded data removed]",
      "text/plain": [
       "<Figure size 432x288 with 1 Axes>"
      ]
     },
     "metadata": {
      "needs_background": "light"
     },
     "output_type": "display_data"
    }
   ],
   "source": [
    "plt.plot(ts['age'].value_counts().sort_index().index,ts['age'].value_counts().sort_index().values)"
   ]
  },
  {
   "cell_type": "code",
   "execution_count": 82,
   "metadata": {},
   "outputs": [],
   "source": [
    "dist = []\n",
    "dist1 = []\n",
    "for a in list(x):\n",
    "    tt = pd.DataFrame(ts)\n",
    "    tt['age'] = a\n",
    "    ttt = pd.DataFrame(tr)\n",
    "    ttt['age'] = a\n",
    "    dist.append( rf.predict_proba(tt[cls])[:,1].mean())\n",
    "    dist1.append( rf.predict_proba(ttt[cls])[:,1].mean())"
   ]
  },
  {
   "cell_type": "code",
   "execution_count": 83,
   "metadata": {},
   "outputs": [
    {
     "data": {
      "text/plain": [
       "[<matplotlib.lines.Line2D at 0x215b8a5f1d0>]"
      ]
     },
     "execution_count": 83,
     "metadata": {},
     "output_type": "execute_result"
    },
    {
     "data": {
      "image/png": "[encoded data removed]",
      "text/plain": [
       "<Figure size 432x288 with 1 Axes>"
      ]
     },
     "metadata": {
      "needs_background": "light"
     },
     "output_type": "display_data"
    }
   ],
   "source": [
    "plt.plot(list(x),dist)\n",
    "plt.plot(list(x),dist1)"
   ]
  },
  {
   "cell_type": "code",
   "execution_count": 116,
   "metadata": {},
   "outputs": [],
   "source": [
    "import numpy as np\n",
    "data = []\n",
    "for a in list(x):\n",
    "    for i in range(1,1000):\n",
    "        age = a\n",
    "\n",
    "        # randomly select ELIX codes\n",
    "        ELIX = [np.random.randint(2) for i in range(29)]\n",
    "\n",
    "        # randomly select procedures\n",
    "        G = [np.random.randint(2) for i in range(22)]\n",
    "\n",
    "        # randomly select drug counts\n",
    "        drugs = [np.random.randint(13) for i in range(12)] \n",
    "\n",
    "        # zero all races\n",
    "        A = 0\n",
    "        AmN = 0\n",
    "        B = 0\n",
    "        H = 0\n",
    "        O = 0\n",
    "        U = 0\n",
    "        W = 0\n",
    "        # and randomly select race\n",
    "        r = np.random.randint(7)\n",
    "        if r == 0:\n",
    "            A = 1\n",
    "        if r == 1:\n",
    "            AmN = 1\n",
    "        if r == 2:\n",
    "            B = 1\n",
    "        if r == 3:\n",
    "            H = 1\n",
    "        if r == 4:\n",
    "            O = 1\n",
    "        if r == 5:\n",
    "            U = 1\n",
    "        if r == 6:\n",
    "            W = 1    \n",
    "        d = [age] + ELIX + G + drugs + [A, AmN, B, H, O, U, W]\n",
    "        data.append(d)"
   ]
  },
  {
   "cell_type": "code",
   "execution_count": 117,
   "metadata": {},
   "outputs": [],
   "source": [
    "Y = rf.predict_proba(data)[:,1]\n",
    "X = np.array(data)[:,0]"
   ]
  },
  {
   "cell_type": "code",
   "execution_count": 119,
   "metadata": {},
   "outputs": [],
   "source": [
    "ddd = pd.DataFrame(X, columns=['age'])\n",
    "ddd['prob'] = Y\n",
    "YY = ddd.groupby('age').mean()\n",
    "XX = range(65,91)"
   ]
  },
  {
   "cell_type": "code",
   "execution_count": 123,
   "metadata": {},
   "outputs": [
    {
     "data": {
      "text/plain": [
       "[<matplotlib.lines.Line2D at 0x215c8231dd8>]"
      ]
     },
     "execution_count": 123,
     "metadata": {},
     "output_type": "execute_result"
    },
    {
     "data": {
      "image/png": "[encoded data removed]",
      "text/plain": [
       "<Figure size 432x288 with 1 Axes>"
      ]
     },
     "metadata": {
      "needs_background": "light"
     },
     "output_type": "display_data"
    }
   ],
   "source": [
    "plt.plot(XX,YY)"
   ]
  },
  {
   "cell_type": "markdown",
   "metadata": {},
   "source": [
    "### Sensitivity Analysis"
   ]
  },
  {
   "cell_type": "code",
   "execution_count": 137,
   "metadata": {},
   "outputs": [],
   "source": [
    "# generate random data for race = A\n",
    "lr_res = []\n",
    "rf_res = []\n",
    "for i in range(100):\n",
    "        age = 65+np.random.randint(30)\n",
    "        ELIX = [np.random.randint(2) for i in range(29)]\n",
    "        G = [np.random.randint(2) for i in range(22)]\n",
    "        drugs = [np.random.randint(30) for i in range(12)] \n",
    "        A = 1\n",
    "        AmN = 0\n",
    "        B = 0\n",
    "        H = 0\n",
    "        O = 0\n",
    "        U = 0\n",
    "        W = 0\n",
    "        \n",
    "        d = [age] + ELIX + G + drugs + [A, AmN, B, H, O, U, W]\n",
    "        dat = [d]\n",
    "        lr_res.append(lr.predict_proba(dat)[:,1][0])\n",
    "        rf_res.append(rf.predict_proba(dat)[:,1][0])\n",
    "lr_races.append(sum(lr_res)/len(lr_res))\n",
    "rf_races.append(sum(rf_res)/len(rf_res))\n",
    "\n",
    "# generate random data for race = AmN\n",
    "lr_res = []\n",
    "rf_res = []\n",
    "for i in range(100):\n",
    "        age = 65+np.random.randint(30)\n",
    "        ELIX = [np.random.randint(2) for i in range(29)]\n",
    "        G = [np.random.randint(2) for i in range(22)]\n",
    "        drugs = [np.random.randint(30) for i in range(12)] \n",
    "        A = 0\n",
    "        AmN = 1\n",
    "        B = 0\n",
    "        H = 0\n",
    "        O = 0\n",
    "        U = 0\n",
    "        W = 0\n",
    "        \n",
    "        d = [age] + ELIX + G + drugs + [A, AmN, B, H, O, U, W]\n",
    "        dat = [d]\n",
    "        lr_res.append(lr.predict_proba(dat)[:,1][0])\n",
    "        rf_res.append(rf.predict_proba(dat)[:,1][0])\n",
    "lr_races.append(sum(lr_res)/len(lr_res))\n",
    "rf_races.append(sum(rf_res)/len(rf_res))\n",
    "# generate random data for race = B\n",
    "lr_res = []\n",
    "rf_res = []\n",
    "for i in range(100):\n",
    "        age = 65+np.random.randint(30)\n",
    "        ELIX = [np.random.randint(2) for i in range(29)]\n",
    "        G = [np.random.randint(2) for i in range(22)]\n",
    "        drugs = [np.random.randint(30) for i in range(12)] \n",
    "        A = 0\n",
    "        AmN = 0\n",
    "        B = 1\n",
    "        H = 0\n",
    "        O = 0\n",
    "        U = 0\n",
    "        W = 0\n",
    "        \n",
    "        d = [age] + ELIX + G + drugs + [A, AmN, B, H, O, U, W]\n",
    "        dat = [d]\n",
    "        lr_res.append(lr.predict_proba(dat)[:,1][0])\n",
    "        rf_res.append(rf.predict_proba(dat)[:,1][0])\n",
    "lr_races.append(sum(lr_res)/len(lr_res))\n",
    "rf_races.append(sum(rf_res)/len(rf_res))\n",
    "# generate random data for race = H\n",
    "lr_res = []\n",
    "rf_res = []\n",
    "for i in range(100):\n",
    "        age = 65+np.random.randint(30)\n",
    "        ELIX = [np.random.randint(2) for i in range(29)]\n",
    "        G = [np.random.randint(2) for i in range(22)]\n",
    "        drugs = [np.random.randint(30) for i in range(12)] \n",
    "        A = 0\n",
    "        AmN = 0\n",
    "        B = 0\n",
    "        H = 1\n",
    "        O = 0\n",
    "        U = 0\n",
    "        W = 0\n",
    "        \n",
    "        d = [age] + ELIX + G + drugs + [A, AmN, B, H, O, U, W]\n",
    "        dat = [d]\n",
    "        lr_res.append(lr.predict_proba(dat)[:,1][0])\n",
    "        rf_res.append(rf.predict_proba(dat)[:,1][0])\n",
    "lr_races.append(sum(lr_res)/len(lr_res))\n",
    "rf_races.append(sum(rf_res)/len(rf_res))\n",
    "\n",
    "\n",
    "\n",
    "# generate random data for race = o\n",
    "lr_res = []\n",
    "rf_res = []\n",
    "for i in range(100):\n",
    "        age = 65+np.random.randint(30)\n",
    "        ELIX = [np.random.randint(2) for i in range(29)]\n",
    "        G = [np.random.randint(2) for i in range(22)]\n",
    "        drugs = [np.random.randint(30) for i in range(12)] \n",
    "        A = 0\n",
    "        AmN = 0\n",
    "        B = 0\n",
    "        H = 0\n",
    "        O = 1\n",
    "        U = 0\n",
    "        W = 0\n",
    "        \n",
    "        d = [age] + ELIX + G + drugs + [A, AmN, B, H, O, U, W]\n",
    "        dat = [d]\n",
    "        lr_res.append(lr.predict_proba(dat)[:,1][0])\n",
    "        rf_res.append(rf.predict_proba(dat)[:,1][0])\n",
    "lr_races.append(sum(lr_res)/len(lr_res))\n",
    "rf_races.append(sum(rf_res)/len(rf_res))\n",
    "\n",
    "\n",
    "\n",
    "# generate random data for race = u\n",
    "lr_res = []\n",
    "rf_res = []\n",
    "for i in range(100):\n",
    "        age = 65+np.random.randint(30)\n",
    "        ELIX = [np.random.randint(2) for i in range(29)]\n",
    "        G = [np.random.randint(2) for i in range(22)]\n",
    "        drugs = [np.random.randint(30) for i in range(12)] \n",
    "        A = 0\n",
    "        AmN = 0\n",
    "        B = 0\n",
    "        H = 0\n",
    "        O = 0\n",
    "        U = 1\n",
    "        W = 0\n",
    "        \n",
    "        d = [age] + ELIX + G + drugs + [A, AmN, B, H, O, U, W]\n",
    "        dat = [d]\n",
    "        lr_res.append(lr.predict_proba(dat)[:,1][0])\n",
    "        rf_res.append(rf.predict_proba(dat)[:,1][0])\n",
    "lr_races.append(sum(lr_res)/len(lr_res))\n",
    "rf_races.append(sum(rf_res)/len(rf_res))\n",
    "\n",
    "\n",
    "# generate random data for race = W\n",
    "\n",
    "lr_res = []\n",
    "rf_res = []\n",
    "for i in range(100):\n",
    "        age = 65+np.random.randint(30)\n",
    "        ELIX = [np.random.randint(2) for i in range(29)]\n",
    "        G = [np.random.randint(2) for i in range(22)]\n",
    "        drugs = [np.random.randint(30) for i in range(12)] \n",
    "        A = 0\n",
    "        AmN = 0\n",
    "        B = 0\n",
    "        H = 0\n",
    "        O = 0\n",
    "        U = 0\n",
    "        W = 1\n",
    "        \n",
    "        d = [age] + ELIX + G + drugs + [A, AmN, B, H, O, U, W]\n",
    "        dat = [d]\n",
    "        lr_res.append(lr.predict_proba(dat)[:,1][0])\n",
    "        rf_res.append(rf.predict_proba(dat)[:,1][0])\n",
    "lr_races.append(sum(lr_res)/len(lr_res))\n",
    "rf_races.append(sum(rf_res)/len(rf_res))"
   ]
  },
  {
   "cell_type": "code",
   "execution_count": 140,
   "metadata": {},
   "outputs": [
    {
     "data": {
      "image/png": "[encoded data removed]",
      "text/plain": [
       "<Figure size 432x288 with 1 Axes>"
      ]
     },
     "metadata": {
      "needs_background": "light"
     },
     "output_type": "display_data"
    }
   ],
   "source": [
    "plt.bar(range(0,len(lr_races)*2,2), lr_races, color='b')\n",
    "plt.bar(range(1,len(lr_races)*2,2), rf_races, color='r')\n",
    "plt.xticks(range(0,len(lr_races)*2,2))\n",
    "plt.show()"
   ]
  },
  {
   "cell_type": "markdown",
   "metadata": {},
   "source": [
    "## Select randomly 2 patients from test claims\n"
   ]
  },
  {
   "cell_type": "code",
   "execution_count": 143,
   "metadata": {},
   "outputs": [
    {
     "data": {
      "text/plain": [
       "(array([ 1209,  1987,  2598,  3452,  3910,  3995,  4607,  4845,  5000,\n",
       "         5031,  5070,  5216,  5723,  5762,  6356,  6574,  7075,  7183,\n",
       "         7335,  7493,  7936,  8385,  9013,  9362,  9395,  9606, 10612,\n",
       "        11304, 11346, 11390, 12189, 12656, 13165, 13536, 15537, 16366,\n",
       "        16656, 16831, 17235, 17339, 18772, 19869, 20326, 20567, 20760,\n",
       "        21022, 21206, 21627, 22183, 22291], dtype=int64),)"
      ]
     },
     "execution_count": 143,
     "metadata": {},
     "output_type": "execute_result"
    }
   ],
   "source": [
    "p = rf.predict_proba(ts[cls])\n",
    "np.where(p[:,1] > 0.7)"
   ]
  },
  {
   "cell_type": "code",
   "execution_count": 146,
   "metadata": {},
   "outputs": [
    {
     "data": {
      "text/plain": [
       "(array([    0,     1,     2, ..., 22602, 22603, 22604], dtype=int64),)"
      ]
     },
     "execution_count": 146,
     "metadata": {},
     "output_type": "execute_result"
    }
   ],
   "source": [
    "p1 = rf.predict_proba(ts[cls])\n",
    "np.where(p1[:,1] <0.3)"
   ]
  },
  {
   "cell_type": "code",
   "execution_count": 154,
   "metadata": {},
   "outputs": [],
   "source": [
    "test_case = ts.iloc[9013]\n",
    "test_case1 = ts.iloc[2]"
   ]
  },
  {
   "cell_type": "code",
   "execution_count": 155,
   "metadata": {},
   "outputs": [],
   "source": [
    "binary_cols = {}\n",
    "numeric_cols = {}\n",
    "for c in cls:\n",
    "    cnt = len(tr[c].value_counts().index)\n",
    "    mnv = tr[c].min()\n",
    "    mxv = tr[c].max()\n",
    "    if cnt > 2:\n",
    "        avg = tr[c].mean()\n",
    "        std = tr[c].std()\n",
    "        #print(c, cnt, mnv, mxv, avg, std)\n",
    "        numeric_cols[c] = (cnt, mnv, mxv, avg, std)\n",
    "    elif cnt == 2:\n",
    "        binary_cols[c] = (cnt, mnv, mxv)"
   ]
  },
  {
   "cell_type": "code",
   "execution_count": 156,
   "metadata": {},
   "outputs": [],
   "source": [
    "def combinations(test_case, binary_cols, numeric_cols):\n",
    "    dat = pd.DataFrame()\n",
    "    #Work on binary variables\n",
    "    for v in binary_cols:\n",
    "        #print(binary_cols[v])\n",
    "        # assume that if min is 0 and value in test case is 0, the eature is not present, so fe flit to the other value\n",
    "        #print( binary_cols[v][1], test_case[v] )\n",
    "        if (test_case[v] == binary_cols[v][1]): # at the lower value\n",
    "            #print(v)\n",
    "            newcase = test_case.copy()\n",
    "            newcase[v] = binary_cols[v][2]\n",
    "            newcase['changed_var'] = v\n",
    "            newcase['dir'] = '+'\n",
    "            newcase['type'] = 'b'\n",
    "            #print(newcase)\n",
    "            dat=dat.append(newcase)\n",
    "        else:\n",
    "            #print(v)\n",
    "            newcase = test_case.copy()\n",
    "            newcase[v] = binary_cols[v][1]\n",
    "            newcase['changed_var'] = v\n",
    "            newcase['dir'] = '-'\n",
    "            newcase['type'] = 'b'\n",
    "            #print(newcase)\n",
    "            dat=dat.append(newcase)   \n",
    "\n",
    "\n",
    "    # now work on numeric variables\n",
    "    for v in numeric_cols:\n",
    "        # assume that we do not change values which are at their lowest value\n",
    "        \n",
    "            print(v)\n",
    "            # val + sd\n",
    "            newcase = test_case.copy()\n",
    "            newcase[v] = min(newcase[v] + numeric_cols[v][4], numeric_cols[v][2] )\n",
    "            newcase['changed_var'] = v\n",
    "            newcase['dir'] = '+'\n",
    "            newcase['type'] = 'n'\n",
    "            dat=dat.append(newcase)\n",
    "            # val -sd\n",
    "            newcase = test_case.copy()\n",
    "            newcase[v] = max(newcase[v] - numeric_cols[v][4], numeric_cols[v][1] )\n",
    "            newcase['changed_var'] = v\n",
    "            newcase['dir'] = '-'\n",
    "            newcase['type'] = 'n'\n",
    "            dat=dat.append(newcase)\n",
    "    return dat"
   ]
  },
  {
   "cell_type": "code",
   "execution_count": 157,
   "metadata": {},
   "outputs": [
    {
     "name": "stdout",
     "output_type": "stream",
     "text": [
      "drugs_m0-1\n",
      "drugs_m1-2\n",
      "drugs_m2-3\n",
      "drugs_m3-4\n",
      "drugs_m4-5\n",
      "drugs_m5-6\n",
      "drugs_m6-7\n",
      "drugs_m7-8\n",
      "drugs_m8-9\n",
      "drugs_m9-10\n",
      "drugs_m10-11\n",
      "drugs_m11-12\n"
     ]
    }
   ],
   "source": [
    "dat = combinations(test_case, binary_cols, numeric_cols)"
   ]
  },
  {
   "cell_type": "code",
   "execution_count": 158,
   "metadata": {},
   "outputs": [],
   "source": [
    "def predict_combinations(dat, clf, pr):\n",
    "    probs = clf.predict_proba(dat[cls])\n",
    "    d = pd.DataFrame(dat[['type','changed_var','dir']])\n",
    "    d['prob'] = probs[:,1]\n",
    "    d['change'] = probs[:,1] - pr\n",
    "    return d.sort_values('change', ascending=False) \n",
    "    "
   ]
  },
  {
   "cell_type": "markdown",
   "metadata": {},
   "source": [
    "## Preditions on Patient1"
   ]
  },
  {
   "cell_type": "code",
   "execution_count": 160,
   "metadata": {},
   "outputs": [
    {
     "data": {
      "text/html": [
       "<div>\n",
       "<style scoped>\n",
       "    .dataframe tbody tr th:only-of-type {\n",
       "        vertical-align: middle;\n",
       "    }\n",
       "\n",
       "    .dataframe tbody tr th {\n",
       "        vertical-align: top;\n",
       "    }\n",
       "\n",
       "    .dataframe thead th {\n",
       "        text-align: right;\n",
       "    }\n",
       "</style>\n",
       "<table border=\"1\" class=\"dataframe\">\n",
       "  <thead>\n",
       "    <tr style=\"text-align: right;\">\n",
       "      <th></th>\n",
       "      <th>type</th>\n",
       "      <th>changed_var</th>\n",
       "      <th>dir</th>\n",
       "      <th>prob</th>\n",
       "      <th>change</th>\n",
       "    </tr>\n",
       "  </thead>\n",
       "  <tbody>\n",
       "    <tr>\n",
       "      <th>27757</th>\n",
       "      <td>b</td>\n",
       "      <td>W</td>\n",
       "      <td>-</td>\n",
       "      <td>0.800000</td>\n",
       "      <td>0.070000</td>\n",
       "    </tr>\n",
       "    <tr>\n",
       "      <th>27757</th>\n",
       "      <td>b</td>\n",
       "      <td>ELIX27</td>\n",
       "      <td>-</td>\n",
       "      <td>0.800000</td>\n",
       "      <td>0.070000</td>\n",
       "    </tr>\n",
       "    <tr>\n",
       "      <th>27757</th>\n",
       "      <td>b</td>\n",
       "      <td>ELIX10</td>\n",
       "      <td>+</td>\n",
       "      <td>0.760000</td>\n",
       "      <td>0.030000</td>\n",
       "    </tr>\n",
       "    <tr>\n",
       "      <th>27757</th>\n",
       "      <td>b</td>\n",
       "      <td>B</td>\n",
       "      <td>+</td>\n",
       "      <td>0.760000</td>\n",
       "      <td>0.030000</td>\n",
       "    </tr>\n",
       "    <tr>\n",
       "      <th>27757</th>\n",
       "      <td>b</td>\n",
       "      <td>G-5</td>\n",
       "      <td>+</td>\n",
       "      <td>0.750000</td>\n",
       "      <td>0.020000</td>\n",
       "    </tr>\n",
       "    <tr>\n",
       "      <th>27757</th>\n",
       "      <td>b</td>\n",
       "      <td>ELIX4</td>\n",
       "      <td>+</td>\n",
       "      <td>0.750000</td>\n",
       "      <td>0.020000</td>\n",
       "    </tr>\n",
       "    <tr>\n",
       "      <th>27757</th>\n",
       "      <td>b</td>\n",
       "      <td>H</td>\n",
       "      <td>+</td>\n",
       "      <td>0.740000</td>\n",
       "      <td>0.010000</td>\n",
       "    </tr>\n",
       "    <tr>\n",
       "      <th>27757</th>\n",
       "      <td>b</td>\n",
       "      <td>G-8</td>\n",
       "      <td>+</td>\n",
       "      <td>0.730000</td>\n",
       "      <td>0.000000</td>\n",
       "    </tr>\n",
       "    <tr>\n",
       "      <th>27757</th>\n",
       "      <td>b</td>\n",
       "      <td>G-10</td>\n",
       "      <td>+</td>\n",
       "      <td>0.730000</td>\n",
       "      <td>0.000000</td>\n",
       "    </tr>\n",
       "    <tr>\n",
       "      <th>27757</th>\n",
       "      <td>b</td>\n",
       "      <td>ELIX2</td>\n",
       "      <td>+</td>\n",
       "      <td>0.730000</td>\n",
       "      <td>0.000000</td>\n",
       "    </tr>\n",
       "    <tr>\n",
       "      <th>27757</th>\n",
       "      <td>b</td>\n",
       "      <td>G-15</td>\n",
       "      <td>+</td>\n",
       "      <td>0.730000</td>\n",
       "      <td>0.000000</td>\n",
       "    </tr>\n",
       "    <tr>\n",
       "      <th>27757</th>\n",
       "      <td>b</td>\n",
       "      <td>G-19</td>\n",
       "      <td>+</td>\n",
       "      <td>0.730000</td>\n",
       "      <td>0.000000</td>\n",
       "    </tr>\n",
       "    <tr>\n",
       "      <th>27757</th>\n",
       "      <td>b</td>\n",
       "      <td>G-20</td>\n",
       "      <td>+</td>\n",
       "      <td>0.730000</td>\n",
       "      <td>0.000000</td>\n",
       "    </tr>\n",
       "    <tr>\n",
       "      <th>27757</th>\n",
       "      <td>b</td>\n",
       "      <td>G-23</td>\n",
       "      <td>+</td>\n",
       "      <td>0.730000</td>\n",
       "      <td>0.000000</td>\n",
       "    </tr>\n",
       "    <tr>\n",
       "      <th>27757</th>\n",
       "      <td>b</td>\n",
       "      <td>U</td>\n",
       "      <td>+</td>\n",
       "      <td>0.730000</td>\n",
       "      <td>0.000000</td>\n",
       "    </tr>\n",
       "    <tr>\n",
       "      <th>27757</th>\n",
       "      <td>b</td>\n",
       "      <td>G-14</td>\n",
       "      <td>+</td>\n",
       "      <td>0.730000</td>\n",
       "      <td>0.000000</td>\n",
       "    </tr>\n",
       "    <tr>\n",
       "      <th>27757</th>\n",
       "      <td>b</td>\n",
       "      <td>G-4</td>\n",
       "      <td>+</td>\n",
       "      <td>0.730000</td>\n",
       "      <td>0.000000</td>\n",
       "    </tr>\n",
       "    <tr>\n",
       "      <th>27757</th>\n",
       "      <td>n</td>\n",
       "      <td>drugs_m1-2</td>\n",
       "      <td>-</td>\n",
       "      <td>0.730000</td>\n",
       "      <td>0.000000</td>\n",
       "    </tr>\n",
       "    <tr>\n",
       "      <th>27757</th>\n",
       "      <td>n</td>\n",
       "      <td>drugs_m2-3</td>\n",
       "      <td>-</td>\n",
       "      <td>0.730000</td>\n",
       "      <td>0.000000</td>\n",
       "    </tr>\n",
       "    <tr>\n",
       "      <th>27757</th>\n",
       "      <td>n</td>\n",
       "      <td>drugs_m3-4</td>\n",
       "      <td>-</td>\n",
       "      <td>0.730000</td>\n",
       "      <td>0.000000</td>\n",
       "    </tr>\n",
       "    <tr>\n",
       "      <th>27757</th>\n",
       "      <td>n</td>\n",
       "      <td>drugs_m4-5</td>\n",
       "      <td>-</td>\n",
       "      <td>0.730000</td>\n",
       "      <td>0.000000</td>\n",
       "    </tr>\n",
       "    <tr>\n",
       "      <th>27757</th>\n",
       "      <td>n</td>\n",
       "      <td>drugs_m5-6</td>\n",
       "      <td>-</td>\n",
       "      <td>0.730000</td>\n",
       "      <td>0.000000</td>\n",
       "    </tr>\n",
       "    <tr>\n",
       "      <th>27757</th>\n",
       "      <td>n</td>\n",
       "      <td>drugs_m6-7</td>\n",
       "      <td>-</td>\n",
       "      <td>0.730000</td>\n",
       "      <td>0.000000</td>\n",
       "    </tr>\n",
       "    <tr>\n",
       "      <th>27757</th>\n",
       "      <td>n</td>\n",
       "      <td>drugs_m7-8</td>\n",
       "      <td>-</td>\n",
       "      <td>0.730000</td>\n",
       "      <td>0.000000</td>\n",
       "    </tr>\n",
       "    <tr>\n",
       "      <th>27757</th>\n",
       "      <td>n</td>\n",
       "      <td>drugs_m8-9</td>\n",
       "      <td>-</td>\n",
       "      <td>0.730000</td>\n",
       "      <td>0.000000</td>\n",
       "    </tr>\n",
       "    <tr>\n",
       "      <th>27757</th>\n",
       "      <td>n</td>\n",
       "      <td>drugs_m9-10</td>\n",
       "      <td>-</td>\n",
       "      <td>0.730000</td>\n",
       "      <td>0.000000</td>\n",
       "    </tr>\n",
       "    <tr>\n",
       "      <th>27757</th>\n",
       "      <td>n</td>\n",
       "      <td>drugs_m10-11</td>\n",
       "      <td>-</td>\n",
       "      <td>0.730000</td>\n",
       "      <td>0.000000</td>\n",
       "    </tr>\n",
       "    <tr>\n",
       "      <th>27757</th>\n",
       "      <td>n</td>\n",
       "      <td>drugs_m0-1</td>\n",
       "      <td>-</td>\n",
       "      <td>0.730000</td>\n",
       "      <td>0.000000</td>\n",
       "    </tr>\n",
       "    <tr>\n",
       "      <th>27757</th>\n",
       "      <td>n</td>\n",
       "      <td>drugs_m11-12</td>\n",
       "      <td>-</td>\n",
       "      <td>0.730000</td>\n",
       "      <td>0.000000</td>\n",
       "    </tr>\n",
       "    <tr>\n",
       "      <th>27757</th>\n",
       "      <td>b</td>\n",
       "      <td>ELIX25</td>\n",
       "      <td>+</td>\n",
       "      <td>0.730000</td>\n",
       "      <td>0.000000</td>\n",
       "    </tr>\n",
       "    <tr>\n",
       "      <th>...</th>\n",
       "      <td>...</td>\n",
       "      <td>...</td>\n",
       "      <td>...</td>\n",
       "      <td>...</td>\n",
       "      <td>...</td>\n",
       "    </tr>\n",
       "    <tr>\n",
       "      <th>27757</th>\n",
       "      <td>b</td>\n",
       "      <td>G-7</td>\n",
       "      <td>-</td>\n",
       "      <td>0.670000</td>\n",
       "      <td>-0.060000</td>\n",
       "    </tr>\n",
       "    <tr>\n",
       "      <th>27757</th>\n",
       "      <td>n</td>\n",
       "      <td>drugs_m10-11</td>\n",
       "      <td>+</td>\n",
       "      <td>0.670000</td>\n",
       "      <td>-0.060000</td>\n",
       "    </tr>\n",
       "    <tr>\n",
       "      <th>27757</th>\n",
       "      <td>b</td>\n",
       "      <td>ELIX19</td>\n",
       "      <td>-</td>\n",
       "      <td>0.670000</td>\n",
       "      <td>-0.060000</td>\n",
       "    </tr>\n",
       "    <tr>\n",
       "      <th>27757</th>\n",
       "      <td>b</td>\n",
       "      <td>ELIX20</td>\n",
       "      <td>+</td>\n",
       "      <td>0.670000</td>\n",
       "      <td>-0.060000</td>\n",
       "    </tr>\n",
       "    <tr>\n",
       "      <th>27757</th>\n",
       "      <td>b</td>\n",
       "      <td>ELIX5</td>\n",
       "      <td>+</td>\n",
       "      <td>0.660000</td>\n",
       "      <td>-0.070000</td>\n",
       "    </tr>\n",
       "    <tr>\n",
       "      <th>27757</th>\n",
       "      <td>n</td>\n",
       "      <td>drugs_m5-6</td>\n",
       "      <td>+</td>\n",
       "      <td>0.660000</td>\n",
       "      <td>-0.070000</td>\n",
       "    </tr>\n",
       "    <tr>\n",
       "      <th>27757</th>\n",
       "      <td>b</td>\n",
       "      <td>ELIX26</td>\n",
       "      <td>-</td>\n",
       "      <td>0.660000</td>\n",
       "      <td>-0.070000</td>\n",
       "    </tr>\n",
       "    <tr>\n",
       "      <th>27757</th>\n",
       "      <td>b</td>\n",
       "      <td>G-11</td>\n",
       "      <td>-</td>\n",
       "      <td>0.660000</td>\n",
       "      <td>-0.070000</td>\n",
       "    </tr>\n",
       "    <tr>\n",
       "      <th>27757</th>\n",
       "      <td>b</td>\n",
       "      <td>G-3</td>\n",
       "      <td>-</td>\n",
       "      <td>0.650000</td>\n",
       "      <td>-0.080000</td>\n",
       "    </tr>\n",
       "    <tr>\n",
       "      <th>27757</th>\n",
       "      <td>b</td>\n",
       "      <td>ELIX9</td>\n",
       "      <td>-</td>\n",
       "      <td>0.650000</td>\n",
       "      <td>-0.080000</td>\n",
       "    </tr>\n",
       "    <tr>\n",
       "      <th>27757</th>\n",
       "      <td>b</td>\n",
       "      <td>G-18</td>\n",
       "      <td>-</td>\n",
       "      <td>0.640000</td>\n",
       "      <td>-0.090000</td>\n",
       "    </tr>\n",
       "    <tr>\n",
       "      <th>27757</th>\n",
       "      <td>n</td>\n",
       "      <td>drugs_m3-4</td>\n",
       "      <td>+</td>\n",
       "      <td>0.640000</td>\n",
       "      <td>-0.090000</td>\n",
       "    </tr>\n",
       "    <tr>\n",
       "      <th>27757</th>\n",
       "      <td>b</td>\n",
       "      <td>ELIX21</td>\n",
       "      <td>-</td>\n",
       "      <td>0.630000</td>\n",
       "      <td>-0.100000</td>\n",
       "    </tr>\n",
       "    <tr>\n",
       "      <th>27757</th>\n",
       "      <td>b</td>\n",
       "      <td>ELIX16</td>\n",
       "      <td>+</td>\n",
       "      <td>0.620000</td>\n",
       "      <td>-0.110000</td>\n",
       "    </tr>\n",
       "    <tr>\n",
       "      <th>27757</th>\n",
       "      <td>b</td>\n",
       "      <td>ELIX15</td>\n",
       "      <td>+</td>\n",
       "      <td>0.620000</td>\n",
       "      <td>-0.110000</td>\n",
       "    </tr>\n",
       "    <tr>\n",
       "      <th>27757</th>\n",
       "      <td>b</td>\n",
       "      <td>ELIX24</td>\n",
       "      <td>+</td>\n",
       "      <td>0.620000</td>\n",
       "      <td>-0.110000</td>\n",
       "    </tr>\n",
       "    <tr>\n",
       "      <th>27757</th>\n",
       "      <td>n</td>\n",
       "      <td>drugs_m2-3</td>\n",
       "      <td>+</td>\n",
       "      <td>0.610000</td>\n",
       "      <td>-0.120000</td>\n",
       "    </tr>\n",
       "    <tr>\n",
       "      <th>27757</th>\n",
       "      <td>b</td>\n",
       "      <td>ELIX11</td>\n",
       "      <td>+</td>\n",
       "      <td>0.610000</td>\n",
       "      <td>-0.120000</td>\n",
       "    </tr>\n",
       "    <tr>\n",
       "      <th>27757</th>\n",
       "      <td>b</td>\n",
       "      <td>G-17</td>\n",
       "      <td>-</td>\n",
       "      <td>0.610000</td>\n",
       "      <td>-0.120000</td>\n",
       "    </tr>\n",
       "    <tr>\n",
       "      <th>27757</th>\n",
       "      <td>b</td>\n",
       "      <td>ELIX13</td>\n",
       "      <td>-</td>\n",
       "      <td>0.600000</td>\n",
       "      <td>-0.130000</td>\n",
       "    </tr>\n",
       "    <tr>\n",
       "      <th>27757</th>\n",
       "      <td>n</td>\n",
       "      <td>drugs_m0-1</td>\n",
       "      <td>+</td>\n",
       "      <td>0.580000</td>\n",
       "      <td>-0.150000</td>\n",
       "    </tr>\n",
       "    <tr>\n",
       "      <th>27757</th>\n",
       "      <td>b</td>\n",
       "      <td>ELIX8</td>\n",
       "      <td>+</td>\n",
       "      <td>0.570000</td>\n",
       "      <td>-0.160000</td>\n",
       "    </tr>\n",
       "    <tr>\n",
       "      <th>27757</th>\n",
       "      <td>b</td>\n",
       "      <td>G-2</td>\n",
       "      <td>-</td>\n",
       "      <td>0.570000</td>\n",
       "      <td>-0.160000</td>\n",
       "    </tr>\n",
       "    <tr>\n",
       "      <th>27757</th>\n",
       "      <td>b</td>\n",
       "      <td>ELIX7</td>\n",
       "      <td>+</td>\n",
       "      <td>0.540000</td>\n",
       "      <td>-0.190000</td>\n",
       "    </tr>\n",
       "    <tr>\n",
       "      <th>27757</th>\n",
       "      <td>b</td>\n",
       "      <td>G-12</td>\n",
       "      <td>-</td>\n",
       "      <td>0.510000</td>\n",
       "      <td>-0.220000</td>\n",
       "    </tr>\n",
       "    <tr>\n",
       "      <th>27757</th>\n",
       "      <td>b</td>\n",
       "      <td>ELIX18</td>\n",
       "      <td>-</td>\n",
       "      <td>0.500000</td>\n",
       "      <td>-0.230000</td>\n",
       "    </tr>\n",
       "    <tr>\n",
       "      <th>27757</th>\n",
       "      <td>b</td>\n",
       "      <td>G-22</td>\n",
       "      <td>-</td>\n",
       "      <td>0.496667</td>\n",
       "      <td>-0.233333</td>\n",
       "    </tr>\n",
       "    <tr>\n",
       "      <th>27757</th>\n",
       "      <td>b</td>\n",
       "      <td>G-21</td>\n",
       "      <td>-</td>\n",
       "      <td>0.490000</td>\n",
       "      <td>-0.240000</td>\n",
       "    </tr>\n",
       "    <tr>\n",
       "      <th>27757</th>\n",
       "      <td>b</td>\n",
       "      <td>ELIX6</td>\n",
       "      <td>-</td>\n",
       "      <td>0.430000</td>\n",
       "      <td>-0.300000</td>\n",
       "    </tr>\n",
       "    <tr>\n",
       "      <th>27757</th>\n",
       "      <td>b</td>\n",
       "      <td>ELIX14</td>\n",
       "      <td>-</td>\n",
       "      <td>0.170000</td>\n",
       "      <td>-0.560000</td>\n",
       "    </tr>\n",
       "  </tbody>\n",
       "</table>\n",
       "<p>82 rows × 5 columns</p>\n",
       "</div>"
      ],
      "text/plain": [
       "      type   changed_var dir      prob    change\n",
       "27757    b             W   -  0.800000  0.070000\n",
       "27757    b        ELIX27   -  0.800000  0.070000\n",
       "27757    b        ELIX10   +  0.760000  0.030000\n",
       "27757    b             B   +  0.760000  0.030000\n",
       "27757    b           G-5   +  0.750000  0.020000\n",
       "27757    b         ELIX4   +  0.750000  0.020000\n",
       "27757    b             H   +  0.740000  0.010000\n",
       "27757    b           G-8   +  0.730000  0.000000\n",
       "27757    b          G-10   +  0.730000  0.000000\n",
       "27757    b         ELIX2   +  0.730000  0.000000\n",
       "27757    b          G-15   +  0.730000  0.000000\n",
       "27757    b          G-19   +  0.730000  0.000000\n",
       "27757    b          G-20   +  0.730000  0.000000\n",
       "27757    b          G-23   +  0.730000  0.000000\n",
       "27757    b             U   +  0.730000  0.000000\n",
       "27757    b          G-14   +  0.730000  0.000000\n",
       "27757    b           G-4   +  0.730000  0.000000\n",
       "27757    n    drugs_m1-2   -  0.730000  0.000000\n",
       "27757    n    drugs_m2-3   -  0.730000  0.000000\n",
       "27757    n    drugs_m3-4   -  0.730000  0.000000\n",
       "27757    n    drugs_m4-5   -  0.730000  0.000000\n",
       "27757    n    drugs_m5-6   -  0.730000  0.000000\n",
       "27757    n    drugs_m6-7   -  0.730000  0.000000\n",
       "27757    n    drugs_m7-8   -  0.730000  0.000000\n",
       "27757    n    drugs_m8-9   -  0.730000  0.000000\n",
       "27757    n   drugs_m9-10   -  0.730000  0.000000\n",
       "27757    n  drugs_m10-11   -  0.730000  0.000000\n",
       "27757    n    drugs_m0-1   -  0.730000  0.000000\n",
       "27757    n  drugs_m11-12   -  0.730000  0.000000\n",
       "27757    b        ELIX25   +  0.730000  0.000000\n",
       "...    ...           ...  ..       ...       ...\n",
       "27757    b           G-7   -  0.670000 -0.060000\n",
       "27757    n  drugs_m10-11   +  0.670000 -0.060000\n",
       "27757    b        ELIX19   -  0.670000 -0.060000\n",
       "27757    b        ELIX20   +  0.670000 -0.060000\n",
       "27757    b         ELIX5   +  0.660000 -0.070000\n",
       "27757    n    drugs_m5-6   +  0.660000 -0.070000\n",
       "27757    b        ELIX26   -  0.660000 -0.070000\n",
       "27757    b          G-11   -  0.660000 -0.070000\n",
       "27757    b           G-3   -  0.650000 -0.080000\n",
       "27757    b         ELIX9   -  0.650000 -0.080000\n",
       "27757    b          G-18   -  0.640000 -0.090000\n",
       "27757    n    drugs_m3-4   +  0.640000 -0.090000\n",
       "27757    b        ELIX21   -  0.630000 -0.100000\n",
       "27757    b        ELIX16   +  0.620000 -0.110000\n",
       "27757    b        ELIX15   +  0.620000 -0.110000\n",
       "27757    b        ELIX24   +  0.620000 -0.110000\n",
       "27757    n    drugs_m2-3   +  0.610000 -0.120000\n",
       "27757    b        ELIX11   +  0.610000 -0.120000\n",
       "27757    b          G-17   -  0.610000 -0.120000\n",
       "27757    b        ELIX13   -  0.600000 -0.130000\n",
       "27757    n    drugs_m0-1   +  0.580000 -0.150000\n",
       "27757    b         ELIX8   +  0.570000 -0.160000\n",
       "27757    b           G-2   -  0.570000 -0.160000\n",
       "27757    b         ELIX7   +  0.540000 -0.190000\n",
       "27757    b          G-12   -  0.510000 -0.220000\n",
       "27757    b        ELIX18   -  0.500000 -0.230000\n",
       "27757    b          G-22   -  0.496667 -0.233333\n",
       "27757    b          G-21   -  0.490000 -0.240000\n",
       "27757    b         ELIX6   -  0.430000 -0.300000\n",
       "27757    b        ELIX14   -  0.170000 -0.560000\n",
       "\n",
       "[82 rows x 5 columns]"
      ]
     },
     "execution_count": 160,
     "metadata": {},
     "output_type": "execute_result"
    }
   ],
   "source": [
    "pr = rf.predict_proba([test_case[cls]])[:,1]\n",
    "d = predict_combinations(dat, rf, pr)\n",
    "d"
   ]
  },
  {
   "cell_type": "code",
   "execution_count": 161,
   "metadata": {},
   "outputs": [
    {
     "name": "stdout",
     "output_type": "stream",
     "text": [
      "main confirming factors -- the numbers indicate probability in the case thee factors were not present:\n",
      "      type changed_var dir      prob    change\n",
      "27757    b      ELIX14   -  0.170000 -0.560000\n",
      "27757    b       ELIX6   -  0.430000 -0.300000\n",
      "27757    b        G-21   -  0.490000 -0.240000\n",
      "27757    b        G-22   -  0.496667 -0.233333\n",
      "27757    b      ELIX18   -  0.500000 -0.230000\n",
      "27757    b        G-12   -  0.510000 -0.220000\n",
      "27757    b         G-2   -  0.570000 -0.160000\n",
      "27757    b      ELIX13   -  0.600000 -0.130000\n",
      "27757    b        G-17   -  0.610000 -0.120000\n",
      "27757    b      ELIX21   -  0.630000 -0.100000\n",
      "main disconfirming factors:\n",
      "      type changed_var dir  prob  change\n",
      "27757    b           W   -   0.8    0.07\n",
      "27757    b      ELIX27   -   0.8    0.07\n"
     ]
    }
   ],
   "source": [
    "print(\"main confirming factors -- the numbers indicate probability in the case thee factors were not present:\")\n",
    "print(d[(((d['type'] =='b') & (d['dir'] =='-')) | ((d['type'] =='n') & (d['dir'] =='-'))) & (d['change'] < 0)].sort_values('change')[:10])\n",
    "print(\"main disconfirming factors:\")\n",
    "print(d[(((d['type'] =='b') & (d['dir'] =='-')) | ((d['type'] =='n') & (d['dir'] =='-'))) & (d['change'] > 0)].sort_values('change')[-10:])\n"
   ]
  },
  {
   "cell_type": "markdown",
   "metadata": {},
   "source": [
    "## Prediction on Patient2"
   ]
  },
  {
   "cell_type": "code",
   "execution_count": 163,
   "metadata": {},
   "outputs": [
    {
     "name": "stdout",
     "output_type": "stream",
     "text": [
      "drugs_m0-1\n",
      "drugs_m1-2\n",
      "drugs_m2-3\n",
      "drugs_m3-4\n",
      "drugs_m4-5\n",
      "drugs_m5-6\n",
      "drugs_m6-7\n",
      "drugs_m7-8\n",
      "drugs_m8-9\n",
      "drugs_m9-10\n",
      "drugs_m10-11\n",
      "drugs_m11-12\n"
     ]
    }
   ],
   "source": [
    "dat = combinations(test_case1, binary_cols, numeric_cols)\n"
   ]
  },
  {
   "cell_type": "code",
   "execution_count": 166,
   "metadata": {},
   "outputs": [],
   "source": [
    "pr = rf.predict_proba([test_case1[cls]])[:,1]\n",
    "d = predict_combinations(dat, rf, pr)\n"
   ]
  },
  {
   "cell_type": "code",
   "execution_count": 165,
   "metadata": {},
   "outputs": [
    {
     "name": "stdout",
     "output_type": "stream",
     "text": [
      "main confirming factors -- the numbers indicate probability in the case thee factors were not present:\n",
      "      type changed_var dir      prob    change\n",
      "76929    b        G-13   -  0.000000 -0.010605\n",
      "76929    b           W   -  0.000299 -0.010306\n",
      "76929    b      ELIX26   -  0.001639 -0.008966\n",
      "main disconfirming factors:\n",
      "Empty DataFrame\n",
      "Columns: [type, changed_var, dir, prob, change]\n",
      "Index: []\n"
     ]
    }
   ],
   "source": [
    "print(\"main confirming factors -- the numbers indicate probability in the case thee factors were not present:\")\n",
    "print(d[(((d['type'] =='b') & (d['dir'] =='-')) | ((d['type'] =='n') & (d['dir'] =='-'))) & (d['change'] < 0)].sort_values('change')[:10])\n",
    "print(\"main disconfirming factors:\")\n",
    "print(d[(((d['type'] =='b') & (d['dir'] =='-')) | ((d['type'] =='n') & (d['dir'] =='-'))) & (d['change'] > 0)].sort_values('change')[-10:])\n"
   ]
  }
 ],
 "metadata": {
  "kernelspec": {
   "display_name": "Python 3",
   "language": "python",
   "name": "python3"
  },
  "language_info": {
   "codemirror_mode": {
    "name": "ipython",
    "version": 3
   },
   "file_extension": ".py",
   "mimetype": "text/x-python",
   "name": "python",
   "nbconvert_exporter": "python",
   "pygments_lexer": "ipython3",
   "version": "3.7.3"
  }
 },
 "nbformat": 4,
 "nbformat_minor": 2
}
