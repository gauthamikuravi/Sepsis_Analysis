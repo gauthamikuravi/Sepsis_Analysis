{
 "cells": [
  {
   "cell_type": "markdown",
   "metadata": {},
   "source": [
    "# Models to predict the mortality of sepsis patients"
   ]
  },
  {
   "cell_type": "code",
   "execution_count": 65,
   "metadata": {},
   "outputs": [],
   "source": [
    "import pandas as pd\n",
    "import numpy as np\n",
    "from sklearn import preprocessing\n",
    "import matplotlib.pyplot as plt\n",
    "import datetime\n",
    "from time import time\n",
    "import import_ipynb\n",
    "import warnings\n",
    "warnings.filterwarnings('ignore')\n",
    "\n",
    "%matplotlib inline\n",
    "#import visuals as vs\n"
   ]
  },
  {
   "cell_type": "markdown",
   "metadata": {},
   "source": [
    "## Extracting the clean data  "
   ]
  },
  {
   "cell_type": "code",
   "execution_count": 66,
   "metadata": {},
   "outputs": [],
   "source": [
    "import os\n",
    "os.getcwd()\n",
    "os.chdir(r'C:\\Users\\skura\\Desktop\\HAP\\Project')\n",
    "labevents = pd.read_csv(r'clean_sepsis_feature_list.csv')\n",
    "\n",
    "sepsis_features = pd.read_csv('clean_sepsis_feature_list.csv')"
   ]
  },
  {
   "cell_type": "code",
   "execution_count": 67,
   "metadata": {},
   "outputs": [
    {
     "data": {
      "text/plain": [
       "Index(['Unnamed: 0', 'subject_id', 'hadm_id', 'Alanine Aminotransferase (ALT)',\n",
       "       'Alkaline Phosphatase', 'Anion Gap', 'Asparate Aminotransferase (AST)',\n",
       "       'Basophils', 'Bicarbonate', 'Bilirubin, Total', 'Calcium, Total',\n",
       "       'Chloride', 'Creatinine', 'Eosinophils', 'Glucose', 'Hematocrit',\n",
       "       'Hemoglobin', 'INR(PT)', 'Lactate', 'Lymphocytes', 'MCH', 'MCHC', 'MCV',\n",
       "       'Magnesium', 'Monocytes', 'Neutrophils', 'PT', 'PTT', 'Phosphate',\n",
       "       'Platelet Count', 'Potassium', 'RDW', 'Red Blood Cells', 'Sodium',\n",
       "       'Specific Gravity', 'Urea Nitrogen', 'White Blood Cells', 'pH',\n",
       "       'admission_type', 'insurance', 'ethnicity', 'death_period', 'gender',\n",
       "       'age', 'BLOOD CULTURE', 'MRSA SCREEN', 'SPUTUM', 'STOOL', 'SWAB',\n",
       "       'URINE', 'num_of_infections'],\n",
       "      dtype='object')"
      ]
     },
     "execution_count": 67,
     "metadata": {},
     "output_type": "execute_result"
    }
   ],
   "source": [
    "sepsis_features.columns"
   ]
  },
  {
   "cell_type": "code",
   "execution_count": 68,
   "metadata": {},
   "outputs": [],
   "source": [
    "sepsis_features.drop(['Unnamed: 0'],axis=1,inplace=True)"
   ]
  },
  {
   "cell_type": "code",
   "execution_count": 69,
   "metadata": {},
   "outputs": [
    {
     "data": {
      "text/html": [
       "<div>\n",
       "<style scoped>\n",
       "    .dataframe tbody tr th:only-of-type {\n",
       "        vertical-align: middle;\n",
       "    }\n",
       "\n",
       "    .dataframe tbody tr th {\n",
       "        vertical-align: top;\n",
       "    }\n",
       "\n",
       "    .dataframe thead th {\n",
       "        text-align: right;\n",
       "    }\n",
       "</style>\n",
       "<table border=\"1\" class=\"dataframe\">\n",
       "  <thead>\n",
       "    <tr style=\"text-align: right;\">\n",
       "      <th></th>\n",
       "      <th>subject_id</th>\n",
       "      <th>hadm_id</th>\n",
       "      <th>Alanine Aminotransferase (ALT)</th>\n",
       "      <th>Alkaline Phosphatase</th>\n",
       "      <th>Anion Gap</th>\n",
       "      <th>Asparate Aminotransferase (AST)</th>\n",
       "      <th>Basophils</th>\n",
       "      <th>Bicarbonate</th>\n",
       "      <th>Bilirubin, Total</th>\n",
       "      <th>Calcium, Total</th>\n",
       "      <th>...</th>\n",
       "      <th>death_period</th>\n",
       "      <th>gender</th>\n",
       "      <th>age</th>\n",
       "      <th>BLOOD CULTURE</th>\n",
       "      <th>MRSA SCREEN</th>\n",
       "      <th>SPUTUM</th>\n",
       "      <th>STOOL</th>\n",
       "      <th>SWAB</th>\n",
       "      <th>URINE</th>\n",
       "      <th>num_of_infections</th>\n",
       "    </tr>\n",
       "  </thead>\n",
       "  <tbody>\n",
       "    <tr>\n",
       "      <th>0</th>\n",
       "      <td>21</td>\n",
       "      <td>111970</td>\n",
       "      <td>47.000000</td>\n",
       "      <td>167.000000</td>\n",
       "      <td>17.0</td>\n",
       "      <td>82.000000</td>\n",
       "      <td>0.00</td>\n",
       "      <td>23.50</td>\n",
       "      <td>0.300000</td>\n",
       "      <td>7.700000</td>\n",
       "      <td>...</td>\n",
       "      <td>1</td>\n",
       "      <td>M</td>\n",
       "      <td>87</td>\n",
       "      <td>1</td>\n",
       "      <td>0</td>\n",
       "      <td>0</td>\n",
       "      <td>1</td>\n",
       "      <td>0</td>\n",
       "      <td>0</td>\n",
       "      <td>2</td>\n",
       "    </tr>\n",
       "    <tr>\n",
       "      <th>1</th>\n",
       "      <td>94</td>\n",
       "      <td>183686</td>\n",
       "      <td>90.333333</td>\n",
       "      <td>68.666667</td>\n",
       "      <td>14.0</td>\n",
       "      <td>82.333333</td>\n",
       "      <td>0.85</td>\n",
       "      <td>23.25</td>\n",
       "      <td>1.033333</td>\n",
       "      <td>8.075000</td>\n",
       "      <td>...</td>\n",
       "      <td>0</td>\n",
       "      <td>M</td>\n",
       "      <td>74</td>\n",
       "      <td>0</td>\n",
       "      <td>0</td>\n",
       "      <td>0</td>\n",
       "      <td>0</td>\n",
       "      <td>0</td>\n",
       "      <td>0</td>\n",
       "      <td>0</td>\n",
       "    </tr>\n",
       "    <tr>\n",
       "      <th>2</th>\n",
       "      <td>157</td>\n",
       "      <td>107880</td>\n",
       "      <td>13.000000</td>\n",
       "      <td>118.000000</td>\n",
       "      <td>17.4</td>\n",
       "      <td>25.000000</td>\n",
       "      <td>0.00</td>\n",
       "      <td>18.00</td>\n",
       "      <td>0.600000</td>\n",
       "      <td>7.940000</td>\n",
       "      <td>...</td>\n",
       "      <td>0</td>\n",
       "      <td>M</td>\n",
       "      <td>80</td>\n",
       "      <td>0</td>\n",
       "      <td>0</td>\n",
       "      <td>0</td>\n",
       "      <td>0</td>\n",
       "      <td>0</td>\n",
       "      <td>2</td>\n",
       "      <td>3</td>\n",
       "    </tr>\n",
       "    <tr>\n",
       "      <th>3</th>\n",
       "      <td>166</td>\n",
       "      <td>128219</td>\n",
       "      <td>94.822544</td>\n",
       "      <td>141.192150</td>\n",
       "      <td>19.0</td>\n",
       "      <td>148.710368</td>\n",
       "      <td>0.00</td>\n",
       "      <td>24.00</td>\n",
       "      <td>1.501629</td>\n",
       "      <td>7.903004</td>\n",
       "      <td>...</td>\n",
       "      <td>1</td>\n",
       "      <td>F</td>\n",
       "      <td>91</td>\n",
       "      <td>1</td>\n",
       "      <td>0</td>\n",
       "      <td>0</td>\n",
       "      <td>0</td>\n",
       "      <td>0</td>\n",
       "      <td>0</td>\n",
       "      <td>1</td>\n",
       "    </tr>\n",
       "    <tr>\n",
       "      <th>4</th>\n",
       "      <td>188</td>\n",
       "      <td>191517</td>\n",
       "      <td>121.000000</td>\n",
       "      <td>130.000000</td>\n",
       "      <td>15.0</td>\n",
       "      <td>114.000000</td>\n",
       "      <td>0.00</td>\n",
       "      <td>17.00</td>\n",
       "      <td>1.775000</td>\n",
       "      <td>7.725000</td>\n",
       "      <td>...</td>\n",
       "      <td>0</td>\n",
       "      <td>M</td>\n",
       "      <td>51</td>\n",
       "      <td>0</td>\n",
       "      <td>0</td>\n",
       "      <td>0</td>\n",
       "      <td>0</td>\n",
       "      <td>0</td>\n",
       "      <td>0</td>\n",
       "      <td>0</td>\n",
       "    </tr>\n",
       "  </tbody>\n",
       "</table>\n",
       "<p>5 rows × 50 columns</p>\n",
       "</div>"
      ],
      "text/plain": [
       "   subject_id  hadm_id  Alanine Aminotransferase (ALT)  Alkaline Phosphatase  \\\n",
       "0          21   111970                       47.000000            167.000000   \n",
       "1          94   183686                       90.333333             68.666667   \n",
       "2         157   107880                       13.000000            118.000000   \n",
       "3         166   128219                       94.822544            141.192150   \n",
       "4         188   191517                      121.000000            130.000000   \n",
       "\n",
       "   Anion Gap  Asparate Aminotransferase (AST)  Basophils  Bicarbonate  \\\n",
       "0       17.0                        82.000000       0.00        23.50   \n",
       "1       14.0                        82.333333       0.85        23.25   \n",
       "2       17.4                        25.000000       0.00        18.00   \n",
       "3       19.0                       148.710368       0.00        24.00   \n",
       "4       15.0                       114.000000       0.00        17.00   \n",
       "\n",
       "   Bilirubin, Total  Calcium, Total  ...  death_period  gender  age  \\\n",
       "0          0.300000        7.700000  ...             1       M   87   \n",
       "1          1.033333        8.075000  ...             0       M   74   \n",
       "2          0.600000        7.940000  ...             0       M   80   \n",
       "3          1.501629        7.903004  ...             1       F   91   \n",
       "4          1.775000        7.725000  ...             0       M   51   \n",
       "\n",
       "   BLOOD CULTURE  MRSA SCREEN  SPUTUM  STOOL  SWAB  URINE  num_of_infections  \n",
       "0              1            0       0      1     0      0                  2  \n",
       "1              0            0       0      0     0      0                  0  \n",
       "2              0            0       0      0     0      2                  3  \n",
       "3              1            0       0      0     0      0                  1  \n",
       "4              0            0       0      0     0      0                  0  \n",
       "\n",
       "[5 rows x 50 columns]"
      ]
     },
     "execution_count": 69,
     "metadata": {},
     "output_type": "execute_result"
    }
   ],
   "source": [
    "sepsis_features.head()"
   ]
  },
  {
   "cell_type": "code",
   "execution_count": 70,
   "metadata": {},
   "outputs": [
    {
     "data": {
      "text/plain": [
       "count    1178.000000\n",
       "mean        1.224109\n",
       "std         1.553037\n",
       "min         0.000000\n",
       "25%         0.000000\n",
       "50%         1.000000\n",
       "75%         2.000000\n",
       "max        14.000000\n",
       "Name: num_of_infections, dtype: float64"
      ]
     },
     "execution_count": 70,
     "metadata": {},
     "output_type": "execute_result"
    }
   ],
   "source": [
    "sepsis_features.num_of_infections.describe()"
   ]
  },
  {
   "cell_type": "markdown",
   "metadata": {},
   "source": [
    "### Analyzing the co-relation and importance of all features together"
   ]
  },
  {
   "cell_type": "markdown",
   "metadata": {},
   "source": [
    "### Prepare the data for machine learning models"
   ]
  },
  {
   "cell_type": "markdown",
   "metadata": {},
   "source": [
    "Normalize the data such that all data points have same priorities"
   ]
  },
  {
   "cell_type": "code",
   "execution_count": 71,
   "metadata": {},
   "outputs": [],
   "source": [
    "columns_to_normalize = sepsis_features.describe().columns.tolist()\n",
    "columns_to_normalize.remove('subject_id')\n",
    "columns_to_normalize.remove('hadm_id')\n",
    "columns_to_normalize.remove('death_period')\n",
    "columns_to_normalize.remove('age')"
   ]
  },
  {
   "cell_type": "code",
   "execution_count": 72,
   "metadata": {},
   "outputs": [],
   "source": [
    "from sklearn.preprocessing import RobustScaler\n",
    "\n",
    "\n",
    "scaler = RobustScaler()\n",
    "processed_sepsis_features = sepsis_features.copy()\n",
    "processed_sepsis_features[columns_to_normalize] = scaler.fit_transform(sepsis_features[columns_to_normalize])\n",
    "#processed_sepsis_features.describe().T"
   ]
  },
  {
   "cell_type": "markdown",
   "metadata": {},
   "source": [
    "#### One hot encoding of all categorical features"
   ]
  },
  {
   "cell_type": "code",
   "execution_count": 73,
   "metadata": {},
   "outputs": [
    {
     "data": {
      "text/html": [
       "<div>\n",
       "<style scoped>\n",
       "    .dataframe tbody tr th:only-of-type {\n",
       "        vertical-align: middle;\n",
       "    }\n",
       "\n",
       "    .dataframe tbody tr th {\n",
       "        vertical-align: top;\n",
       "    }\n",
       "\n",
       "    .dataframe thead th {\n",
       "        text-align: right;\n",
       "    }\n",
       "</style>\n",
       "<table border=\"1\" class=\"dataframe\">\n",
       "  <thead>\n",
       "    <tr style=\"text-align: right;\">\n",
       "      <th></th>\n",
       "      <th>admission_type</th>\n",
       "      <th>insurance</th>\n",
       "      <th>ethnicity</th>\n",
       "      <th>gender</th>\n",
       "    </tr>\n",
       "  </thead>\n",
       "  <tbody>\n",
       "    <tr>\n",
       "      <th>0</th>\n",
       "      <td>EMERGENCY</td>\n",
       "      <td>Medicare</td>\n",
       "      <td>WHITE</td>\n",
       "      <td>M</td>\n",
       "    </tr>\n",
       "    <tr>\n",
       "      <th>1</th>\n",
       "      <td>EMERGENCY</td>\n",
       "      <td>Medicare</td>\n",
       "      <td>ASIAN</td>\n",
       "      <td>M</td>\n",
       "    </tr>\n",
       "    <tr>\n",
       "      <th>2</th>\n",
       "      <td>EMERGENCY</td>\n",
       "      <td>Medicare</td>\n",
       "      <td>WHITE</td>\n",
       "      <td>M</td>\n",
       "    </tr>\n",
       "    <tr>\n",
       "      <th>3</th>\n",
       "      <td>EMERGENCY</td>\n",
       "      <td>Medicare</td>\n",
       "      <td>WHITE</td>\n",
       "      <td>F</td>\n",
       "    </tr>\n",
       "    <tr>\n",
       "      <th>4</th>\n",
       "      <td>EMERGENCY</td>\n",
       "      <td>Private</td>\n",
       "      <td>WHITE</td>\n",
       "      <td>M</td>\n",
       "    </tr>\n",
       "  </tbody>\n",
       "</table>\n",
       "</div>"
      ],
      "text/plain": [
       "  admission_type insurance ethnicity gender\n",
       "0      EMERGENCY  Medicare     WHITE      M\n",
       "1      EMERGENCY  Medicare     ASIAN      M\n",
       "2      EMERGENCY  Medicare     WHITE      M\n",
       "3      EMERGENCY  Medicare     WHITE      F\n",
       "4      EMERGENCY   Private     WHITE      M"
      ]
     },
     "execution_count": 73,
     "metadata": {},
     "output_type": "execute_result"
    }
   ],
   "source": [
    "processed_sepsis_features.select_dtypes(exclude=['floating','integer']).head()"
   ]
  },
  {
   "cell_type": "code",
   "execution_count": 74,
   "metadata": {},
   "outputs": [
    {
     "name": "stdout",
     "output_type": "stream",
     "text": [
      "80\n"
     ]
    }
   ],
   "source": [
    "processed_sepsis_features = pd.get_dummies(processed_sepsis_features)\n",
    "print(len(processed_sepsis_features.columns))\n",
    "#print(processed_sepsis_features.columns)"
   ]
  },
  {
   "cell_type": "markdown",
   "metadata": {},
   "source": [
    "### Shuffle and Split Data\n",
    "\n",
    "Now all categorical variables have been converted into numerical features, and all numerical features have been normalized. As always, we will now split the data (both features and their labels) into training and test sets. 90% of the data will be used for training and 10% for testing. We are doing 90% and 10% because our dataset is small."
   ]
  },
  {
   "cell_type": "code",
   "execution_count": 75,
   "metadata": {},
   "outputs": [],
   "source": [
    "# Import train_test_split\n",
    "from sklearn.model_selection import train_test_split\n",
    "\n",
    "\n",
    "tr, ts = train_test_split(processed_sepsis_features, test_size=0.2)"
   ]
  },
  {
   "cell_type": "code",
   "execution_count": 76,
   "metadata": {},
   "outputs": [],
   "source": [
    "cls = list(processed_sepsis_features.columns)\n",
    "cls.remove('subject_id')\n",
    "cls.remove('hadm_id')\n",
    "cls.remove('death_period')"
   ]
  },
  {
   "cell_type": "code",
   "execution_count": 78,
   "metadata": {},
   "outputs": [],
   "source": [
    "from sklearn.linear_model import LogisticRegression\n",
    "from sklearn.ensemble import RandomForestClassifier\n",
    "from sklearn import metrics\n",
    "from sklearn.metrics import auc\n",
    "from sklearn.metrics import roc_curve\n",
    "from sklearn.metrics import accuracy_score\n"
   ]
  },
  {
   "cell_type": "code",
   "execution_count": 79,
   "metadata": {},
   "outputs": [
    {
     "data": {
      "text/plain": [
       "0.7973453177257526"
      ]
     },
     "execution_count": 79,
     "metadata": {},
     "output_type": "execute_result"
    }
   ],
   "source": [
    "lr = LogisticRegression(solver='lbfgs', C=0.9, max_iter=1000)\n",
    "lr.fit(tr[cls],tr['death_period'])\n",
    "probs = lr.predict_proba(ts[cls])[:,1]\n",
    "fpr,tpr,thresholds = roc_curve(ts['death_period'],probs)\n",
    "auc(fpr,tpr)"
   ]
  },
  {
   "cell_type": "markdown",
   "metadata": {},
   "source": [
    "## Sensitvity Analysis"
   ]
  },
  {
   "cell_type": "code",
   "execution_count": 18,
   "metadata": {},
   "outputs": [
    {
     "data": {
      "image/png": "[encoded data removed]",
      "text/plain": [
       "<Figure size 432x288 with 1 Axes>"
      ]
     },
     "metadata": {
      "needs_background": "light"
     },
     "output_type": "display_data"
    }
   ],
   "source": [
    "ax = tr[['age']].plot(kind='hist', title =\"Age Distribution\", legend=True, grid=True, bins=30, color='orange', alpha=0.6)"
   ]
  },
  {
   "cell_type": "code",
   "execution_count": 80,
   "metadata": {},
   "outputs": [],
   "source": [
    "x =ts['age'].unique()\n",
    "#x.sort()\n",
    "#x = [i for i in x if i >= 60]\n",
    "x.sort()"
   ]
  },
  {
   "cell_type": "code",
   "execution_count": 81,
   "metadata": {},
   "outputs": [],
   "source": [
    "y =tr['age'].unique()\n",
    "#y.sort()\n",
    "#y = [i for i in y if i >= 60]\n",
    "y.sort()"
   ]
  },
  {
   "cell_type": "code",
   "execution_count": 82,
   "metadata": {},
   "outputs": [],
   "source": [
    "dist = []\n",
    "#dist1 = []\n",
    "for a in list(x):\n",
    "    tt = ts[ts['age'] == a]\n",
    "    dist.append( lr.predict_proba(tt[cls])[:,1].mean())\n",
    "\n",
    "\n",
    "#plt.plot(list(x),dist)"
   ]
  },
  {
   "cell_type": "code",
   "execution_count": 83,
   "metadata": {},
   "outputs": [],
   "source": [
    "#dist = []\n",
    "dist1 = []\n",
    "for a in list(y):\n",
    "    tt = tr[tr['age'] == a]\n",
    "    dist1.append( lr.predict_proba(tt[cls])[:,1].mean())\n",
    "\n",
    "\n",
    "#plt.plot(list(y),dist1)"
   ]
  },
  {
   "cell_type": "markdown",
   "metadata": {},
   "source": [
    "## check how input factor changes the model prediction"
   ]
  },
  {
   "cell_type": "code",
   "execution_count": 84,
   "metadata": {},
   "outputs": [
    {
     "data": {
      "image/png": "[encoded data removed]",
      "text/plain": [
       "<Figure size 432x288 with 1 Axes>"
      ]
     },
     "metadata": {
      "needs_background": "light"
     },
     "output_type": "display_data"
    }
   ],
   "source": [
    "plt.plot(list(y),dist1)\n",
    "plt.plot(list(x),dist)\n",
    "plt.show()"
   ]
  },
  {
   "cell_type": "code",
   "execution_count": 23,
   "metadata": {},
   "outputs": [
    {
     "ename": "NameError",
     "evalue": "name 'tr1' is not defined",
     "output_type": "error",
     "traceback": [
      "\u001b[1;31m---------------------------------------------------------------------------\u001b[0m",
      "\u001b[1;31mNameError\u001b[0m                                 Traceback (most recent call last)",
      "\u001b[1;32m<ipython-input-23-4c4c3f556b3e>\u001b[0m in \u001b[0;36m<module>\u001b[1;34m\u001b[0m\n\u001b[0;32m      1\u001b[0m \u001b[0mlr\u001b[0m \u001b[1;33m=\u001b[0m \u001b[0mLogisticRegression\u001b[0m\u001b[1;33m(\u001b[0m\u001b[0msolver\u001b[0m\u001b[1;33m=\u001b[0m\u001b[1;34m'lbfgs'\u001b[0m\u001b[1;33m,\u001b[0m \u001b[0mC\u001b[0m\u001b[1;33m=\u001b[0m\u001b[1;36m0.9\u001b[0m\u001b[1;33m,\u001b[0m \u001b[0mmax_iter\u001b[0m\u001b[1;33m=\u001b[0m\u001b[1;36m1000\u001b[0m\u001b[1;33m)\u001b[0m\u001b[1;33m\u001b[0m\u001b[1;33m\u001b[0m\u001b[0m\n\u001b[1;32m----> 2\u001b[1;33m \u001b[0mlr\u001b[0m\u001b[1;33m.\u001b[0m\u001b[0mfit\u001b[0m\u001b[1;33m(\u001b[0m\u001b[0mtr1\u001b[0m\u001b[1;33m[\u001b[0m\u001b[0mcls\u001b[0m\u001b[1;33m]\u001b[0m\u001b[1;33m,\u001b[0m\u001b[0mtr1\u001b[0m\u001b[1;33m[\u001b[0m\u001b[1;34m'death_period'\u001b[0m\u001b[1;33m]\u001b[0m\u001b[1;33m)\u001b[0m\u001b[1;33m\u001b[0m\u001b[1;33m\u001b[0m\u001b[0m\n\u001b[0m\u001b[0;32m      3\u001b[0m \u001b[0mprobs\u001b[0m \u001b[1;33m=\u001b[0m \u001b[0mlr\u001b[0m\u001b[1;33m.\u001b[0m\u001b[0mpredict_proba\u001b[0m\u001b[1;33m(\u001b[0m\u001b[0mts\u001b[0m\u001b[1;33m[\u001b[0m\u001b[0mcls\u001b[0m\u001b[1;33m]\u001b[0m\u001b[1;33m)\u001b[0m\u001b[1;33m[\u001b[0m\u001b[1;33m:\u001b[0m\u001b[1;33m,\u001b[0m\u001b[1;36m1\u001b[0m\u001b[1;33m]\u001b[0m\u001b[1;33m\u001b[0m\u001b[1;33m\u001b[0m\u001b[0m\n\u001b[0;32m      4\u001b[0m \u001b[0mfpr\u001b[0m\u001b[1;33m,\u001b[0m\u001b[0mtpr\u001b[0m\u001b[1;33m,\u001b[0m\u001b[0mthresholds\u001b[0m \u001b[1;33m=\u001b[0m \u001b[0mroc_curve\u001b[0m\u001b[1;33m(\u001b[0m\u001b[0mts\u001b[0m\u001b[1;33m[\u001b[0m\u001b[1;34m'death_period'\u001b[0m\u001b[1;33m]\u001b[0m\u001b[1;33m,\u001b[0m\u001b[0mprobs\u001b[0m\u001b[1;33m)\u001b[0m\u001b[1;33m\u001b[0m\u001b[1;33m\u001b[0m\u001b[0m\n\u001b[0;32m      5\u001b[0m \u001b[0mauc\u001b[0m\u001b[1;33m(\u001b[0m\u001b[0mfpr\u001b[0m\u001b[1;33m,\u001b[0m\u001b[0mtpr\u001b[0m\u001b[1;33m)\u001b[0m\u001b[1;33m\u001b[0m\u001b[1;33m\u001b[0m\u001b[0m\n",
      "\u001b[1;31mNameError\u001b[0m: name 'tr1' is not defined"
     ]
    }
   ],
   "source": [
    "lr = LogisticRegression(solver='lbfgs', C=0.9, max_iter=1000)\n",
    "lr.fit(tr1[cls],tr1['death_period'])\n",
    "probs = lr.predict_proba(ts[cls])[:,1]\n",
    "fpr,tpr,thresholds = roc_curve(ts['death_period'],probs)\n",
    "auc(fpr,tpr)"
   ]
  },
  {
   "cell_type": "code",
   "execution_count": 85,
   "metadata": {},
   "outputs": [
    {
     "data": {
      "text/plain": [
       "[<matplotlib.lines.Line2D at 0x21847d08438>]"
      ]
     },
     "execution_count": 85,
     "metadata": {},
     "output_type": "execute_result"
    },
    {
     "data": {
      "image/png": "[encoded data removed]",
      "text/plain": [
       "<Figure size 432x288 with 1 Axes>"
      ]
     },
     "metadata": {
      "needs_background": "light"
     },
     "output_type": "display_data"
    }
   ],
   "source": [
    "dist = []\n",
    "dist1 = []\n",
    "for a in list(x):\n",
    "    tt = ts[ts['age'] == a]\n",
    "    dist.append( lr.predict_proba(tt[cls])[:,1].mean())\n",
    "\n",
    "\n",
    "plt.plot(list(x),dist)"
   ]
  },
  {
   "cell_type": "code",
   "execution_count": 86,
   "metadata": {},
   "outputs": [],
   "source": [
    "dist = []\n",
    "dist1 = []\n",
    "for a in list(x):\n",
    "    tt = pd.DataFrame(ts)\n",
    "    tt['age'] = a\n",
    "    ttt = pd.DataFrame(tr)\n",
    "    ttt['age'] = a\n",
    "    dist.append( lr.predict_proba(tt[cls])[:,1].mean())\n",
    "    dist1.append( lr.predict_proba(ttt[cls])[:,1].mean())"
   ]
  },
  {
   "cell_type": "code",
   "execution_count": 87,
   "metadata": {},
   "outputs": [
    {
     "data": {
      "text/plain": [
       "[<matplotlib.lines.Line2D at 0x21847cf9668>]"
      ]
     },
     "execution_count": 87,
     "metadata": {},
     "output_type": "execute_result"
    },
    {
     "data": {
      "image/png": "[encoded data removed]",
      "text/plain": [
       "<Figure size 432x288 with 1 Axes>"
      ]
     },
     "metadata": {
      "needs_background": "light"
     },
     "output_type": "display_data"
    }
   ],
   "source": [
    "plt.plot(list(x),dist)\n",
    "plt.plot(list(x),dist1)"
   ]
  },
  {
   "cell_type": "code",
   "execution_count": 36,
   "metadata": {},
   "outputs": [
    {
     "data": {
      "text/plain": [
       "LogisticRegression(C=0.9, class_weight=None, dual=False, fit_intercept=True,\n",
       "                   intercept_scaling=1, l1_ratio=None, max_iter=1000,\n",
       "                   multi_class='warn', n_jobs=None, penalty='l2',\n",
       "                   random_state=None, solver='lbfgs', tol=0.0001, verbose=0,\n",
       "                   warm_start=False)"
      ]
     },
     "execution_count": 36,
     "metadata": {},
     "output_type": "execute_result"
    }
   ],
   "source": [
    "ax = tr[['age']].plot(kind='hist', title =\"Age Distribution\", legend=True, grid=True, bins=30, color='orange', alpha=0.6)\n"
   ]
  },
  {
   "cell_type": "code",
   "execution_count": 65,
   "metadata": {},
   "outputs": [
    {
     "data": {
      "image/png": "[encoded data removed]",
      "text/plain": [
       "<Figure size 432x288 with 1 Axes>"
      ]
     },
     "metadata": {
      "needs_background": "light"
     },
     "output_type": "display_data"
    }
   ],
   "source": [
    "ax = sepsis_features[['num_of_infections']].plot(kind='hist', title =\"No of Infections\", legend=True, grid=True, bins=30, color='orange', alpha=0.5)"
   ]
  },
  {
   "cell_type": "code",
   "execution_count": 24,
   "metadata": {},
   "outputs": [
    {
     "data": {
      "text/plain": [
       "array([ 1,  1,  2,  1,  1,  1,  1,  2,  1,  1,  3,  2,  1,  2,  1,  3,  2,\n",
       "        2,  3,  3,  3,  6,  6,  2,  9,  2,  4,  1,  1,  3,  4,  1,  7,  7,\n",
       "        5,  6,  7,  5,  4,  3,  2,  4,  4,  2,  4,  5,  5,  7,  6,  7,  6,\n",
       "        7,  2,  7,  9,  7,  1,  3,  3,  2, 23], dtype=int64)"
      ]
     },
     "execution_count": 24,
     "metadata": {},
     "output_type": "execute_result"
    }
   ],
   "source": [
    "y=ts['age'].value_counts().sort_index().values\n",
    "y"
   ]
  },
  {
   "cell_type": "code",
   "execution_count": 67,
   "metadata": {},
   "outputs": [
    {
     "data": {
      "text/plain": [
       "[<matplotlib.lines.Line2D at 0x1f76392d7b8>]"
      ]
     },
     "execution_count": 67,
     "metadata": {},
     "output_type": "execute_result"
    },
    {
     "data": {
      "image/png": "[encoded data removed]",
      "text/plain": [
       "<Figure size 432x288 with 1 Axes>"
      ]
     },
     "metadata": {
      "needs_background": "light"
     },
     "output_type": "display_data"
    }
   ],
   "source": [
    "plt.plot(ts['age'].value_counts().sort_index().index,ts['age'].value_counts().sort_index().values)"
   ]
  },
  {
   "cell_type": "code",
   "execution_count": null,
   "metadata": {},
   "outputs": [],
   "source": []
  }
 ],
 "metadata": {
  "kernelspec": {
   "display_name": "Python 3",
   "language": "python",
   "name": "python3"
  },
  "language_info": {
   "codemirror_mode": {
    "name": "ipython",
    "version": 3
   },
   "file_extension": ".py",
   "mimetype": "text/x-python",
   "name": "python",
   "nbconvert_exporter": "python",
   "pygments_lexer": "ipython3",
   "version": "3.7.3"
  }
 },
 "nbformat": 4,
 "nbformat_minor": 1
}
