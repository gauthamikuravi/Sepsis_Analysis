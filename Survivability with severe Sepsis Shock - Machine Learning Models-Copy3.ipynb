{
 "cells": [
  {
   "cell_type": "markdown",
   "metadata": {},
   "source": [
    "# Models to predict the mortality of sepsis patients"
   ]
  },
  {
   "cell_type": "code",
   "execution_count": 1,
   "metadata": {},
   "outputs": [],
   "source": [
    "import pandas as pd\n",
    "import numpy as np\n",
    "from sklearn import preprocessing\n",
    "import matplotlib.pyplot as plt\n",
    "import datetime\n",
    "from time import time\n",
    "import import_ipynb\n",
    "import warnings\n",
    "warnings.filterwarnings('ignore')\n",
    "\n",
    "%matplotlib inline\n",
    "import visuals as vs"
   ]
  },
  {
   "cell_type": "markdown",
   "metadata": {},
   "source": [
    "## Extracting the clean data  "
   ]
  },
  {
   "cell_type": "code",
   "execution_count": 93,
   "metadata": {},
   "outputs": [],
   "source": [
    "import os\n",
    "os.getcwd()\n",
    "os.chdir(r'C:\\Users\\skura\\Desktop\\HAP\\Project')\n",
    "labevents = pd.read_csv(r'clean_sepsis_feature_list.csv')\n",
    "\n",
    "sepsis_features = pd.read_csv('clean_sepsis_feature_list.csv')"
   ]
  },
  {
   "cell_type": "code",
   "execution_count": 94,
   "metadata": {},
   "outputs": [
    {
     "data": {
      "text/plain": [
       "Index(['Unnamed: 0', 'subject_id', 'hadm_id', 'Alanine Aminotransferase (ALT)',\n",
       "       'Alkaline Phosphatase', 'Anion Gap', 'Asparate Aminotransferase (AST)',\n",
       "       'Basophils', 'Bicarbonate', 'Bilirubin, Total', 'Calcium, Total',\n",
       "       'Chloride', 'Creatinine', 'Eosinophils', 'Glucose', 'Hematocrit',\n",
       "       'Hemoglobin', 'INR(PT)', 'Lactate', 'Lymphocytes', 'MCH', 'MCHC', 'MCV',\n",
       "       'Magnesium', 'Monocytes', 'Neutrophils', 'PT', 'PTT', 'Phosphate',\n",
       "       'Platelet Count', 'Potassium', 'RDW', 'Red Blood Cells', 'Sodium',\n",
       "       'Specific Gravity', 'Urea Nitrogen', 'White Blood Cells', 'pH',\n",
       "       'admission_type', 'insurance', 'ethnicity', 'death_period', 'gender',\n",
       "       'age', 'BLOOD CULTURE', 'MRSA SCREEN', 'SPUTUM', 'STOOL', 'SWAB',\n",
       "       'URINE', 'num_of_infections'],\n",
       "      dtype='object')"
      ]
     },
     "execution_count": 94,
     "metadata": {},
     "output_type": "execute_result"
    }
   ],
   "source": [
    "sepsis_features.columns"
   ]
  },
  {
   "cell_type": "code",
   "execution_count": 95,
   "metadata": {},
   "outputs": [],
   "source": [
    "sepsis_features.drop(['Unnamed: 0'],axis=1,inplace=True)"
   ]
  },
  {
   "cell_type": "code",
   "execution_count": 97,
   "metadata": {},
   "outputs": [
    {
     "data": {
      "text/plain": [
       "(1178, 50)"
      ]
     },
     "execution_count": 97,
     "metadata": {},
     "output_type": "execute_result"
    }
   ],
   "source": [
    "sepsis_features.shape"
   ]
  },
  {
   "cell_type": "code",
   "execution_count": 98,
   "metadata": {},
   "outputs": [
    {
     "data": {
      "text/plain": [
       "<matplotlib.axes._subplots.AxesSubplot at 0x1e2b481bf28>"
      ]
     },
     "execution_count": 98,
     "metadata": {},
     "output_type": "execute_result"
    },
    {
     "data": {
      "image/png": "[encoded data removed]",
      "text/plain": [
       "<Figure size 432x288 with 1 Axes>"
      ]
     },
     "metadata": {
      "needs_background": "light"
     },
     "output_type": "display_data"
    }
   ],
   "source": [
    "sepsis_features.groupby('death_period').size().plot.bar()"
   ]
  },
  {
   "cell_type": "code",
   "execution_count": 99,
   "metadata": {},
   "outputs": [
    {
     "data": {
      "text/plain": [
       "death_period\n",
       "0    926\n",
       "1    252\n",
       "dtype: int64"
      ]
     },
     "execution_count": 99,
     "metadata": {},
     "output_type": "execute_result"
    }
   ],
   "source": [
    "sepsis_features.groupby('death_period').size()"
   ]
  },
  {
   "cell_type": "code",
   "execution_count": 6,
   "metadata": {},
   "outputs": [
    {
     "data": {
      "text/plain": [
       "count    1178.000000\n",
       "mean        1.224109\n",
       "std         1.553037\n",
       "min         0.000000\n",
       "25%         0.000000\n",
       "50%         1.000000\n",
       "75%         2.000000\n",
       "max        14.000000\n",
       "Name: num_of_infections, dtype: float64"
      ]
     },
     "execution_count": 6,
     "metadata": {},
     "output_type": "execute_result"
    }
   ],
   "source": [
    "sepsis_features.num_of_infections.describe()"
   ]
  },
  {
   "cell_type": "code",
   "execution_count": 7,
   "metadata": {},
   "outputs": [],
   "source": [
    "sepsis_features.select_dtypes(exclude=['floating','integer']).head()\n",
    "sepsis_features = pd.get_dummies(sepsis_features)"
   ]
  },
  {
   "cell_type": "markdown",
   "metadata": {},
   "source": [
    "### Analyzing the co-relation and importance of all features together"
   ]
  },
  {
   "cell_type": "markdown",
   "metadata": {},
   "source": [
    "### Shuffle and Split Data\n",
    "\n",
    "Now all categorical variables have been converted into numerical features, and all numerical features have been normalized. As always, we will now split the data (both features and their labels) into training and test sets. 90% of the data will be used for training and 10% for testing. We are doing 90% and 10% because our dataset is small."
   ]
  },
  {
   "cell_type": "code",
   "execution_count": 8,
   "metadata": {},
   "outputs": [],
   "source": [
    "# Import train_test_split\n",
    "from sklearn.model_selection import train_test_split\n",
    "\n",
    "\n",
    "tr, ts = train_test_split(sepsis_features, test_size=0.2)"
   ]
  },
  {
   "cell_type": "code",
   "execution_count": 9,
   "metadata": {},
   "outputs": [],
   "source": [
    "cls = list(sepsis_features.columns)\n",
    "cls.remove('subject_id')\n",
    "cls.remove('hadm_id')\n",
    "cls.remove('death_period')"
   ]
  },
  {
   "cell_type": "code",
   "execution_count": 10,
   "metadata": {},
   "outputs": [],
   "source": [
    "from sklearn.linear_model import LogisticRegression\n",
    "from sklearn.ensemble import RandomForestClassifier\n",
    "from sklearn import metrics\n",
    "from sklearn.metrics import auc\n",
    "from sklearn.metrics import roc_curve\n",
    "from sklearn.metrics import accuracy_score\n"
   ]
  },
  {
   "cell_type": "code",
   "execution_count": 181,
   "metadata": {},
   "outputs": [],
   "source": [
    "lr = LogisticRegression(solver='lbfgs', C=0.9, max_iter=1000)\n",
    "lr.fit(tr[cls],tr['death_period'])\n",
    "probs = lr.predict_proba(ts[cls])[:,1]\n",
    "#fpr,tpr,thresholds = roc_curve(ts['death_period'],probs)\n",
    "#auc =auc(fpr,tpr)"
   ]
  },
  {
   "cell_type": "code",
   "execution_count": 182,
   "metadata": {},
   "outputs": [],
   "source": [
    "probs_lr_tr = lr.predict_proba(tr[cls])[:,1]\n",
    "probs_lr_ts = lr.predict_proba(ts[cls])[:,1]\n"
   ]
  },
  {
   "cell_type": "code",
   "execution_count": 185,
   "metadata": {},
   "outputs": [
    {
     "data": {
      "text/plain": [
       "(array([104.,  50.,  24.,  12.,  20.,   8.,   5.,   5.,   6.,   2.]),\n",
       " array([0. , 0.1, 0.2, 0.3, 0.4, 0.5, 0.6, 0.7, 0.8, 0.9, 1. ]),\n",
       " <a list of 1 Patch objects>)"
      ]
     },
     "execution_count": 185,
     "metadata": {},
     "output_type": "execute_result"
    },
    {
     "data": {
      "image/png": "[encoded data removed]",
      "text/plain": [
       "<Figure size 432x288 with 1 Axes>"
      ]
     },
     "metadata": {
      "needs_background": "light"
     },
     "output_type": "display_data"
    }
   ],
   "source": [
    "from sklearn.calibration import CalibratedClassifierCV, calibration_curve\n",
    "cur = calibration_curve(ts['death_period'],probs_lr_ts, n_bins=10)\n",
    "from matplotlib import pyplot as plt\n",
    "\n",
    "plt.plot(cur[1],cur[0])\n",
    "plt.hist(probs_lr_ts, range=(0, 1), bins=10, histtype=\"step\", lw=2)"
   ]
  },
  {
   "cell_type": "code",
   "execution_count": 193,
   "metadata": {},
   "outputs": [],
   "source": [
    "lr_iso =  CalibratedClassifierCV(lr, cv=5, method='isotonic')\n",
    "lr_sig = CalibratedClassifierCV(lr, cv=5, method='sigmoid')"
   ]
  },
  {
   "cell_type": "code",
   "execution_count": 195,
   "metadata": {},
   "outputs": [
    {
     "data": {
      "text/plain": [
       "CalibratedClassifierCV(base_estimator=LogisticRegression(C=0.9, max_iter=1000),\n",
       "                       cv=5)"
      ]
     },
     "execution_count": 195,
     "metadata": {},
     "output_type": "execute_result"
    }
   ],
   "source": [
    "lr_iso.fit(tr[cls], tr['death_period'])\n",
    "\n",
    "\n",
    "# In[57]:\n",
    "\n",
    "\n",
    "lr_sig.fit(tr[cls], tr['death_period'])\n",
    "\n"
   ]
  },
  {
   "cell_type": "code",
   "execution_count": 196,
   "metadata": {},
   "outputs": [],
   "source": [
    "probs_lr_tr_iso = lr_iso.predict_proba(tr[cls])[:,1]\n",
    "probs_lr_ts_iso = lr_iso.predict_proba(ts[cls])[:,1]\n",
    "probs_lr_tr_sig = lr_sig.predict_proba(tr[cls])[:,1]\n",
    "probs_lr_ts_sig = lr_sig.predict_proba(ts[cls])[:,1]"
   ]
  },
  {
   "cell_type": "code",
   "execution_count": 197,
   "metadata": {},
   "outputs": [],
   "source": [
    "cur_rf_tr_iso = calibration_curve(tr['death_period'],probs_lr_tr_iso, n_bins=10)\n",
    "cur_rf_ts_iso = calibration_curve(ts['death_period'],probs_lr_ts_iso, n_bins=10)\n",
    "\n",
    "cur_rf_tr_sig = calibration_curve(tr['death_period'],probs_lr_tr_sig, n_bins=10)\n",
    "cur_rf_ts_sig = calibration_curve(ts['death_period'],probs_lr_ts_sig, n_bins=10)"
   ]
  },
  {
   "cell_type": "code",
   "execution_count": 198,
   "metadata": {},
   "outputs": [
    {
     "data": {
      "text/plain": [
       "[<matplotlib.lines.Line2D at 0x1e2b4cfa3c8>]"
      ]
     },
     "execution_count": 198,
     "metadata": {},
     "output_type": "execute_result"
    },
    {
     "data": {
      "image/png": "[encoded data removed]",
      "text/plain": [
       "<Figure size 432x288 with 1 Axes>"
      ]
     },
     "metadata": {
      "needs_background": "light"
     },
     "output_type": "display_data"
    }
   ],
   "source": [
    "plt.plot(cur_rf_ts_iso[1],cur_rf_ts_iso[0])\n",
    "plt.plot(cur_rf_ts_sig[1],cur_rf_ts_sig[0])\n",
    "plt.plot(cur[1],cur[0])"
   ]
  },
  {
   "cell_type": "code",
   "execution_count": 38,
   "metadata": {},
   "outputs": [
    {
     "name": "stdout",
     "output_type": "stream",
     "text": [
      "Accuracy score : 0.7923728813559322\n",
      "Classification Report : \n",
      "               precision    recall  f1-score   support\n",
      "\n",
      "           0       0.79      0.98      0.88       181\n",
      "           1       0.75      0.16      0.27        55\n",
      "\n",
      "    accuracy                           0.79       236\n",
      "   macro avg       0.77      0.57      0.57       236\n",
      "weighted avg       0.78      0.79      0.74       236\n",
      "\n",
      "Confusion Matrix : \n",
      " [[178   3]\n",
      " [ 46   9]]\n"
     ]
    }
   ],
   "source": [
    "\n",
    "from sklearn.metrics import accuracy_score, f1_score, precision_score, recall_score, classification_report, confusion_matrix\n",
    "lr = LogisticRegression(solver='lbfgs', C=0.01, max_iter=1000)\n",
    "lr.fit(tr[cls],tr['death_period'])\n",
    "y_pred = rf.predict(ts[cls])\n",
    "print(\"Accuracy score : {}\".format(accuracy_score(ts['death_period'], y_pred)))\n",
    "print(\"Classification Report : \\n {}\".format(classification_report(ts['death_period'], y_pred)))\n",
    "print(\"Confusion Matrix : \\n {}\".format(confusion_matrix(ts['death_period'], y_pred)))"
   ]
  },
  {
   "cell_type": "code",
   "execution_count": 39,
   "metadata": {},
   "outputs": [
    {
     "data": {
      "text/plain": [
       "<matplotlib.legend.Legend at 0x1e2b332b198>"
      ]
     },
     "execution_count": 39,
     "metadata": {},
     "output_type": "execute_result"
    },
    {
     "data": {
      "image/png": "[encoded data removed]",
      "text/plain": [
       "<Figure size 432x288 with 1 Axes>"
      ]
     },
     "metadata": {
      "needs_background": "light"
     },
     "output_type": "display_data"
    }
   ],
   "source": [
    "plt.title('Logistic Regression')\n",
    "plt.plot(fpr, tpr,label = \"AUC= \"+str(round((auc),3)))\n",
    "plt.legend(loc='center right', bbox_to_anchor=(1,0.5,0.5,0.5))"
   ]
  },
  {
   "cell_type": "code",
   "execution_count": 12,
   "metadata": {},
   "outputs": [
    {
     "data": {
      "text/plain": [
       "0.7986438975389252"
      ]
     },
     "execution_count": 12,
     "metadata": {},
     "output_type": "execute_result"
    }
   ],
   "source": [
    "rf = RandomForestClassifier(n_estimators=100, n_jobs=-1)\n",
    "rf.fit(tr[cls],tr['death_period'])\n",
    "probs = rf.predict_proba(ts[cls])[:,1]\n",
    "fpr,tpr,thresholds = roc_curve(ts['death_period'],probs)\n",
    "auc(fpr,tpr)"
   ]
  },
  {
   "cell_type": "code",
   "execution_count": 32,
   "metadata": {},
   "outputs": [
    {
     "name": "stdout",
     "output_type": "stream",
     "text": [
      "Accuracy score : 0.7923728813559322\n",
      "Classification Report : \n",
      "               precision    recall  f1-score   support\n",
      "\n",
      "           0       0.79      0.98      0.88       181\n",
      "           1       0.75      0.16      0.27        55\n",
      "\n",
      "    accuracy                           0.79       236\n",
      "   macro avg       0.77      0.57      0.57       236\n",
      "weighted avg       0.78      0.79      0.74       236\n",
      "\n",
      "Confusion Matrix : \n",
      " [[178   3]\n",
      " [ 46   9]]\n"
     ]
    }
   ],
   "source": [
    "from sklearn.metrics import accuracy_score, f1_score, precision_score, recall_score, classification_report, confusion_matrix\n",
    "rf=RandomForestClassifier(n_estimators =180)\n",
    "rf.fit(tr[cls],tr['death_period'])\n",
    "y_pred = rf.predict(ts[cls])\n",
    "print(\"Accuracy score : {}\".format(accuracy_score(ts['death_period'], y_pred)))\n",
    "print(\"Classification Report : \\n {}\".format(classification_report(ts['death_period'], y_pred)))\n",
    "print(\"Confusion Matrix : \\n {}\".format(confusion_matrix(ts['death_period'], y_pred)))"
   ]
  },
  {
   "cell_type": "code",
   "execution_count": 13,
   "metadata": {},
   "outputs": [
    {
     "data": {
      "image/png": "[encoded data removed]",
      "text/plain": [
       "<Figure size 432x288 with 1 Axes>"
      ]
     },
     "metadata": {
      "needs_background": "light"
     },
     "output_type": "display_data"
    }
   ],
   "source": [
    "\n",
    "plt.figure()\n",
    "plt.plot(fpr,tpr)\n",
    "plt.plot([0,1],[0,1],'r--')\n",
    "plt.xlabel('False Positive Rate')\n",
    "plt.ylabel('True Positive Rate')\n",
    "plt.title('Receiver Operating Curve - Random Forest')\n",
    "plt.show()"
   ]
  },
  {
   "cell_type": "code",
   "execution_count": 14,
   "metadata": {},
   "outputs": [
    {
     "data": {
      "text/plain": [
       "array([2.49620609e-02, 1.97792498e-02, 4.91776338e-02, 2.50414037e-02,\n",
       "       1.15820744e-02, 4.48394355e-02, 3.31590367e-02, 3.43996249e-02,\n",
       "       2.10262141e-02, 2.28597481e-02, 1.17090596e-02, 2.27492658e-02,\n",
       "       2.32660451e-02, 2.13640880e-02, 2.42122634e-02, 5.47700629e-02,\n",
       "       1.72262341e-02, 2.00071919e-02, 2.66460606e-02, 2.58633725e-02,\n",
       "       2.64953891e-02, 1.94168639e-02, 2.13963399e-02, 3.16115592e-02,\n",
       "       3.26751172e-02, 5.48134337e-02, 2.12118761e-02, 3.13773654e-02,\n",
       "       3.38814080e-02, 2.01387243e-02, 3.00398857e-02, 1.37181713e-02,\n",
       "       2.70034199e-02, 2.43829718e-02, 8.16592775e-03, 2.49935963e-02,\n",
       "       1.94449547e-03, 3.12724915e-04, 4.88381727e-03, 8.55906424e-04,\n",
       "       1.67970851e-03, 4.47552023e-03, 7.41705656e-03, 0.00000000e+00,\n",
       "       0.00000000e+00, 3.87082323e-04, 1.08948060e-03, 3.42811133e-03,\n",
       "       3.10022207e-03, 4.03959145e-04, 7.01090514e-04, 2.59903822e-04,\n",
       "       4.15660059e-05, 1.14344949e-03, 0.00000000e+00, 0.00000000e+00,\n",
       "       1.61845981e-04, 1.20676814e-03, 0.00000000e+00, 0.00000000e+00,\n",
       "       5.52315661e-04, 0.00000000e+00, 0.00000000e+00, 2.39126770e-04,\n",
       "       0.00000000e+00, 9.63432028e-04, 2.27389432e-04, 0.00000000e+00,\n",
       "       4.15438652e-04, 1.50053029e-03, 2.24624535e-03, 0.00000000e+00,\n",
       "       0.00000000e+00, 0.00000000e+00, 0.00000000e+00, 2.33260575e-03,\n",
       "       2.06803164e-03])"
      ]
     },
     "execution_count": 14,
     "metadata": {},
     "output_type": "execute_result"
    }
   ],
   "source": [
    "rf.feature_importances_"
   ]
  },
  {
   "cell_type": "code",
   "execution_count": 15,
   "metadata": {},
   "outputs": [],
   "source": [
    "fea= sepsis_features.columns.tolist()\n",
    "fea.remove('death_period')\n",
    "#fea"
   ]
  },
  {
   "cell_type": "code",
   "execution_count": 16,
   "metadata": {},
   "outputs": [],
   "source": [
    "res = pd.DataFrame()\n",
    "res['columns'] = sepsis_features[cls].columns.tolist()\n",
    "res['vals'] = rf.feature_importances_"
   ]
  },
  {
   "cell_type": "code",
   "execution_count": 25,
   "metadata": {},
   "outputs": [
    {
     "data": {
      "text/html": [
       "<div>\n",
       "<style scoped>\n",
       "    .dataframe tbody tr th:only-of-type {\n",
       "        vertical-align: middle;\n",
       "    }\n",
       "\n",
       "    .dataframe tbody tr th {\n",
       "        vertical-align: top;\n",
       "    }\n",
       "\n",
       "    .dataframe thead th {\n",
       "        text-align: right;\n",
       "    }\n",
       "</style>\n",
       "<table border=\"1\" class=\"dataframe\">\n",
       "  <thead>\n",
       "    <tr style=\"text-align: right;\">\n",
       "      <th></th>\n",
       "      <th>columns</th>\n",
       "      <th>vals</th>\n",
       "    </tr>\n",
       "  </thead>\n",
       "  <tbody>\n",
       "    <tr>\n",
       "      <th>25</th>\n",
       "      <td>Phosphate</td>\n",
       "      <td>0.054813</td>\n",
       "    </tr>\n",
       "    <tr>\n",
       "      <th>15</th>\n",
       "      <td>Lactate</td>\n",
       "      <td>0.054770</td>\n",
       "    </tr>\n",
       "    <tr>\n",
       "      <th>2</th>\n",
       "      <td>Anion Gap</td>\n",
       "      <td>0.049178</td>\n",
       "    </tr>\n",
       "    <tr>\n",
       "      <th>5</th>\n",
       "      <td>Bicarbonate</td>\n",
       "      <td>0.044839</td>\n",
       "    </tr>\n",
       "    <tr>\n",
       "      <th>7</th>\n",
       "      <td>Calcium, Total</td>\n",
       "      <td>0.034400</td>\n",
       "    </tr>\n",
       "    <tr>\n",
       "      <th>28</th>\n",
       "      <td>RDW</td>\n",
       "      <td>0.033881</td>\n",
       "    </tr>\n",
       "    <tr>\n",
       "      <th>6</th>\n",
       "      <td>Bilirubin, Total</td>\n",
       "      <td>0.033159</td>\n",
       "    </tr>\n",
       "    <tr>\n",
       "      <th>24</th>\n",
       "      <td>PTT</td>\n",
       "      <td>0.032675</td>\n",
       "    </tr>\n",
       "    <tr>\n",
       "      <th>23</th>\n",
       "      <td>PT</td>\n",
       "      <td>0.031612</td>\n",
       "    </tr>\n",
       "    <tr>\n",
       "      <th>27</th>\n",
       "      <td>Potassium</td>\n",
       "      <td>0.031377</td>\n",
       "    </tr>\n",
       "    <tr>\n",
       "      <th>30</th>\n",
       "      <td>Sodium</td>\n",
       "      <td>0.030040</td>\n",
       "    </tr>\n",
       "    <tr>\n",
       "      <th>32</th>\n",
       "      <td>Urea Nitrogen</td>\n",
       "      <td>0.027003</td>\n",
       "    </tr>\n",
       "    <tr>\n",
       "      <th>18</th>\n",
       "      <td>MCHC</td>\n",
       "      <td>0.026646</td>\n",
       "    </tr>\n",
       "    <tr>\n",
       "      <th>20</th>\n",
       "      <td>Magnesium</td>\n",
       "      <td>0.026495</td>\n",
       "    </tr>\n",
       "    <tr>\n",
       "      <th>19</th>\n",
       "      <td>MCV</td>\n",
       "      <td>0.025863</td>\n",
       "    </tr>\n",
       "    <tr>\n",
       "      <th>3</th>\n",
       "      <td>Asparate Aminotransferase (AST)</td>\n",
       "      <td>0.025041</td>\n",
       "    </tr>\n",
       "    <tr>\n",
       "      <th>35</th>\n",
       "      <td>age</td>\n",
       "      <td>0.024994</td>\n",
       "    </tr>\n",
       "    <tr>\n",
       "      <th>0</th>\n",
       "      <td>Alanine Aminotransferase (ALT)</td>\n",
       "      <td>0.024962</td>\n",
       "    </tr>\n",
       "    <tr>\n",
       "      <th>33</th>\n",
       "      <td>White Blood Cells</td>\n",
       "      <td>0.024383</td>\n",
       "    </tr>\n",
       "    <tr>\n",
       "      <th>14</th>\n",
       "      <td>INR(PT)</td>\n",
       "      <td>0.024212</td>\n",
       "    </tr>\n",
       "    <tr>\n",
       "      <th>12</th>\n",
       "      <td>Hematocrit</td>\n",
       "      <td>0.023266</td>\n",
       "    </tr>\n",
       "    <tr>\n",
       "      <th>9</th>\n",
       "      <td>Creatinine</td>\n",
       "      <td>0.022860</td>\n",
       "    </tr>\n",
       "    <tr>\n",
       "      <th>11</th>\n",
       "      <td>Glucose</td>\n",
       "      <td>0.022749</td>\n",
       "    </tr>\n",
       "    <tr>\n",
       "      <th>22</th>\n",
       "      <td>Neutrophils</td>\n",
       "      <td>0.021396</td>\n",
       "    </tr>\n",
       "    <tr>\n",
       "      <th>13</th>\n",
       "      <td>Hemoglobin</td>\n",
       "      <td>0.021364</td>\n",
       "    </tr>\n",
       "    <tr>\n",
       "      <th>26</th>\n",
       "      <td>Platelet Count</td>\n",
       "      <td>0.021212</td>\n",
       "    </tr>\n",
       "    <tr>\n",
       "      <th>8</th>\n",
       "      <td>Chloride</td>\n",
       "      <td>0.021026</td>\n",
       "    </tr>\n",
       "    <tr>\n",
       "      <th>29</th>\n",
       "      <td>Red Blood Cells</td>\n",
       "      <td>0.020139</td>\n",
       "    </tr>\n",
       "    <tr>\n",
       "      <th>17</th>\n",
       "      <td>MCH</td>\n",
       "      <td>0.020007</td>\n",
       "    </tr>\n",
       "    <tr>\n",
       "      <th>1</th>\n",
       "      <td>Alkaline Phosphatase</td>\n",
       "      <td>0.019779</td>\n",
       "    </tr>\n",
       "    <tr>\n",
       "      <th>...</th>\n",
       "      <td>...</td>\n",
       "      <td>...</td>\n",
       "    </tr>\n",
       "    <tr>\n",
       "      <th>57</th>\n",
       "      <td>ethnicity_BLACK/AFRICAN AMERICAN</td>\n",
       "      <td>0.001207</td>\n",
       "    </tr>\n",
       "    <tr>\n",
       "      <th>53</th>\n",
       "      <td>ethnicity_ASIAN - CHINESE</td>\n",
       "      <td>0.001143</td>\n",
       "    </tr>\n",
       "    <tr>\n",
       "      <th>46</th>\n",
       "      <td>insurance_Medicaid</td>\n",
       "      <td>0.001089</td>\n",
       "    </tr>\n",
       "    <tr>\n",
       "      <th>65</th>\n",
       "      <td>ethnicity_OTHER</td>\n",
       "      <td>0.000963</td>\n",
       "    </tr>\n",
       "    <tr>\n",
       "      <th>39</th>\n",
       "      <td>STOOL</td>\n",
       "      <td>0.000856</td>\n",
       "    </tr>\n",
       "    <tr>\n",
       "      <th>50</th>\n",
       "      <td>ethnicity_ASIAN</td>\n",
       "      <td>0.000701</td>\n",
       "    </tr>\n",
       "    <tr>\n",
       "      <th>60</th>\n",
       "      <td>ethnicity_HISPANIC OR LATINO</td>\n",
       "      <td>0.000552</td>\n",
       "    </tr>\n",
       "    <tr>\n",
       "      <th>68</th>\n",
       "      <td>ethnicity_UNABLE TO OBTAIN</td>\n",
       "      <td>0.000415</td>\n",
       "    </tr>\n",
       "    <tr>\n",
       "      <th>49</th>\n",
       "      <td>insurance_Self Pay</td>\n",
       "      <td>0.000404</td>\n",
       "    </tr>\n",
       "    <tr>\n",
       "      <th>45</th>\n",
       "      <td>insurance_Government</td>\n",
       "      <td>0.000387</td>\n",
       "    </tr>\n",
       "    <tr>\n",
       "      <th>37</th>\n",
       "      <td>MRSA SCREEN</td>\n",
       "      <td>0.000313</td>\n",
       "    </tr>\n",
       "    <tr>\n",
       "      <th>51</th>\n",
       "      <td>ethnicity_ASIAN - ASIAN INDIAN</td>\n",
       "      <td>0.000260</td>\n",
       "    </tr>\n",
       "    <tr>\n",
       "      <th>63</th>\n",
       "      <td>ethnicity_HISPANIC/LATINO - PUERTO RICAN</td>\n",
       "      <td>0.000239</td>\n",
       "    </tr>\n",
       "    <tr>\n",
       "      <th>66</th>\n",
       "      <td>ethnicity_PATIENT DECLINED TO ANSWER</td>\n",
       "      <td>0.000227</td>\n",
       "    </tr>\n",
       "    <tr>\n",
       "      <th>56</th>\n",
       "      <td>ethnicity_BLACK/AFRICAN</td>\n",
       "      <td>0.000162</td>\n",
       "    </tr>\n",
       "    <tr>\n",
       "      <th>52</th>\n",
       "      <td>ethnicity_ASIAN - CAMBODIAN</td>\n",
       "      <td>0.000042</td>\n",
       "    </tr>\n",
       "    <tr>\n",
       "      <th>67</th>\n",
       "      <td>ethnicity_PORTUGUESE</td>\n",
       "      <td>0.000000</td>\n",
       "    </tr>\n",
       "    <tr>\n",
       "      <th>61</th>\n",
       "      <td>ethnicity_HISPANIC/LATINO - CUBAN</td>\n",
       "      <td>0.000000</td>\n",
       "    </tr>\n",
       "    <tr>\n",
       "      <th>55</th>\n",
       "      <td>ethnicity_ASIAN - VIETNAMESE</td>\n",
       "      <td>0.000000</td>\n",
       "    </tr>\n",
       "    <tr>\n",
       "      <th>64</th>\n",
       "      <td>ethnicity_MULTI RACE ETHNICITY</td>\n",
       "      <td>0.000000</td>\n",
       "    </tr>\n",
       "    <tr>\n",
       "      <th>54</th>\n",
       "      <td>ethnicity_ASIAN - KOREAN</td>\n",
       "      <td>0.000000</td>\n",
       "    </tr>\n",
       "    <tr>\n",
       "      <th>59</th>\n",
       "      <td>ethnicity_BLACK/HAITIAN</td>\n",
       "      <td>0.000000</td>\n",
       "    </tr>\n",
       "    <tr>\n",
       "      <th>72</th>\n",
       "      <td>ethnicity_WHITE - EASTERN EUROPEAN</td>\n",
       "      <td>0.000000</td>\n",
       "    </tr>\n",
       "    <tr>\n",
       "      <th>71</th>\n",
       "      <td>ethnicity_WHITE - BRAZILIAN</td>\n",
       "      <td>0.000000</td>\n",
       "    </tr>\n",
       "    <tr>\n",
       "      <th>73</th>\n",
       "      <td>ethnicity_WHITE - OTHER EUROPEAN</td>\n",
       "      <td>0.000000</td>\n",
       "    </tr>\n",
       "    <tr>\n",
       "      <th>74</th>\n",
       "      <td>ethnicity_WHITE - RUSSIAN</td>\n",
       "      <td>0.000000</td>\n",
       "    </tr>\n",
       "    <tr>\n",
       "      <th>43</th>\n",
       "      <td>admission_type_EMERGENCY</td>\n",
       "      <td>0.000000</td>\n",
       "    </tr>\n",
       "    <tr>\n",
       "      <th>44</th>\n",
       "      <td>admission_type_URGENT</td>\n",
       "      <td>0.000000</td>\n",
       "    </tr>\n",
       "    <tr>\n",
       "      <th>58</th>\n",
       "      <td>ethnicity_BLACK/CAPE VERDEAN</td>\n",
       "      <td>0.000000</td>\n",
       "    </tr>\n",
       "    <tr>\n",
       "      <th>62</th>\n",
       "      <td>ethnicity_HISPANIC/LATINO - MEXICAN</td>\n",
       "      <td>0.000000</td>\n",
       "    </tr>\n",
       "  </tbody>\n",
       "</table>\n",
       "<p>77 rows × 2 columns</p>\n",
       "</div>"
      ],
      "text/plain": [
       "                                     columns      vals\n",
       "25                                 Phosphate  0.054813\n",
       "15                                   Lactate  0.054770\n",
       "2                                  Anion Gap  0.049178\n",
       "5                                Bicarbonate  0.044839\n",
       "7                             Calcium, Total  0.034400\n",
       "28                                       RDW  0.033881\n",
       "6                           Bilirubin, Total  0.033159\n",
       "24                                       PTT  0.032675\n",
       "23                                        PT  0.031612\n",
       "27                                 Potassium  0.031377\n",
       "30                                    Sodium  0.030040\n",
       "32                             Urea Nitrogen  0.027003\n",
       "18                                      MCHC  0.026646\n",
       "20                                 Magnesium  0.026495\n",
       "19                                       MCV  0.025863\n",
       "3            Asparate Aminotransferase (AST)  0.025041\n",
       "35                                       age  0.024994\n",
       "0             Alanine Aminotransferase (ALT)  0.024962\n",
       "33                         White Blood Cells  0.024383\n",
       "14                                   INR(PT)  0.024212\n",
       "12                                Hematocrit  0.023266\n",
       "9                                 Creatinine  0.022860\n",
       "11                                   Glucose  0.022749\n",
       "22                               Neutrophils  0.021396\n",
       "13                                Hemoglobin  0.021364\n",
       "26                            Platelet Count  0.021212\n",
       "8                                   Chloride  0.021026\n",
       "29                           Red Blood Cells  0.020139\n",
       "17                                       MCH  0.020007\n",
       "1                       Alkaline Phosphatase  0.019779\n",
       "..                                       ...       ...\n",
       "57          ethnicity_BLACK/AFRICAN AMERICAN  0.001207\n",
       "53                 ethnicity_ASIAN - CHINESE  0.001143\n",
       "46                        insurance_Medicaid  0.001089\n",
       "65                           ethnicity_OTHER  0.000963\n",
       "39                                     STOOL  0.000856\n",
       "50                           ethnicity_ASIAN  0.000701\n",
       "60              ethnicity_HISPANIC OR LATINO  0.000552\n",
       "68                ethnicity_UNABLE TO OBTAIN  0.000415\n",
       "49                        insurance_Self Pay  0.000404\n",
       "45                      insurance_Government  0.000387\n",
       "37                               MRSA SCREEN  0.000313\n",
       "51            ethnicity_ASIAN - ASIAN INDIAN  0.000260\n",
       "63  ethnicity_HISPANIC/LATINO - PUERTO RICAN  0.000239\n",
       "66      ethnicity_PATIENT DECLINED TO ANSWER  0.000227\n",
       "56                   ethnicity_BLACK/AFRICAN  0.000162\n",
       "52               ethnicity_ASIAN - CAMBODIAN  0.000042\n",
       "67                      ethnicity_PORTUGUESE  0.000000\n",
       "61         ethnicity_HISPANIC/LATINO - CUBAN  0.000000\n",
       "55              ethnicity_ASIAN - VIETNAMESE  0.000000\n",
       "64            ethnicity_MULTI RACE ETHNICITY  0.000000\n",
       "54                  ethnicity_ASIAN - KOREAN  0.000000\n",
       "59                   ethnicity_BLACK/HAITIAN  0.000000\n",
       "72        ethnicity_WHITE - EASTERN EUROPEAN  0.000000\n",
       "71               ethnicity_WHITE - BRAZILIAN  0.000000\n",
       "73          ethnicity_WHITE - OTHER EUROPEAN  0.000000\n",
       "74                 ethnicity_WHITE - RUSSIAN  0.000000\n",
       "43                  admission_type_EMERGENCY  0.000000\n",
       "44                     admission_type_URGENT  0.000000\n",
       "58              ethnicity_BLACK/CAPE VERDEAN  0.000000\n",
       "62       ethnicity_HISPANIC/LATINO - MEXICAN  0.000000\n",
       "\n",
       "[77 rows x 2 columns]"
      ]
     },
     "execution_count": 25,
     "metadata": {},
     "output_type": "execute_result"
    }
   ],
   "source": [
    "res = res.sort_values('vals',ascending = False)\n",
    "res"
   ]
  },
  {
   "cell_type": "code",
   "execution_count": 18,
   "metadata": {},
   "outputs": [],
   "source": [
    "import warnings\n",
    "from sklearn.metrics import roc_curve\n",
    "from sklearn.metrics import roc_auc_score"
   ]
  },
  {
   "cell_type": "code",
   "execution_count": 19,
   "metadata": {},
   "outputs": [
    {
     "data": {
      "image/png": "[encoded data removed]",
      "text/plain": [
       "<Figure size 432x288 with 1 Axes>"
      ]
     },
     "metadata": {
      "needs_background": "light"
     },
     "output_type": "display_data"
    }
   ],
   "source": [
    "\n",
    "#Finding the ROC on increasing the variables according to their importance. Considering number of trees as 100\n",
    "import sklearn.metrics as metrics\n",
    "rf = dict()\n",
    "probs_rf = dict()\n",
    "fpr_rf = dict()\n",
    "tpr_rf = dict()\n",
    "thresholds_rf = dict()\n",
    "auc_rf = dict()\n",
    "Auc =[]\n",
    "Number_of_Estimators =[]\n",
    "for n in range(100, 1000, 100):\n",
    "    rf[n]=RandomForestClassifier(n_estimators =n)\n",
    "    rf[n].fit(tr[cls],tr['death_period'])\n",
    "    probs_rf[n]=rf[n].predict_proba(ts[cls])[:,1]\n",
    "    fpr_rf[n],tpr_rf[n],thresholds_rf[n] = metrics.roc_curve(ts['death_period'],probs_rf[n])\n",
    "    auc_rf[n]=auc(fpr_rf[n],tpr_rf[n])\n",
    "    Auc.append(auc_rf[n])\n",
    "    Number_of_Estimators.append(n)\n",
    "    plt.title('Random Forest')\n",
    "    plt.plot(fpr_rf[n], tpr_rf[n],label = \"{} Number of Estimators\".format(n))\n",
    "    plt.legend(loc='center left', bbox_to_anchor=(1, 0.5))"
   ]
  },
  {
   "cell_type": "code",
   "execution_count": 20,
   "metadata": {},
   "outputs": [
    {
     "data": {
      "text/plain": [
       "<matplotlib.axes._subplots.AxesSubplot at 0x1e2b0108630>"
      ]
     },
     "execution_count": 20,
     "metadata": {},
     "output_type": "execute_result"
    },
    {
     "data": {
      "image/png": "[encoded data removed]",
      "text/plain": [
       "<Figure size 432x288 with 1 Axes>"
      ]
     },
     "metadata": {
      "needs_background": "light"
     },
     "output_type": "display_data"
    }
   ],
   "source": [
    "aucperf= pd.DataFrame({'No_of_Estimators':Number_of_Estimators,'Auc':Auc})\n",
    "aucperf.plot.scatter(x='No_of_Estimators',y='Auc',c='DarkBlue',title = 'Random Forest')"
   ]
  },
  {
   "cell_type": "code",
   "execution_count": 22,
   "metadata": {},
   "outputs": [],
   "source": [
    "tr_results = []\n",
    "ts_results = []\n",
    "for i in range(10,200,10):\n",
    "    rf = RandomForestClassifier(n_estimators = i,n_jobs = -1)\n",
    "    rf.fit(tr[cls],tr['death_period'])\n",
    "    train_pred = rf.predict(tr[cls])\n",
    "    fpr,tpr,thresholds = roc_curve(tr['death_period'],train_pred)\n",
    "    roc_auc = auc(fpr,tpr)\n",
    "    tr_results.append(roc_auc)\n",
    "#ROC for test set on changing number of trees    \n",
    "    Y_proba = rf.predict_proba(ts[cls])[:,1]\n",
    "    fpr,tpr,thresholds = roc_curve(ts['death_period'],Y_proba)\n",
    "    roc_auc = auc(fpr,tpr)\n",
    "    ts_results.append(roc_auc)"
   ]
  },
  {
   "cell_type": "code",
   "execution_count": 23,
   "metadata": {},
   "outputs": [
    {
     "data": {
      "image/png": "[encoded data removed]",
      "text/plain": [
       "<Figure size 432x288 with 1 Axes>"
      ]
     },
     "metadata": {
      "needs_background": "light"
     },
     "output_type": "display_data"
    }
   ],
   "source": [
    "\n",
    "line1 = plt.plot(list(range(10,200,10)),tr_results,'b',label = \"Train AUC\")\n",
    "line2 = plt.plot(list(range(10,200,10)),ts_results,'r',label = \"Test AUC\")\n",
    "plt.xlabel('n-estimators')\n",
    "plt.ylabel('AUC')\n",
    "plt.title('AUC for Random Forest on Train and Test set')\n",
    "plt.show()"
   ]
  },
  {
   "cell_type": "code",
   "execution_count": 44,
   "metadata": {},
   "outputs": [
    {
     "name": "stdout",
     "output_type": "stream",
     "text": [
      "Tuned hyperparameter: {'C': 30, 'penalty': 'l1'}\n",
      "Best score: 0.8227231791061579\n"
     ]
    }
   ],
   "source": [
    "#GridSearch cross validation for logistic regresssion\n",
    "from sklearn.model_selection import GridSearchCV\n",
    "log_reg = LogisticRegression(solver=\"liblinear\",max_iter=200)\n",
    "grid = {\"penalty\" : [\"l1\",\"l2\"], \"C\" : np.arange(10,100,5)}\n",
    "log_reg_cv = GridSearchCV(log_reg, grid, cv = 5)\n",
    "log_reg_cv.fit(tr[cls],tr['death_period'])\n",
    "print(\"Tuned hyperparameter: {}\".format(log_reg_cv.best_params_))\n",
    "print(\"Best score: {}\".format(log_reg_cv.best_score_))"
   ]
  },
  {
   "cell_type": "code",
   "execution_count": 69,
   "metadata": {},
   "outputs": [
    {
     "data": {
      "text/plain": [
       "LogisticRegression(C=30, penalty='l1', solver='liblinear')"
      ]
     },
     "execution_count": 69,
     "metadata": {},
     "output_type": "execute_result"
    }
   ],
   "source": [
    "logreg_best = LogisticRegression(C = 30, penalty = \"l1\",solver = \"liblinear\")\n",
    "logreg_best.fit(tr[cls],tr['death_period'])\n",
    "\n"
   ]
  },
  {
   "cell_type": "code",
   "execution_count": 51,
   "metadata": {},
   "outputs": [],
   "source": [
    "probs = logreg_best.predict_proba(ts[cls])[:,1]"
   ]
  },
  {
   "cell_type": "code",
   "execution_count": 73,
   "metadata": {},
   "outputs": [],
   "source": [
    "y_test_preds = logreg_best.predict_proba(ts[cls])[:,1]"
   ]
  },
  {
   "cell_type": "code",
   "execution_count": 61,
   "metadata": {},
   "outputs": [],
   "source": [
    "fpr,tpr,thresholds = roc_curve(ts['death_period'],probs)\n",
    "#auc(fpr,tpr)\n"
   ]
  },
  {
   "cell_type": "code",
   "execution_count": 74,
   "metadata": {},
   "outputs": [],
   "source": [
    "\n",
    "fpr_test, tpr_test, thresholds_tets = roc_curve(ts['death_period'], y_test_preds)\n"
   ]
  },
  {
   "cell_type": "code",
   "execution_count": 76,
   "metadata": {},
   "outputs": [],
   "source": [
    "def calc_accuracy(y_actual, y_pred, thresh):\n",
    "    # this function calculates the accuracy with probability threshold at thresh\n",
    "    return (sum((y_pred > thresh) & (y_actual == 1))+sum((y_pred < thresh) & (y_actual == 0))) /len(y_actual)\n",
    "\n",
    "def calc_recall(y_actual, y_pred, thresh):\n",
    "    # calculates the recall\n",
    "    return sum((y_pred > thresh) & (y_actual == 1)) /sum(y_actual)\n",
    "\n",
    "def calc_precision(y_actual, y_pred, thresh):\n",
    "    # calculates the precision\n",
    "    return sum((y_pred > thresh) & (y_actual == 1)) /sum(y_pred > thresh)\n",
    "\n",
    "def calc_specificity(y_actual, y_pred, thresh):\n",
    "    # calculates specificity\n",
    "    return sum((y_pred < thresh) & (y_actual == 0)) /sum(y_actual ==0)\n",
    "\n",
    "def calc_prevalence(y_actual):\n",
    "    # calculates prevalence\n",
    "    return sum((y_actual == 1)) /len(y_actual)"
   ]
  },
  {
   "cell_type": "code",
   "execution_count": null,
   "metadata": {},
   "outputs": [],
   "source": [
    "thresh = 0.3\n",
    "auc_test = roc_auc_score(ts['death_period'], y_test_preds)\n",
    "print('Test AUC:%.3f'%auc_test)\n",
    "print('Test accuracy:%.3f'%calc_accuracy(ts['death_period'], y_test_preds,thresh))\n",
    "print('Test recall:%.3f'%calc_recall(ts['death_period'], y_test_preds,thresh))\n",
    "print('Test precision:%.3f'%calc_precision(ts['death_period'], y_test_preds,thresh))\n",
    "print('Test specificity:%.3f'%calc_specificity(ts['death_period'], y_test_preds,thresh))\n",
    "\n",
    "print('Test prevalence:%.3f'%calc_prevalence(ts['death_period']))\n",
    "\n",
    "\n",
    "\n",
    "plt.plot(fpr_test, tpr_test,'b-',label = 'Test AUC: %.2f'%auc_test)\n",
    "plt.plot([0,1],[0,1],'-k')\n",
    "plt.xlabel('False Positive Rate')\n",
    "plt.ylabel('True Positive Rate')\n",
    "plt.legend()\n",
    "plt.show()"
   ]
  },
  {
   "cell_type": "code",
   "execution_count": 62,
   "metadata": {},
   "outputs": [
    {
     "data": {
      "image/png": "[encoded data removed]",
      "text/plain": [
       "<Figure size 432x288 with 1 Axes>"
      ]
     },
     "metadata": {
      "needs_background": "light"
     },
     "output_type": "display_data"
    }
   ],
   "source": [
    "plt.figure()\n",
    "plt.plot(fpr,tpr)\n",
    "plt.plot([0,1],[0,1],'r--')\n",
    "plt.xlabel('False Positive Rate')\n",
    "plt.ylabel('True Positive Rate')\n",
    "plt.title('Receiver Operating Curve')\n",
    "plt.show()"
   ]
  },
  {
   "cell_type": "code",
   "execution_count": 125,
   "metadata": {},
   "outputs": [],
   "source": [
    "\n",
    "parameter_optimizationR={'criterion':('gini','entropy'),\n",
    "                       'max_depth':(1,3,5,7,10), 'max_features':('auto','log2'),'n_estimators':(10,20,30,50,70)}\n",
    "randomforest_gridcv=GridSearchCV(RandomForestClassifier(),parameter_optimizationR)"
   ]
  },
  {
   "cell_type": "code",
   "execution_count": 168,
   "metadata": {},
   "outputs": [
    {
     "name": "stdout",
     "output_type": "stream",
     "text": [
      "Tuned hyperparameter: {'criterion': 'gini', 'max_depth': 10, 'max_features': 'auto', 'n_estimators': 70}\n",
      "Best score: 0.8386581109985366\n"
     ]
    }
   ],
   "source": [
    "\n",
    "randomforest_gridcv.fit(tr[cls],tr['death_period'])\n",
    "\n",
    "print(\"Tuned hyperparameter: {}\".format(randomforest_gridcv.best_params_))\n",
    "print(\"Best score: {}\".format(randomforest_gridcv.best_score_))"
   ]
  },
  {
   "cell_type": "code",
   "execution_count": 172,
   "metadata": {},
   "outputs": [],
   "source": [
    "rf_best = RandomForestClassifier(n_estimators = 70,max_depth = 10,max_features = 'auto',criterion = 'gini')\n",
    "rf_best.fit(tr[cls],tr['death_period'])\n",
    "probs = rf_best.predict_proba(ts[cls])[:,1]\n",
    "fpr2,tpr2,thresholds = roc_curve(ts['death_period'],probs)\n",
    "#auc(fpr2,tpr2)"
   ]
  },
  {
   "cell_type": "code",
   "execution_count": 173,
   "metadata": {},
   "outputs": [],
   "source": [
    "y_test_preds =  rf_best.predict_proba(ts[cls])[:,1]"
   ]
  },
  {
   "cell_type": "code",
   "execution_count": 176,
   "metadata": {},
   "outputs": [
    {
     "name": "stdout",
     "output_type": "stream",
     "text": [
      "Test AUC:0.812\n",
      "Test accuracy:0.725\n",
      "Test recall:0.545\n",
      "Test precision:0.429\n",
      "Test specificity:0.779\n",
      "Test prevalence:0.233\n"
     ]
    },
    {
     "data": {
      "image/png": "[encoded data removed]",
      "text/plain": [
       "<Figure size 432x288 with 1 Axes>"
      ]
     },
     "metadata": {
      "needs_background": "light"
     },
     "output_type": "display_data"
    }
   ],
   "source": [
    "thresh = 0.25\n",
    "auc_test = roc_auc_score(ts['death_period'], y_test_preds)\n",
    "print('Test AUC:%.3f'%auc_test)\n",
    "print('Test accuracy:%.3f'%calc_accuracy(ts['death_period'], y_test_preds,thresh))\n",
    "print('Test recall:%.3f'%calc_recall(ts['death_period'], y_test_preds,thresh))\n",
    "print('Test precision:%.3f'%calc_precision(ts['death_period'], y_test_preds,thresh))\n",
    "print('Test specificity:%.3f'%calc_specificity(ts['death_period'], y_test_preds,thresh))\n",
    "\n",
    "print('Test prevalence:%.3f'%calc_prevalence(ts['death_period']))\n",
    "\n",
    "\n",
    "\n",
    "plt.plot(fpr_test, tpr_test,'b-',label = 'Test AUC: %.2f'%auc_test)\n",
    "plt.plot([0,1],[0,1],'-k')\n",
    "plt.xlabel('False Positive Rate')\n",
    "plt.ylabel('True Positive Rate')\n",
    "plt.legend()\n",
    "plt.show()"
   ]
  },
  {
   "cell_type": "code",
   "execution_count": 153,
   "metadata": {},
   "outputs": [],
   "source": [
    "#gdb.feature_importances_\n",
    "res = pd.DataFrame()\n",
    "res['columns'] = tr[cls].columns.tolist()\n",
    "res['vals'] = rf_best.feature_importances_\n",
    "res = res.sort_values('vals',ascending = False)"
   ]
  },
  {
   "cell_type": "code",
   "execution_count": 154,
   "metadata": {},
   "outputs": [
    {
     "name": "stderr",
     "output_type": "stream",
     "text": [
      "No handles with labels found to put in legend.\n"
     ]
    },
    {
     "data": {
      "image/png": "[encoded data removed]",
      "text/plain": [
       "<Figure size 432x288 with 1 Axes>"
      ]
     },
     "metadata": {
      "needs_background": "light"
     },
     "output_type": "display_data"
    }
   ],
   "source": [
    "import matplotlib.pyplot as plt\n",
    "import seaborn as sns\n",
    "%matplotlib inline\n",
    "# Creating a bar plot\n",
    "sns.barplot(x=\"vals\", y= \"columns\", data = res[:20])\n",
    "# Add labels to your graph\n",
    "plt.xlabel('Feature Importance Score')\n",
    "plt.ylabel('Features')\n",
    "plt.title(\"Visualizing Important Features\")\n",
    "plt.legend()\n",
    "plt.show()"
   ]
  },
  {
   "cell_type": "markdown",
   "metadata": {},
   "source": [
    "## Gradient Boosting Without Tuning"
   ]
  },
  {
   "cell_type": "code",
   "execution_count": 89,
   "metadata": {},
   "outputs": [],
   "source": [
    "from sklearn.ensemble import GradientBoostingClassifier\n",
    "my_random_state=42\n",
    "gdb= GradientBoostingClassifier(random_state=my_random_state)\n",
    "my_random_state=42\n",
    "gdb.fit(tr[cls],tr['death_period'])\n",
    "model = gdb\n"
   ]
  },
  {
   "cell_type": "code",
   "execution_count": null,
   "metadata": {},
   "outputs": [],
   "source": [
    "y_test_preds = model.predict_proba(ts[cls])[:,1]"
   ]
  },
  {
   "cell_type": "code",
   "execution_count": 90,
   "metadata": {},
   "outputs": [
    {
     "name": "stdout",
     "output_type": "stream",
     "text": [
      "Test AUC:0.796\n",
      "Test accuracy:0.801\n",
      "Test recall:0.164\n",
      "Test precision:0.900\n",
      "Test specificity:0.994\n",
      "Test prevalence:0.233\n"
     ]
    },
    {
     "data": {
      "image/png": "[encoded data removed]",
      "text/plain": [
       "<Figure size 432x288 with 1 Axes>"
      ]
     },
     "metadata": {
      "needs_background": "light"
     },
     "output_type": "display_data"
    }
   ],
   "source": [
    "thresh = 0.5\n",
    "auc_test = roc_auc_score(ts['death_period'], y_test_preds)\n",
    "print('Test AUC:%.3f'%auc_test)\n",
    "print('Test accuracy:%.3f'%calc_accuracy(ts['death_period'], y_test_preds,thresh))\n",
    "print('Test recall:%.3f'%calc_recall(ts['death_period'], y_test_preds,thresh))\n",
    "print('Test precision:%.3f'%calc_precision(ts['death_period'], y_test_preds,thresh))\n",
    "print('Test specificity:%.3f'%calc_specificity(ts['death_period'], y_test_preds,thresh))\n",
    "\n",
    "print('Test prevalence:%.3f'%calc_prevalence(ts['death_period']))\n",
    "\n",
    "\n",
    "\n",
    "plt.plot(fpr_test, tpr_test,'b-',label = 'Test AUC: %.2f'%auc_test)\n",
    "plt.plot([0,1],[0,1],'-k')\n",
    "plt.xlabel('False Positive Rate')\n",
    "plt.ylabel('True Positive Rate')\n",
    "plt.legend()\n",
    "plt.show()"
   ]
  },
  {
   "cell_type": "markdown",
   "metadata": {},
   "source": [
    "# Gradient Boosting with Tuning "
   ]
  },
  {
   "cell_type": "code",
   "execution_count": 200,
   "metadata": {},
   "outputs": [
    {
     "ename": "KeyboardInterrupt",
     "evalue": "",
     "output_type": "error",
     "traceback": [
      "\u001b[1;31m---------------------------------------------------------------------------\u001b[0m",
      "\u001b[1;31mKeyboardInterrupt\u001b[0m                         Traceback (most recent call last)",
      "\u001b[1;32m<ipython-input-200-177c4f5f8996>\u001b[0m in \u001b[0;36m<module>\u001b[1;34m\u001b[0m\n\u001b[0;32m     16\u001b[0m \u001b[1;33m\u001b[0m\u001b[0m\n\u001b[0;32m     17\u001b[0m \u001b[1;31m# Fit the grid search object to the training data and find the optimal parameters\u001b[0m\u001b[1;33m\u001b[0m\u001b[1;33m\u001b[0m\u001b[1;33m\u001b[0m\u001b[0m\n\u001b[1;32m---> 18\u001b[1;33m \u001b[0mgrid_fit\u001b[0m \u001b[1;33m=\u001b[0m \u001b[0mgrid_obj\u001b[0m\u001b[1;33m.\u001b[0m\u001b[0mfit\u001b[0m\u001b[1;33m(\u001b[0m\u001b[0mtr\u001b[0m\u001b[1;33m[\u001b[0m\u001b[0mcls\u001b[0m\u001b[1;33m]\u001b[0m\u001b[1;33m,\u001b[0m\u001b[0mtr\u001b[0m\u001b[1;33m[\u001b[0m\u001b[1;34m'death_period'\u001b[0m\u001b[1;33m]\u001b[0m\u001b[1;33m)\u001b[0m\u001b[1;33m\u001b[0m\u001b[1;33m\u001b[0m\u001b[0m\n\u001b[0m\u001b[0;32m     19\u001b[0m \u001b[1;33m\u001b[0m\u001b[0m\n\u001b[0;32m     20\u001b[0m \u001b[1;31m# Get the estimator\u001b[0m\u001b[1;33m\u001b[0m\u001b[1;33m\u001b[0m\u001b[1;33m\u001b[0m\u001b[0m\n",
      "\u001b[1;32m~\\AppData\\Local\\Continuum\\anaconda3\\lib\\site-packages\\sklearn\\utils\\validation.py\u001b[0m in \u001b[0;36minner_f\u001b[1;34m(*args, **kwargs)\u001b[0m\n\u001b[0;32m     71\u001b[0m                           FutureWarning)\n\u001b[0;32m     72\u001b[0m         \u001b[0mkwargs\u001b[0m\u001b[1;33m.\u001b[0m\u001b[0mupdate\u001b[0m\u001b[1;33m(\u001b[0m\u001b[1;33m{\u001b[0m\u001b[0mk\u001b[0m\u001b[1;33m:\u001b[0m \u001b[0marg\u001b[0m \u001b[1;32mfor\u001b[0m \u001b[0mk\u001b[0m\u001b[1;33m,\u001b[0m \u001b[0marg\u001b[0m \u001b[1;32min\u001b[0m \u001b[0mzip\u001b[0m\u001b[1;33m(\u001b[0m\u001b[0msig\u001b[0m\u001b[1;33m.\u001b[0m\u001b[0mparameters\u001b[0m\u001b[1;33m,\u001b[0m \u001b[0margs\u001b[0m\u001b[1;33m)\u001b[0m\u001b[1;33m}\u001b[0m\u001b[1;33m)\u001b[0m\u001b[1;33m\u001b[0m\u001b[1;33m\u001b[0m\u001b[0m\n\u001b[1;32m---> 73\u001b[1;33m         \u001b[1;32mreturn\u001b[0m \u001b[0mf\u001b[0m\u001b[1;33m(\u001b[0m\u001b[1;33m**\u001b[0m\u001b[0mkwargs\u001b[0m\u001b[1;33m)\u001b[0m\u001b[1;33m\u001b[0m\u001b[1;33m\u001b[0m\u001b[0m\n\u001b[0m\u001b[0;32m     74\u001b[0m     \u001b[1;32mreturn\u001b[0m \u001b[0minner_f\u001b[0m\u001b[1;33m\u001b[0m\u001b[1;33m\u001b[0m\u001b[0m\n\u001b[0;32m     75\u001b[0m \u001b[1;33m\u001b[0m\u001b[0m\n",
      "\u001b[1;32m~\\AppData\\Local\\Continuum\\anaconda3\\lib\\site-packages\\sklearn\\model_selection\\_search.py\u001b[0m in \u001b[0;36mfit\u001b[1;34m(self, X, y, groups, **fit_params)\u001b[0m\n\u001b[0;32m    734\u001b[0m                 \u001b[1;32mreturn\u001b[0m \u001b[0mresults\u001b[0m\u001b[1;33m\u001b[0m\u001b[1;33m\u001b[0m\u001b[0m\n\u001b[0;32m    735\u001b[0m \u001b[1;33m\u001b[0m\u001b[0m\n\u001b[1;32m--> 736\u001b[1;33m             \u001b[0mself\u001b[0m\u001b[1;33m.\u001b[0m\u001b[0m_run_search\u001b[0m\u001b[1;33m(\u001b[0m\u001b[0mevaluate_candidates\u001b[0m\u001b[1;33m)\u001b[0m\u001b[1;33m\u001b[0m\u001b[1;33m\u001b[0m\u001b[0m\n\u001b[0m\u001b[0;32m    737\u001b[0m \u001b[1;33m\u001b[0m\u001b[0m\n\u001b[0;32m    738\u001b[0m         \u001b[1;31m# For multi-metric evaluation, store the best_index_, best_params_ and\u001b[0m\u001b[1;33m\u001b[0m\u001b[1;33m\u001b[0m\u001b[1;33m\u001b[0m\u001b[0m\n",
      "\u001b[1;32m~\\AppData\\Local\\Continuum\\anaconda3\\lib\\site-packages\\sklearn\\model_selection\\_search.py\u001b[0m in \u001b[0;36m_run_search\u001b[1;34m(self, evaluate_candidates)\u001b[0m\n\u001b[0;32m   1186\u001b[0m     \u001b[1;32mdef\u001b[0m \u001b[0m_run_search\u001b[0m\u001b[1;33m(\u001b[0m\u001b[0mself\u001b[0m\u001b[1;33m,\u001b[0m \u001b[0mevaluate_candidates\u001b[0m\u001b[1;33m)\u001b[0m\u001b[1;33m:\u001b[0m\u001b[1;33m\u001b[0m\u001b[1;33m\u001b[0m\u001b[0m\n\u001b[0;32m   1187\u001b[0m         \u001b[1;34m\"\"\"Search all candidates in param_grid\"\"\"\u001b[0m\u001b[1;33m\u001b[0m\u001b[1;33m\u001b[0m\u001b[0m\n\u001b[1;32m-> 1188\u001b[1;33m         \u001b[0mevaluate_candidates\u001b[0m\u001b[1;33m(\u001b[0m\u001b[0mParameterGrid\u001b[0m\u001b[1;33m(\u001b[0m\u001b[0mself\u001b[0m\u001b[1;33m.\u001b[0m\u001b[0mparam_grid\u001b[0m\u001b[1;33m)\u001b[0m\u001b[1;33m)\u001b[0m\u001b[1;33m\u001b[0m\u001b[1;33m\u001b[0m\u001b[0m\n\u001b[0m\u001b[0;32m   1189\u001b[0m \u001b[1;33m\u001b[0m\u001b[0m\n\u001b[0;32m   1190\u001b[0m \u001b[1;33m\u001b[0m\u001b[0m\n",
      "\u001b[1;32m~\\AppData\\Local\\Continuum\\anaconda3\\lib\\site-packages\\sklearn\\model_selection\\_search.py\u001b[0m in \u001b[0;36mevaluate_candidates\u001b[1;34m(candidate_params)\u001b[0m\n\u001b[0;32m    713\u001b[0m                                \u001b[1;32mfor\u001b[0m \u001b[0mparameters\u001b[0m\u001b[1;33m,\u001b[0m \u001b[1;33m(\u001b[0m\u001b[0mtrain\u001b[0m\u001b[1;33m,\u001b[0m \u001b[0mtest\u001b[0m\u001b[1;33m)\u001b[0m\u001b[1;33m\u001b[0m\u001b[1;33m\u001b[0m\u001b[0m\n\u001b[0;32m    714\u001b[0m                                in product(candidate_params,\n\u001b[1;32m--> 715\u001b[1;33m                                           cv.split(X, y, groups)))\n\u001b[0m\u001b[0;32m    716\u001b[0m \u001b[1;33m\u001b[0m\u001b[0m\n\u001b[0;32m    717\u001b[0m                 \u001b[1;32mif\u001b[0m \u001b[0mlen\u001b[0m\u001b[1;33m(\u001b[0m\u001b[0mout\u001b[0m\u001b[1;33m)\u001b[0m \u001b[1;33m<\u001b[0m \u001b[1;36m1\u001b[0m\u001b[1;33m:\u001b[0m\u001b[1;33m\u001b[0m\u001b[1;33m\u001b[0m\u001b[0m\n",
      "\u001b[1;32m~\\AppData\\Local\\Continuum\\anaconda3\\lib\\site-packages\\joblib\\parallel.py\u001b[0m in \u001b[0;36m__call__\u001b[1;34m(self, iterable)\u001b[0m\n\u001b[0;32m    932\u001b[0m \u001b[1;33m\u001b[0m\u001b[0m\n\u001b[0;32m    933\u001b[0m             \u001b[1;32mwith\u001b[0m \u001b[0mself\u001b[0m\u001b[1;33m.\u001b[0m\u001b[0m_backend\u001b[0m\u001b[1;33m.\u001b[0m\u001b[0mretrieval_context\u001b[0m\u001b[1;33m(\u001b[0m\u001b[1;33m)\u001b[0m\u001b[1;33m:\u001b[0m\u001b[1;33m\u001b[0m\u001b[1;33m\u001b[0m\u001b[0m\n\u001b[1;32m--> 934\u001b[1;33m                 \u001b[0mself\u001b[0m\u001b[1;33m.\u001b[0m\u001b[0mretrieve\u001b[0m\u001b[1;33m(\u001b[0m\u001b[1;33m)\u001b[0m\u001b[1;33m\u001b[0m\u001b[1;33m\u001b[0m\u001b[0m\n\u001b[0m\u001b[0;32m    935\u001b[0m             \u001b[1;31m# Make sure that we get a last message telling us we are done\u001b[0m\u001b[1;33m\u001b[0m\u001b[1;33m\u001b[0m\u001b[1;33m\u001b[0m\u001b[0m\n\u001b[0;32m    936\u001b[0m             \u001b[0melapsed_time\u001b[0m \u001b[1;33m=\u001b[0m \u001b[0mtime\u001b[0m\u001b[1;33m.\u001b[0m\u001b[0mtime\u001b[0m\u001b[1;33m(\u001b[0m\u001b[1;33m)\u001b[0m \u001b[1;33m-\u001b[0m \u001b[0mself\u001b[0m\u001b[1;33m.\u001b[0m\u001b[0m_start_time\u001b[0m\u001b[1;33m\u001b[0m\u001b[1;33m\u001b[0m\u001b[0m\n",
      "\u001b[1;32m~\\AppData\\Local\\Continuum\\anaconda3\\lib\\site-packages\\joblib\\parallel.py\u001b[0m in \u001b[0;36mretrieve\u001b[1;34m(self)\u001b[0m\n\u001b[0;32m    831\u001b[0m             \u001b[1;32mtry\u001b[0m\u001b[1;33m:\u001b[0m\u001b[1;33m\u001b[0m\u001b[1;33m\u001b[0m\u001b[0m\n\u001b[0;32m    832\u001b[0m                 \u001b[1;32mif\u001b[0m \u001b[0mgetattr\u001b[0m\u001b[1;33m(\u001b[0m\u001b[0mself\u001b[0m\u001b[1;33m.\u001b[0m\u001b[0m_backend\u001b[0m\u001b[1;33m,\u001b[0m \u001b[1;34m'supports_timeout'\u001b[0m\u001b[1;33m,\u001b[0m \u001b[1;32mFalse\u001b[0m\u001b[1;33m)\u001b[0m\u001b[1;33m:\u001b[0m\u001b[1;33m\u001b[0m\u001b[1;33m\u001b[0m\u001b[0m\n\u001b[1;32m--> 833\u001b[1;33m                     \u001b[0mself\u001b[0m\u001b[1;33m.\u001b[0m\u001b[0m_output\u001b[0m\u001b[1;33m.\u001b[0m\u001b[0mextend\u001b[0m\u001b[1;33m(\u001b[0m\u001b[0mjob\u001b[0m\u001b[1;33m.\u001b[0m\u001b[0mget\u001b[0m\u001b[1;33m(\u001b[0m\u001b[0mtimeout\u001b[0m\u001b[1;33m=\u001b[0m\u001b[0mself\u001b[0m\u001b[1;33m.\u001b[0m\u001b[0mtimeout\u001b[0m\u001b[1;33m)\u001b[0m\u001b[1;33m)\u001b[0m\u001b[1;33m\u001b[0m\u001b[1;33m\u001b[0m\u001b[0m\n\u001b[0m\u001b[0;32m    834\u001b[0m                 \u001b[1;32melse\u001b[0m\u001b[1;33m:\u001b[0m\u001b[1;33m\u001b[0m\u001b[1;33m\u001b[0m\u001b[0m\n\u001b[0;32m    835\u001b[0m                     \u001b[0mself\u001b[0m\u001b[1;33m.\u001b[0m\u001b[0m_output\u001b[0m\u001b[1;33m.\u001b[0m\u001b[0mextend\u001b[0m\u001b[1;33m(\u001b[0m\u001b[0mjob\u001b[0m\u001b[1;33m.\u001b[0m\u001b[0mget\u001b[0m\u001b[1;33m(\u001b[0m\u001b[1;33m)\u001b[0m\u001b[1;33m)\u001b[0m\u001b[1;33m\u001b[0m\u001b[1;33m\u001b[0m\u001b[0m\n",
      "\u001b[1;32m~\\AppData\\Local\\Continuum\\anaconda3\\lib\\site-packages\\joblib\\_parallel_backends.py\u001b[0m in \u001b[0;36mwrap_future_result\u001b[1;34m(future, timeout)\u001b[0m\n\u001b[0;32m    519\u001b[0m         AsyncResults.get from multiprocessing.\"\"\"\n\u001b[0;32m    520\u001b[0m         \u001b[1;32mtry\u001b[0m\u001b[1;33m:\u001b[0m\u001b[1;33m\u001b[0m\u001b[1;33m\u001b[0m\u001b[0m\n\u001b[1;32m--> 521\u001b[1;33m             \u001b[1;32mreturn\u001b[0m \u001b[0mfuture\u001b[0m\u001b[1;33m.\u001b[0m\u001b[0mresult\u001b[0m\u001b[1;33m(\u001b[0m\u001b[0mtimeout\u001b[0m\u001b[1;33m=\u001b[0m\u001b[0mtimeout\u001b[0m\u001b[1;33m)\u001b[0m\u001b[1;33m\u001b[0m\u001b[1;33m\u001b[0m\u001b[0m\n\u001b[0m\u001b[0;32m    522\u001b[0m         \u001b[1;32mexcept\u001b[0m \u001b[0mLokyTimeoutError\u001b[0m\u001b[1;33m:\u001b[0m\u001b[1;33m\u001b[0m\u001b[1;33m\u001b[0m\u001b[0m\n\u001b[0;32m    523\u001b[0m             \u001b[1;32mraise\u001b[0m \u001b[0mTimeoutError\u001b[0m\u001b[1;33m(\u001b[0m\u001b[1;33m)\u001b[0m\u001b[1;33m\u001b[0m\u001b[1;33m\u001b[0m\u001b[0m\n",
      "\u001b[1;32m~\\AppData\\Local\\Continuum\\anaconda3\\lib\\concurrent\\futures\\_base.py\u001b[0m in \u001b[0;36mresult\u001b[1;34m(self, timeout)\u001b[0m\n\u001b[0;32m    425\u001b[0m                 \u001b[1;32mreturn\u001b[0m \u001b[0mself\u001b[0m\u001b[1;33m.\u001b[0m\u001b[0m__get_result\u001b[0m\u001b[1;33m(\u001b[0m\u001b[1;33m)\u001b[0m\u001b[1;33m\u001b[0m\u001b[1;33m\u001b[0m\u001b[0m\n\u001b[0;32m    426\u001b[0m \u001b[1;33m\u001b[0m\u001b[0m\n\u001b[1;32m--> 427\u001b[1;33m             \u001b[0mself\u001b[0m\u001b[1;33m.\u001b[0m\u001b[0m_condition\u001b[0m\u001b[1;33m.\u001b[0m\u001b[0mwait\u001b[0m\u001b[1;33m(\u001b[0m\u001b[0mtimeout\u001b[0m\u001b[1;33m)\u001b[0m\u001b[1;33m\u001b[0m\u001b[1;33m\u001b[0m\u001b[0m\n\u001b[0m\u001b[0;32m    428\u001b[0m \u001b[1;33m\u001b[0m\u001b[0m\n\u001b[0;32m    429\u001b[0m             \u001b[1;32mif\u001b[0m \u001b[0mself\u001b[0m\u001b[1;33m.\u001b[0m\u001b[0m_state\u001b[0m \u001b[1;32min\u001b[0m \u001b[1;33m[\u001b[0m\u001b[0mCANCELLED\u001b[0m\u001b[1;33m,\u001b[0m \u001b[0mCANCELLED_AND_NOTIFIED\u001b[0m\u001b[1;33m]\u001b[0m\u001b[1;33m:\u001b[0m\u001b[1;33m\u001b[0m\u001b[1;33m\u001b[0m\u001b[0m\n",
      "\u001b[1;32m~\\AppData\\Local\\Continuum\\anaconda3\\lib\\threading.py\u001b[0m in \u001b[0;36mwait\u001b[1;34m(self, timeout)\u001b[0m\n\u001b[0;32m    294\u001b[0m         \u001b[1;32mtry\u001b[0m\u001b[1;33m:\u001b[0m    \u001b[1;31m# restore state no matter what (e.g., KeyboardInterrupt)\u001b[0m\u001b[1;33m\u001b[0m\u001b[1;33m\u001b[0m\u001b[0m\n\u001b[0;32m    295\u001b[0m             \u001b[1;32mif\u001b[0m \u001b[0mtimeout\u001b[0m \u001b[1;32mis\u001b[0m \u001b[1;32mNone\u001b[0m\u001b[1;33m:\u001b[0m\u001b[1;33m\u001b[0m\u001b[1;33m\u001b[0m\u001b[0m\n\u001b[1;32m--> 296\u001b[1;33m                 \u001b[0mwaiter\u001b[0m\u001b[1;33m.\u001b[0m\u001b[0macquire\u001b[0m\u001b[1;33m(\u001b[0m\u001b[1;33m)\u001b[0m\u001b[1;33m\u001b[0m\u001b[1;33m\u001b[0m\u001b[0m\n\u001b[0m\u001b[0;32m    297\u001b[0m                 \u001b[0mgotit\u001b[0m \u001b[1;33m=\u001b[0m \u001b[1;32mTrue\u001b[0m\u001b[1;33m\u001b[0m\u001b[1;33m\u001b[0m\u001b[0m\n\u001b[0;32m    298\u001b[0m             \u001b[1;32melse\u001b[0m\u001b[1;33m:\u001b[0m\u001b[1;33m\u001b[0m\u001b[1;33m\u001b[0m\u001b[0m\n",
      "\u001b[1;31mKeyboardInterrupt\u001b[0m: "
     ]
    }
   ],
   "source": [
    "#from sklearn.grid_search import GridSearchCV\n",
    "from sklearn.metrics import fbeta_score,accuracy_score,make_scorer\n",
    "\n",
    "#Initialize the classifier\n",
    "clf = GradientBoostingClassifier(random_state=my_random_state)\n",
    "\n",
    "# Create the parameters list you wish to tune\n",
    "# Multiple parameters were used for optimization. All the parameters that were used for optimization are listed here.\n",
    "parameters = {'max_depth':[None,3,5,8,16],'min_samples_split':[2,4],'max_features':[None,5,10,15,20,30],'min_samples_leaf':[1,5,11,50],'n_estimators':[50,100],'learning_rate':[0.01,0.05,0.1] }\n",
    "\n",
    "# Make an fbeta_score scoring object\n",
    "scorer = make_scorer(fbeta_score, beta=0.5)\n",
    "\n",
    "# Perform grid search on the classifier using 'scorer' as the scoring method\n",
    "grid_obj = GridSearchCV(clf, param_grid=parameters,scoring=scorer,n_jobs=8)\n",
    "\n",
    "# Fit the grid search object to the training data and find the optimal parameters\n",
    "grid_fit = grid_obj.fit(tr[cls],tr['death_period'])\n",
    "\n",
    "# Get the estimator\n",
    "best_clf = grid_fit.best_estimator_\n",
    "\n",
    "# Make predictions using the unoptimized and model\n",
    "predictions = (clf.fit(tr[cls],tr['death_period'])).predict(ts[cls])\n",
    "best_predictions = best_clf.predict(ts[cls])\n",
    "\n"
   ]
  },
  {
   "cell_type": "code",
   "execution_count": 159,
   "metadata": {},
   "outputs": [
    {
     "name": "stdout",
     "output_type": "stream",
     "text": [
      "Unoptimized model\n",
      "------\n",
      "Accuracy score on testing data: 0.8008\n",
      "F-score on testing data: 0.5346\n",
      "Final accuracy score on the testing data: 0.8093\n",
      "Final F-score on the testing data: 0.5556\n"
     ]
    }
   ],
   "source": [
    "print(\"Unoptimized model\\n------\")\n",
    "print(\"Accuracy score on testing data: {:.4f}\".format(accuracy_score(ts['death_period'], predictions)))\n",
    "print(\"F-score on testing data: {:.4f}\".format(fbeta_score(ts['death_period'], predictions, beta = 0.5)))\n",
    "#print \"\\nOptimized Model\\n------\"\n",
    "print(\"Final accuracy score on the testing data: {:.4f}\".format(accuracy_score(ts['death_period'], best_predictions)))\n",
    "print(\"Final F-score on the testing data: {:.4f}\".format(fbeta_score(ts['death_period'], best_predictions, beta = 0.5)))"
   ]
  },
  {
   "cell_type": "code",
   "execution_count": null,
   "metadata": {},
   "outputs": [],
   "source": [
    "#print \"\\nOptimized Model\\n------\"\n",
    "print(\")Final accuracy score on the testing data: {:.4f}\".format(accuracy_score(ts['death_period'], best_predictions)))\n",
    "#print \"Final F-score on the testing data: {:.4f}\".format(fbeta_score(y_test, best_predictions, beta = 0.5))\n",
    "y_test_preds = best_clf.predict_proba(ts[cls])[:,1]\n",
    "thresh = 0.20\n",
    "#auc_test = roc_auc_score(ts['death_period'], y_test_preds)\n",
    "print('Test AUC:%.3f'%auc_test)\n",
    "print('Test accuracy:%.3f'%calc_accuracy(ts['death_period'], y_test_preds,thresh))\n",
    "print('Test recall:%.3f'%calc_recall(ts['death_period'], y_test_preds,thresh))\n",
    "print('Test precision:%.3f'%calc_precision(ts['death_period'], y_test_preds,thresh))\n",
    "print('Test specificity:%.3f'%calc_specificity(ts['death_period'], y_test_preds,thresh))\n",
    "\n",
    "print('Test prevalence:%.3f'%calc_prevalence(ts['death_period']))"
   ]
  },
  {
   "cell_type": "code",
   "execution_count": 113,
   "metadata": {},
   "outputs": [
    {
     "name": "stderr",
     "output_type": "stream",
     "text": [
      "No handles with labels found to put in legend.\n"
     ]
    },
    {
     "data": {
      "image/png": "[encoded data removed]",
      "text/plain": [
       "<Figure size 432x288 with 1 Axes>"
      ]
     },
     "metadata": {},
     "output_type": "display_data"
    }
   ],
   "source": [
    "import seaborn as sns\n",
    "sns.set(style='ticks')\n",
    "sns.set_context(\"notebook\", font_scale=1)\n",
    "sns.set_style(\"darkgrid\")\n",
    "features = tr[cls]\n",
    "feature_importance_df = pd.DataFrame({'feature_name': features.columns, 'feature_importance': clf.feature_importances_})\n",
    "feature_importance_df.sort_values(['feature_importance'],ascending=False,inplace=True)\n",
    "\n",
    "#fig,ax1 = plt.subplots(1, 1,figsize=(24,10),gridspec_kw={'hspace':0.4})\n",
    "\n",
    "sns.barplot(x=\"feature_importance\", y= \"feature_name\", data = feature_importance_df[:20])\n",
    "# Add labels to your graph\n",
    "plt.xlabel('Feature Importance Score')\n",
    "plt.ylabel('Features')\n",
    "plt.title(\"Visualizing Important Features\")\n",
    "plt.legend()\n",
    "plt.show()\n",
    "\n"
   ]
  },
  {
   "cell_type": "code",
   "execution_count": null,
   "metadata": {},
   "outputs": [],
   "source": []
  },
  {
   "cell_type": "code",
   "execution_count": null,
   "metadata": {},
   "outputs": [],
   "source": []
  },
  {
   "cell_type": "code",
   "execution_count": null,
   "metadata": {},
   "outputs": [],
   "source": []
  },
  {
   "cell_type": "code",
   "execution_count": null,
   "metadata": {},
   "outputs": [],
   "source": []
  },
  {
   "cell_type": "code",
   "execution_count": null,
   "metadata": {},
   "outputs": [],
   "source": []
  },
  {
   "cell_type": "code",
   "execution_count": null,
   "metadata": {},
   "outputs": [],
   "source": []
  },
  {
   "cell_type": "code",
   "execution_count": null,
   "metadata": {},
   "outputs": [],
   "source": []
  },
  {
   "cell_type": "code",
   "execution_count": null,
   "metadata": {},
   "outputs": [],
   "source": []
  },
  {
   "cell_type": "code",
   "execution_count": null,
   "metadata": {},
   "outputs": [],
   "source": []
  },
  {
   "cell_type": "code",
   "execution_count": null,
   "metadata": {},
   "outputs": [],
   "source": []
  },
  {
   "cell_type": "code",
   "execution_count": null,
   "metadata": {},
   "outputs": [],
   "source": []
  },
  {
   "cell_type": "markdown",
   "metadata": {},
   "source": [
    "## Feature Selection"
   ]
  },
  {
   "cell_type": "code",
   "execution_count": null,
   "metadata": {},
   "outputs": [],
   "source": [
    "from sklearn.feature_selection import mutual_info_classif\n",
    "from sklearn.feature_selection import chi2\n",
    "mic = mutual_info_classif(tr[cls], tr['death_period'])\n",
    "mic\n",
    "s = pd.DataFrame()\n",
    "s['att'] = cls\n",
    "s['mic'] = mic\n",
    "chi2 = chi2(tr[cls],tr['death_period'])\n",
    "s['chi2'] = chi2[0]"
   ]
  },
  {
   "cell_type": "code",
   "execution_count": null,
   "metadata": {},
   "outputs": [],
   "source": [
    "rf200=RandomForestClassifier(n_estimators=100)\n",
    "Auc =[]\n",
    "No_of_Attributes =[]\n",
    "for n in range(5, 100, 5):\n",
    "    cols_sel_mic=s.sort_values('mic', ascending=False)['att'][:n]\n",
    "    rf200.fit(tr[cols_sel_mic],tr['death_period'])\n",
    "    probs_rf200=rf200.predict_proba(ts[cols_sel_mic])\n",
    "    fpr_rf200, tpr_rf200, thresholds_rf200 = roc_curve(ts['death_period'],probs_rf200[:,1])\n",
    "    auc_rf200=auc(fpr_rf200,tpr_rf200)\n",
    "    Auc.append(auc_rf200)\n",
    "    No_of_Attributes.append(n)\n",
    "    plt.title('Random Forest')\n",
    "    plt.plot(fpr_rf200, tpr_rf200,label =\" {} Number of attributes\".format(n))\n",
    "    plt.legend(loc='Right')"
   ]
  },
  {
   "cell_type": "code",
   "execution_count": null,
   "metadata": {},
   "outputs": [],
   "source": [
    "aucperf= pd.DataFrame({'No_of_Attributes':No_of_Attributes,'Auc':Auc})\n",
    "aucperf.plot.scatter(x='No_of_Attributes',y='Auc',c='DarkBlue',title = 'Random Forest')"
   ]
  }
 ],
 "metadata": {
  "kernelspec": {
   "display_name": "Python 3",
   "language": "python",
   "name": "python3"
  },
  "language_info": {
   "codemirror_mode": {
    "name": "ipython",
    "version": 3
   },
   "file_extension": ".py",
   "mimetype": "text/x-python",
   "name": "python",
   "nbconvert_exporter": "python",
   "pygments_lexer": "ipython3",
   "version": "3.7.3"
  }
 },
 "nbformat": 4,
 "nbformat_minor": 1
}
